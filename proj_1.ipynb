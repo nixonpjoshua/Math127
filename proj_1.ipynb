{
 "cells": [
  {
   "cell_type": "markdown",
   "metadata": {},
   "source": [
    "# Project 1 Phylogenetics"
   ]
  },
  {
   "cell_type": "markdown",
   "metadata": {},
   "source": [
    "## Outline"
   ]
  },
  {
   "cell_type": "markdown",
   "metadata": {},
   "source": [
    "1. The Big Picture Introduction and Overview\n",
    "2. Distance functions\n",
    "    * Jukes Cantor\n",
    "    * Kimura-2\n",
    "    * Kimura-3\n",
    "3. UPGMA algorithm\n",
    "4. Neighbor Joining Algorithm\n",
    "5. Mutate function for testing\n",
    "6. Comparisons with Data\n",
    "7. Conclusion"
   ]
  },
  {
   "cell_type": "markdown",
   "metadata": {},
   "source": [
    "### \"The Big Picture\" Introduction and Overview"
   ]
  },
  {
   "cell_type": "markdown",
   "metadata": {},
   "source": [
    "This project investigates a few of the many mathematical and computational techniques used to model evolution between different species. The algorithms compared were $\\textbf{UPGMA (Unweighted Pair Group Method with Arithmetic Mean)}$ and $\\textbf{Neighbor-Joining}$. Further, these phylogenetic inference algorithms yielded trees according to evolution simulated by these three different distance methods: the $\\textbf{Jukes-Cantor}$, $\\textbf{Kimura-2}$, and $\\textbf{Kimura-3}$ Markov models (Markov models are models  with the property that changes imposed on the future state of the system is dependent on only present state and not the many previous states before). \n",
    "\n",
    " To begin, evolution was simulated using a function, $\\texttt{mutate (A, t, seq)}$ , on sample DNA sequences. This function \"mutated\" the aforementioned sequence according to time and the individual parameters given by each distance method. For instance, when using the function $\\texttt{mutate()}$ to simulate evolution according to the Jukes-Cantor model, Jukes-Cantor distances between the ancestor and progeny sequences were computed and compared to the genuine distances for accuracy. Once these distances were calculated, phylogenetic inference algorithms, such as the neighbor-joining algorithm, were implemented to produce phylogenetic trees. These trees, like the distances, were then compared to the proven, legitimate tree. This was extended by simulating evolution according to the different distance methods and then implementing the two inference algorithms on both to get the best tree.\n",
    "\n",
    "The first and simplest mathematical model used was the $\\textbf{Jukes-Cantor}$ model. The Jukes-Cantor model begins by assuming all bases (nucleotides) within a DNA sequence occur with equal probability: $\\frac{1}{4}$. Secondly, it also assumes that the conditional probabilities of the observable base substitutions are the same. This means the likelihood of the purine (Adenine($\\textbf{A}$) and Guanine($\\textbf{G}$) being substituted by a pyrimidine (Cytosine($\\textbf{C}$) and Thymine($\\textbf{T}$)) has equal probability. The pitfall of the second assumption is that sort of substitution is highly unlikely because of the steric hindrance and chemical properties between their molecular structures. Lastly, this model--and the other ones as well--adopts the $\\textit{molecular clock}$ assumption which presumes that DNA mutation rates of observable substitutions, $\\alpha$, are constant. Realistically, the rates may not be constant, since it has been shown that the rates can be dependent on whether DNA is noncoding or coding and can change based upon the time and location of a particular sequence within DNA. Despite making many assumptions, this model was useful in that it allows preliminary estimation calculations to be made. \n",
    "\n",
    "Unlike the Jukes-Cantor model, the $\\textbf{Kimura}$ models consider more than one parameter to compute the distances between ancestor and progeny DNA sequences. In addition to mutation rates, the $\\textbf{Kimura-2}$ model incorporates different rates of transitions, $\\beta$, (e.g.purine $\\longleftrightarrow$ purine) and different rates of transversions, $\\gamma$ (e.g.purine $\\longleftrightarrow$ pyrimidine). Biologically, there are two types of transversions: an exchange between one-ring and two-ring structures.The $\\textbf{Kimura-3}$ takes this into account by considering a third parameter, $\\delta$, for the rates of two-ring transversions. Distances between initial and final sequences were compared using both models that were used in the phylogenetic inference algorithms.\n",
    "\n",
    "The next area of comparison is based upon the difference between two phylogenetic inference algorithms: Neighbor-Joining and UPGMA. So in total we will have 6 different models that we will compare with one another.\n"
   ]
  },
  {
   "cell_type": "markdown",
   "metadata": {
    "collapsed": true
   },
   "source": [
    "## Distance Functions"
   ]
  },
  {
   "cell_type": "markdown",
   "metadata": {},
   "source": [
    "### *Jukes-Cantor Distance*"
   ]
  },
  {
   "cell_type": "code",
   "execution_count": 23,
   "metadata": {
    "collapsed": true
   },
   "outputs": [],
   "source": [
    "import numpy as np\n",
    "from numpy import linalg as LA"
   ]
  },
  {
   "cell_type": "code",
   "execution_count": 24,
   "metadata": {
    "collapsed": true
   },
   "outputs": [],
   "source": [
    "\"\"\"\n",
    "Constructs a Jukes Cantor transition Matrix with a specified alpha level a\n",
    "Args:\n",
    "     a: alpha level for the Jukes Cantor Matrix\n",
    "Returns:\n",
    "     Transition Matrix corresponding to the Jukes-Cantor Algorithm\n",
    "\"\"\"\n",
    "\n",
    "def JC_matrix(a):\n",
    "\n",
    "    \"\"\"\n",
    "    >>> np.trace(JC_matrix(.25))\n",
    "    3.0\n",
    "    \"\"\"\n",
    "\n",
    "    b = a/3\n",
    "    M = np.array([[1-a, b, b, b],\n",
    "                 [b, 1-a, b, b],\n",
    "                 [b, b, 1-a, b],\n",
    "                 [b, b, b, 1-a]])\n",
    "    return M\n",
    "\n",
    "\n",
    "\"\"\"\n",
    "Computes proportion of differing letters from two strings of the same size\n",
    "Args:\n",
    "    s1: string 1\n",
    "    s2: string 2 \n",
    "Returns:\n",
    "    Throws error if the strings are not of the same length\n",
    "    Else, returns proportion (in between 0 and 1) of differing letters\n",
    "\"\"\"\n",
    "\n",
    "def prop_diff(s1,s2):\n",
    "    # \"\"\" LOOK curious as to why this isn't working\n",
    "    # >>> prop_diff(\"ATTGAC\",\"ATGGCC\") \n",
    "    # float(2)/float(6)  \n",
    "    # \"\"\"\n",
    "    if len(s1) != len(s2):\n",
    "        raise ValueError(\"Cannot compute compare DNA sequences of differing lenth\")\n",
    "    diffs = 0\n",
    "    i     = 0\n",
    "    while i < len(s1):\n",
    "        if s1[i] != s2[i]:\n",
    "            diffs += 1\n",
    "        i += 1\n",
    "    return float(diffs)/float(len(s1))\n",
    "\n",
    "\"\"\"\n",
    "Computes the JC distance between two sequences.\n",
    "Args:\n",
    "    s1: string 1\n",
    "    s2: string 2 \n",
    "Returns:\n",
    "    Throws error if the strings are not of the same length\n",
    "    Else, computes JC distance\n",
    "\"\"\"\n",
    "\n",
    "def JC_distance(s1,s2):\n",
    "    prop_diff = prop_diff(s1,s2)\n",
    "    return 1 - (np.log(1 - 4/3*prop_diff))\n"
   ]
  },
  {
   "cell_type": "markdown",
   "metadata": {},
   "source": [
    "## UPGMA Algorithm"
   ]
  },
  {
   "cell_type": "code",
   "execution_count": 25,
   "metadata": {
    "collapsed": true
   },
   "outputs": [],
   "source": [
    "def closest_neighbors(M):\n",
    "    size = len(M)\n",
    "    min = 100000\n",
    "    coordinates = (0,0)\n",
    "    for i in xrange(size-1):\n",
    "        for j in xrange(i + 1, size):\n",
    "            if M[i,j] <= min:\n",
    "                min = M[i,j]\n",
    "                coordinates = (i,j)\n",
    "    return coordinates\n",
    "\n",
    "\"\"\"\n",
    "Computes the subsequent Distance Matrix of the UPGMA algorithm\n",
    "Args:\n",
    "    M: the transition Matrix for the Jukes Cantor Algorithm\n",
    "Returns:\n",
    "    subsequent matrix using UPGMA\n",
    "\"\"\"\n",
    "def update_UPGMA_matrix(M, taxa1, taxa2):\n",
    "        size  = len(M)\n",
    "        new_size = size - 1\n",
    "        ans       = np.zeros((new_size, new_size))\n",
    "\n",
    "        # will use the 0th row and column for the new species in the matrix\n",
    "        #\n",
    "        # copies over the vales from the old matrix\n",
    "        computed_col = 1\n",
    "        new_row = 1\n",
    "        for i in xrange(size - 1):\n",
    "            if i != taxa1 and i != taxa2:\n",
    "                new_col = new_row + 1\n",
    "                for j in xrange(i + 1, size):\n",
    "                   if j != taxa1 and j != taxa2:\n",
    "                       ans[new_row,new_col] = M[i,j]\n",
    "                       new_col += 1\n",
    "                new_row +=1\n",
    "        # compute the first row of entries\n",
    "        new_col = 1\n",
    "        for j in xrange(size):\n",
    "            if j != taxa1 and j != taxa2:\n",
    "                #exploits the fact that we have an upper triangular so col > row always\n",
    "                ans[0,new_col] = (M[min(taxa1, j), max(taxa1, j)] + M[min(taxa2, j), max(taxa2, j)]) / 2\n",
    "                new_col += 1\n",
    "        return ans\n",
    "\n",
    "def UPGMA(M, names):\n",
    "    \"\"\"\n",
    "    >>> UPGMA(np.array([[0, .45, .27, .53],[0,   0, .40, .50],[0,   0,   0, .62],[0,   0,   0,  0]]))\n",
    "    np.array([[0, .425, .575],[0,    0,  .50],[0,    0,    0]])\n",
    "    \"\"\"\n",
    "    def search_nodes(trees ,name):\n",
    "        for tree in trees:\n",
    "            if tree.name == name:\n",
    "                return tree\n",
    "    trees = []\n",
    "    while True:\n",
    "        taxa1, taxa2 = closest_neighbors(M)\n",
    "        if taxa1 > taxa2:\n",
    "            tmp = taxa1\n",
    "            taxa1 = taxa2\n",
    "            taxa1 = tmp\n",
    "        #define a new parent for the join\n",
    "        t = Tree()\n",
    "        #search for the children in trees and add them\n",
    "        A = search_nodes(trees, names[taxa1])\n",
    "        if A == None:\n",
    "            A = t.add_child(name = names[taxa1])\n",
    "        else:\n",
    "            t.add_child(A)\n",
    "            trees.remove(A)\n",
    "        B = search_nodes(trees, names[taxa2])\n",
    "        if B == None:\n",
    "            B = t.add_child(name = names[taxa2])\n",
    "        else:\n",
    "            t.add_child(B)\n",
    "            trees.remove(B)\n",
    "        #delete old taxa names and update the new name\n",
    "        new_names = [names[taxa1] + names[taxa2]]\n",
    "        del names[taxa2]\n",
    "        del names[taxa1]\n",
    "        [new_names.append(name) for name in names]\n",
    "        names = new_names\n",
    "        #create the distance between children and parent\n",
    "        avg_dist = M[taxa1, taxa2]/2\n",
    "        A.dist = avg_dist\n",
    "        B.dist = avg_dist\n",
    "        #name the parent\n",
    "        t.name = names[0]\n",
    "        #add the new subtree\n",
    "        trees.append(t)\n",
    "\n",
    "        if len(M) <= 2:\n",
    "            break\n",
    "        M = update_UPGMA_matrix(M, taxa1, taxa2)\n",
    "    return trees[0]"
   ]
  },
  {
   "cell_type": "markdown",
   "metadata": {
    "collapsed": true
   },
   "source": [
    "For Testing we will use small examples that we found online"
   ]
  },
  {
   "cell_type": "code",
   "execution_count": 28,
   "metadata": {
    "collapsed": false
   },
   "outputs": [
    {
     "data": {
      "image/png": "[encoded data removed]",
      "text/plain": [
       "<IPython.core.display.Image object>"
      ]
     },
     "execution_count": 28,
     "metadata": {},
     "output_type": "execute_result"
    }
   ],
   "source": [
    "import IPython.display \n",
    "art  = IPython.display.Image(\"http://www.southampton.ac.uk/~re1u06/teaching/upgma/upgma15.PNG\")\n",
    "art"
   ]
  },
  {
   "cell_type": "markdown",
   "metadata": {},
   "source": [
    "## Neighbor Joining Algorithm"
   ]
  },
  {
   "cell_type": "code",
   "execution_count": null,
   "metadata": {
    "collapsed": true
   },
   "outputs": [],
   "source": []
  },
  {
   "cell_type": "markdown",
   "metadata": {},
   "source": [
    "## Mutate Function"
   ]
  },
  {
   "cell_type": "code",
   "execution_count": 26,
   "metadata": {
    "collapsed": true
   },
   "outputs": [],
   "source": [
    "\"\"\"\n",
    "    Given a character 'A' 'G' 'C' or 'T' returns number corresponding\n",
    "    to the index in whcih we need to index in our vector\n",
    "    Args:\n",
    "        nuc: character 'A' 'G' 'C' or 'T'\n",
    "    Returns:\n",
    "        number 0,1,2,3 indicatin what index to set to 1\n",
    "\"\"\"\n",
    "\n",
    "def DNA_to_position(nuc):\n",
    "    if nuc == 'A':\n",
    "        return 0\n",
    "    if nuc == 'G':\n",
    "        return 1\n",
    "    if nuc == 'C':\n",
    "        return 2\n",
    "    if nuc == 'T':\n",
    "        return 3\n",
    "\n",
    "\"\"\"\n",
    "    Given a number 0,1,2,3 returns character 'A' 'G' 'C' or 'T'\n",
    "    corresponding to the nucleic acid represented in the model\n",
    "    Args:\n",
    "        number 0,1,2,3\n",
    "    Returns:\n",
    "        character 'A' 'G' 'C' or 'T' orresponding to the\n",
    "        nucleic acid represented in the model\n",
    "\"\"\"\n",
    "\n",
    "def position_to_DNA(pos):\n",
    "    if pos == 0:\n",
    "        return 'A'\n",
    "    if pos == 1:\n",
    "        return 'G'\n",
    "    if pos == 2:\n",
    "        return 'C'\n",
    "    if pos == 3:\n",
    "        return 'T'\n",
    "\n",
    "\"\"\"\n",
    "    Mutates the DNA string seq, int t times according to the\n",
    "    Jukes-Cantor model specified by the alpha value, a\n",
    "    Args:\n",
    "        a:   alpha level for the Jukes Cantor Matrix\n",
    "        t:   number of time steps we plan to simulate\n",
    "        seq: Sequence of DNA represented as a string\n",
    "    Returns:\n",
    "        simulated descendant sequence after t time steps\n",
    "        consitently represented as a string\n",
    "\"\"\"\n",
    "\n",
    "def mut(a, t, seq):\n",
    "    M = JC_matrix(a)\n",
    "    M = LA.matrix_power(M, t)\n",
    "    tokens = list(seq)\n",
    "    for i in xrange(len(tokens)):\n",
    "        p                       = np.zeros(4)\n",
    "        p[DNA_to_position(tokens[0])] = 1\n",
    "        p                       = np.dot(M,p)\n",
    "\n",
    "        rand                    = np.random.rand()\n",
    "        if rand < p[0]:\n",
    "            val = 'A'\n",
    "        elif rand < p[0]+p[1]:\n",
    "            val = 'G'\n",
    "        elif rand < p[0]+p[1]+p[2]:\n",
    "            val = 'C'\n",
    "        else:\n",
    "            val = 'T'\n",
    "        tokens[i] = val\n",
    "    return ''.join(tokens)"
   ]
  },
  {
   "cell_type": "markdown",
   "metadata": {},
   "source": [
    "### Verification of mutate"
   ]
  },
  {
   "cell_type": "code",
   "execution_count": 27,
   "metadata": {
    "collapsed": false
   },
   "outputs": [
    {
     "name": "stdout",
     "output_type": "stream",
     "text": [
      "AGGGAAG\n",
      "CCAAGGC\n",
      "CCTAAGT\n",
      "CCAACCA\n",
      "GCGGGGG\n",
      "TGGCCTT\n",
      "CCACGTA\n",
      "GGGCTGC\n",
      "TTGGTTT\n",
      "GGCGTGC\n"
     ]
    }
   ],
   "source": [
    "for i in xrange(10):\n",
    "    print(mut(.3,4,'GATTACA'))"
   ]
  },
  {
   "cell_type": "markdown",
   "metadata": {},
   "source": [
    "Above we clearly see the mutate function working on our test string GATTACA"
   ]
  },
  {
   "cell_type": "markdown",
   "metadata": {},
   "source": [
    "## Comparisons with Data"
   ]
  },
  {
   "cell_type": "code",
   "execution_count": null,
   "metadata": {
    "collapsed": true
   },
   "outputs": [],
   "source": []
  },
  {
   "cell_type": "markdown",
   "metadata": {},
   "source": [
    "## Conclusion"
   ]
  },
  {
   "cell_type": "code",
   "execution_count": null,
   "metadata": {
    "collapsed": true
   },
   "outputs": [],
   "source": []
  },
  {
   "cell_type": "code",
   "execution_count": null,
   "metadata": {
    "collapsed": true
   },
   "outputs": [],
   "source": []
  }
 ],
 "metadata": {
  "kernelspec": {
   "display_name": "Python 2",
   "language": "python",
   "name": "python2"
  },
  "language_info": {
   "codemirror_mode": {
    "name": "ipython",
    "version": 2
   },
   "file_extension": ".py",
   "mimetype": "text/x-python",
   "name": "python",
   "nbconvert_exporter": "python",
   "pygments_lexer": "ipython2",
   "version": "2.7.11"
  }
 },
 "nbformat": 4,
 "nbformat_minor": 0
}
