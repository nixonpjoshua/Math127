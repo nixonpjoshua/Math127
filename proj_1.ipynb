{
 "cells": [
  {
   "cell_type": "markdown",
   "metadata": {},
   "source": [
    "# Project 1 Phylogenetics"
   ]
  },
  {
   "cell_type": "markdown",
   "metadata": {},
   "source": [
    "## Outline"
   ]
  },
  {
   "cell_type": "markdown",
   "metadata": {},
   "source": [
    "1. The Big Picture Introduction and Overview\n",
    "    * Introduction to the problem \n",
    "    * Translation to the mathematical model \n",
    "2. Implementations of the proposed models \n",
    "    1. Distance Functions\n",
    "        * Jukes Cantor\n",
    "        * Kimura-2\n",
    "        * Kimura-3\n",
    "    2. UPGMA algorithm\n",
    "    3. Neighbor Joining Algorithm\n",
    "    4. Mutate function \n",
    "3. Mathematical Explorations \n",
    "    1. Hidden Markov Models\n",
    "    2. Tropical Geometry\n",
    "    3. Overview of Pacther Strumfels Paper\n",
    "4. Results\n",
    "5. Conclusion"
   ]
  },
  {
   "cell_type": "markdown",
   "metadata": {},
   "source": [
    "## \"The Big Picture\" Introduction and Overview"
   ]
  },
  {
   "cell_type": "markdown",
   "metadata": {},
   "source": [
    "### Introduction to the problem\n",
    "\n",
    "Phylogentics is a study of the evolutionary relationships between living organims. In essence, it tries to determine whether you're more closely related to group 1 (e.g. amphibians) or group 2 (e.g. rodents) and by how much. In the past,say around the 1820s, phylogenetic trees were built based on observed similarities such as morphology.\n",
    "\n"
   ]
  },
  {
   "cell_type": "code",
   "execution_count": 1,
   "metadata": {
    "collapsed": false
   },
   "outputs": [
    {
     "data": {
      "image/png": "[encoded data removed]",
      "text/plain": [
       "<IPython.core.display.Image object>"
      ]
     },
     "execution_count": 1,
     "metadata": {},
     "output_type": "execute_result"
    }
   ],
   "source": [
    "import IPython.display \n",
    "phyl = IPython.display.Image(\"http://medsocnet.ncsa.illinois.edu/MSSW/moodle/file.php?file=/evolution_tree_000.PNG\")\n",
    "phyl\n"
   ]
  },
  {
   "cell_type": "markdown",
   "metadata": {},
   "source": [
    "Nowadays, technology has allowed us to make these conclusions more accurately by allowing us to compare DNA sequences from different viruses, species, and proteins. With all this information, algorthims were developed in order to infer a phylogenetic tree. Constructing an accurate tree, however, is an open field of research. The algorithms determine how certain species are split off or joined at a certain point in the tree. Before it can do that, the distance between two species needs to be caluclated. In fact, there are multiple ways to calculate the distances between two species. This project does not investigate all of them because of time and man-effort; however, there are so many because of the complexity of biology. There are a plethora of parameters that can be used to determine the distance; and even within those parameters, there are ample biological exceptions and undiscovered and spontaneous possible events that would violate certain assumptions. Once this distance is calculated, there is the issue of whether the species who are closest in distance are actually evolutionary neighbors or whether they just by coincidence. Moreover, the issue of how close one organism is from another arises and further about how close those two organisms to other organisms on another branch.  \n",
    "\n",
    "This project investigates a few of the many mathematical and computational techniques used to model evolution between different species. The algorithms compared were $\\textbf{UPGMA (Unweighted Pair Group Method with Arithmetic Mean)}$ and $\\textbf{Neighbor-Joining}$. Further, these phylogenetic inference algorithms yielded trees according to evolution simulated by these three different distance methods: the $\\textbf{Jukes-Cantor}$, $\\textbf{Kimura-2}$, and $\\textbf{Kimura-3}$. These distance determining methods fall under the category of being Markov models.Markov models are models with the property that changes imposed on the future state of the system is dependent on only present state and not the many previous states before. By implementing a wide range of different distance methods and inference algorithms, our results can be applied towards practical biological problems such as determining if a dentist infected his patients with HIV; or towards more general problems such as understanding the role and possible progression (or reduction) of noncoding DNA within differing species' genomes over time. In addition to the biological applications, this project explored the refinement of the phylogenetic inference algorithms and distance methods through demonstration and discussion of the striking differences between the results acquired."
   ]
  },
  {
   "cell_type": "markdown",
   "metadata": {},
   "source": [
    "### Model for DNA Mutation\n",
    "\n",
    "The algorithms compared were $\\textbf{UPGMA (Unweighted Pair Group Method with Arithmetic Mean)}$ and $\\textbf{Neighbor-Joining}$. Further, these phylogenetic inference algorithms yielded trees according to evolution simulated by these three different distance methods: the $\\textbf{Jukes-Cantor}$, $\\textbf{Kimura-2}$, and $\\textbf{Kimura-3}$ Markov models (Markov models are models  with the property that changes imposed on the future state of the system is dependent on only present state and not the many previous states before). \n",
    "\n",
    "To begin, evolution was simulated using a function, $\\texttt{mutate (A, t, seq)}$ , on sample DNA sequences. This function \"mutated\" the aforementioned sequence according to time and the individual parameters given by each distance method. For instance, when using the function $\\texttt{mutate()}$ to simulate evolution according to the Jukes-Cantor model, Jukes-Cantor distances between the ancestor and progeny sequences were computed and compared to the genuine distances for accuracy. Once these distances were calculated, phylogenetic inference algorithms, such as the neighbor-joining algorithm, were implemented to produce phylogenetic trees. These trees, like the distances, were then compared to the proven, legitimate tree. This was extended by simulating evolution according to the different distance methods and then implementing the two inference algorithms on both to get the best tree.\n",
    "\n",
    "The first and simplest distance method used was the $\\textbf{Jukes-Cantor}$ model. The Jukes-Cantor model begins by assuming all bases (nucleotides) within a DNA sequence occur with equal probability: $\\frac{1}{4}$. Secondly, it also assumes that the conditional probabilities of the observable base substitutions are the same. This means the likelihood of the purine (Adenine($\\textbf{A}$) and Guanine($\\textbf{G}$) being substituted by a pyrimidine (Cytosine($\\textbf{C}$) and Thymine($\\textbf{T}$)) has equal probability. The pitfall of the second assumption is that sort of substitution is highly unlikely because of the steric hindrance and chemical properties between their molecular structures. Lastly, this model--and the other ones as well--adopts the $\\textit{molecular clock}$ assumption which presumes that DNA mutation rates of observable substitutions, $\\alpha$, are constant. Realistically, the rates may not be constant, since it has been shown that the rates can be dependent on whether DNA is noncoding or coding and can change based upon the time and location of a particular sequence within DNA. Despite making many assumptions, this model was useful in that it allows preliminary estimation calculations to be made. \n",
    "\n",
    "Unlike the Jukes-Cantor model, the $\\textbf{Kimura}$ models consider more than one parameter to compute the distances between ancestor and progeny DNA sequences. In addition to mutation rates, the $\\textbf{Kimura-2}$ model incorporates different rates of transitions, $\\beta$, (e.g.purine $\\longleftrightarrow$ purine) and different rates of transversions, $\\gamma$ (e.g.purine $\\longleftrightarrow$ pyrimidine). Biologically, there are two types of transversions: an exchange between one-ring and two-ring structures.The $\\textbf{Kimura-3}$ takes this into account by considering a third parameter, $\\delta$, for the rates of two-ring transversions. Distances between initial and final sequences were compared using both models that were used in the phylogenetic inference algorithms.\n",
    "\n",
    "The next area of adjustment is based upon the difference between two phylogenetic inference algorithms: Neighbor-Joining and UPGMA. Between the two, $\\textbf{UPGMA}$ is the much simpler one since it makes more assumptions, such as \\textit{molecular clock} assumption. UPGMA begins by using the calculated Jukes-Cantor distances--or the distance from the Kimura-2 and Kimura-3 model--and joining the closest pair of taxa, presuming that the two closest taxa should be neighbors. In order to start building metric trees, each edge of the tree from which the temporary root was created is assumed to be weighted equally. This harks back at $\\textit{molecular clock}$ assumption of having a constant mutation rate $\\alpha$.  Essentially, UPGMA takes the average Jukes-Cantor distance between two sequences, creates a temporary root that is then collapsed and used to compute the average Jukes-Cantor distance between that new, collapsed temporary root and another sequence. This is repeated until all sequences have neighbors. These simplifying instructions, like the Jukes-Cantor model, allows basic models to be created and make simple predictions of the evolutionary relationships between the different species.\n",
    "\n",
    "Despite the simplicity of the UPGMA algorithm, it fails when $\\alpha$ is not constant and by necessitating that species with the smallest Jukes-Cantor distance (or any other distance method distances) are neighbors. This is not guaranteed. Hence, the $\\textbf{Neighbor-Joining}$ algorithm is implemented, since it has the criterion that the leaves of a rooted vertex guarantees that those two species are neighbors."
   ]
  },
  {
   "cell_type": "markdown",
   "metadata": {
    "collapsed": true
   },
   "source": [
    "###  Setup for the Project"
   ]
  },
  {
   "cell_type": "code",
   "execution_count": 101,
   "metadata": {
    "collapsed": false
   },
   "outputs": [],
   "source": [
    "import numpy as np\n",
    "from scipy.io import loadmat\n",
    "from numpy import linalg as LA\n",
    "from ete3 import Tree\n",
    "import sys \n",
    "import matplotlib\n",
    "%matplotlib inline\n",
    "import matplotlib.pyplot as plots\n",
    "plots.style.use('fivethirtyeight')\n",
    "\n",
    "import pylab\n"
   ]
  },
  {
   "cell_type": "code",
   "execution_count": 102,
   "metadata": {
    "collapsed": true
   },
   "outputs": [],
   "source": [
    "hiv_data = loadmat('flhivdata.mat')\n",
    "\n",
    "dnt    = hiv_data[\"dnt\"][0]\n",
    "\n",
    "ctrl_1 = hiv_data[\"lc1\"][0]\n",
    "ctrl_5 = hiv_data[\"lc5\"][0]\n",
    "\n",
    "ptb    = hiv_data[\"ptb\"][0]\n",
    "ptc\t   = hiv_data[\"ptc\"][0]\n",
    "ptd    = hiv_data[\"ptd\"][0]\n",
    "\n",
    "min_len = min(len(dnt),len(ctrl_1),len(ctrl_5),len(ptb),len(ptc),len(ptd))\n",
    "\n",
    "def chop(seq):\n",
    "    ans    = min_len*[\"o\"]\n",
    "    tokens = list(seq)\n",
    "    for i in xrange(min_len):\n",
    "        ans[i] = tokens[i]\n",
    "    return ''.join(ans)\n",
    "\n",
    "dnt    = chop(dnt)\n",
    "ctrl_1 = chop(ctrl_1)\n",
    "ctrl_5 = chop(ctrl_5)\n",
    "\n",
    "ptb    = chop(ptb)\n",
    "ptc    = chop(ptc)\n",
    "ptd    = chop(ptd)"
   ]
  },
  {
   "cell_type": "markdown",
   "metadata": {},
   "source": [
    "## Implementations of the proposed models "
   ]
  },
  {
   "cell_type": "markdown",
   "metadata": {},
   "source": [
    "### Distance Functions"
   ]
  },
  {
   "cell_type": "markdown",
   "metadata": {},
   "source": [
    "#### *Jukes-Cantor Distance*"
   ]
  },
  {
   "cell_type": "code",
   "execution_count": 103,
   "metadata": {
    "collapsed": true
   },
   "outputs": [],
   "source": [
    "\"\"\"\n",
    "Constructs a Jukes Cantor transition Matrix with a specified alpha level a\n",
    "Args:\n",
    "     a: alpha level for the Jukes Cantor Matrix\n",
    "Returns:\n",
    "     Transition Matrix corresponding to the Jukes-Cantor Algorithm\n",
    "\"\"\"\n",
    "\n",
    "def JC_matrix(a):\n",
    "\n",
    "    \"\"\"\n",
    "    >>> np.trace(JC_matrix(.25))\n",
    "    3.0\n",
    "    \"\"\"\n",
    "\n",
    "    b = a/3\n",
    "    M = np.array([[1-a, b, b, b],\n",
    "                 [b, 1-a, b, b],\n",
    "                 [b, b, 1-a, b],\n",
    "                 [b, b, b, 1-a]])\n",
    "    return M\n",
    "\n",
    "\n",
    "\"\"\"\n",
    "Computes proportion of differing letters from two strings of the same size\n",
    "Args:\n",
    "    s1: string 1\n",
    "    s2: string 2 \n",
    "Returns:\n",
    "    Throws error if the strings are not of the same length\n",
    "    Else, returns proportion (in between 0 and 1) of differing letters\n",
    "\"\"\"\n",
    "\n",
    "def prop_diff(s1,s2):\n",
    "    if len(s1) != len(s2):\n",
    "        raise ValueError(\"Cannot compute compare DNA sequences of differing length\")\n",
    "    diffs = 0\n",
    "    i     = 0\n",
    "    while i < len(s1):\n",
    "        if s1[i] != s2[i]:\n",
    "            diffs += 1\n",
    "        i += 1\n",
    "    return float(diffs)/float(len(s1))\n",
    "\n",
    "\"\"\"\n",
    "Computes the JC distance between two sequences.\n",
    "Args:\n",
    "    s1: string 1\n",
    "    s2: string 2 \n",
    "Returns:\n",
    "    Throws error if the strings are not of the same length\n",
    "    Else, computes JC distance\n",
    "\"\"\"\n",
    "\n",
    "def JC_distance(s1,s2):\n",
    "    prop_diff = prop_diff(s1,s2)\n",
    "    return 1 - (np.log(1 - 4/3*prop_diff))\n",
    "\n",
    "\"\"\"\n",
    "Returns JC Matrix give sequences\n",
    "\"\"\"\n",
    "\n",
    "def JC_matrix_maker(seqs):\n",
    "  M = np.zeros((len(seqs),len(seqs)))\n",
    "  for i in xrange(len(seqs) - 1):\n",
    "    s1 = seqs[i]\n",
    "    for j in xrange(i, len(seqs)):\n",
    "      s2 = seqs[j]\n",
    "      M[i][j] = JC_distance(s1,s2)\n",
    "  return M\n"
   ]
  },
  {
   "cell_type": "markdown",
   "metadata": {},
   "source": [
    "## UPGMA  and NJ Algorithm"
   ]
  },
  {
   "cell_type": "code",
   "execution_count": 104,
   "metadata": {
    "collapsed": true
   },
   "outputs": [],
   "source": [
    "\"\"\"\n",
    "Computes a list whose ith entry is the distance from taxa i to all of the other taxa in the distance matrix\n",
    "Args:\n",
    "    M: Upper triangular distance matrix\n",
    "Returns:\n",
    "    \"sums\" which is a list whose ith entry is the distance from taxa i to all of the other taxa in the distance matrix\n",
    "\"\"\"\n",
    "def sums_others(M):\n",
    "    size = len(M)\n",
    "    sums = np.zeros(size)\n",
    "    for i in xrange(size):\n",
    "        s = 0\n",
    "        for other in xrange(size):\n",
    "            s += M[min(other, i), max(other, i)]\n",
    "        sums[i] = s\n",
    "    return sums\n",
    "\n",
    "\"\"\"\n",
    "Computes a tuple of \"coordinates\" whose entries i and j correspond to the numbers of the two taxa that are to be joined\n",
    "Args:\n",
    "    M: Criterion matrix could be Q matrix or just a distance matrix\n",
    "Returns:\n",
    "    \"coordinates\" whose entries i and j correspond to the numbers of the two taxa that are to be joined\n",
    "\"\"\"\n",
    "def closest_neighbors(M):\n",
    "    size = len(M)\n",
    "    min = sys.maxint\n",
    "    coordinates = (0,0)\n",
    "    for i in xrange(size-1):\n",
    "        for j in xrange(i + 1, size):\n",
    "            if M[i,j] <= min:\n",
    "                min = M[i,j]\n",
    "                coordinates = (i,j)\n",
    "    return coordinates\n",
    "\n",
    "\"\"\"\n",
    "Makes Q matrix that decides what will be joined \n",
    "Args:\n",
    "    M: Upper triangular matrix\n",
    "Returns:\n",
    "    Q matrix\n",
    "\"\"\"\n",
    "def make_Q_matrix(M):\n",
    "    sums = sums_others(M)\n",
    "    N  = M.shape[0]        # number of taxa\n",
    "    Q  = np.zeros(M.shape) # matrix to be returned \n",
    "    for i in xrange(N):\n",
    "        for j in xrange(N):\n",
    "            if i < j:\n",
    "                Q[i][j] = (N-2)*M[i][j] - sums[i] - sums[j]\n",
    "    return Q\n",
    "\n",
    "\"\"\"\n",
    "Computes the subsequent Distance Entry of the UPGMA algorithm\n",
    "Args:\n",
    "    M:     the transition Matrix for the Jukes Cantor Algorithm\n",
    "    taxa1: taxa that was combined \n",
    "    taxa2: taxa that was combined \n",
    "    j:     taxa that we want to find distance to new node \n",
    "Returns:\n",
    "    new distance using from j to cherry\n",
    "\"\"\"\n",
    "def UPGMA_new_dist(M, taxa1, taxa2, j):\n",
    "    return (M[min(taxa1, j), max(taxa1, j)] + M[min(taxa2, j), max(taxa2, j)]) / 2\n",
    "\n",
    "\"\"\"\n",
    "Computes the subsequent Distance Entry of the NJ algorithm\n",
    "Args:\n",
    "    M:     the old distance matr\n",
    "    taxa1: taxa that was combined \n",
    "    taxa2: taxa that was combined \n",
    "    j:     taxa that we want to find distance to new node \n",
    "Returns:\n",
    "    new distance using from j to cherry\n",
    "\"\"\"\n",
    "def neighbor_joining_new_dist(M, taxa1, taxa2, j):\n",
    "    return (M[min(taxa1, j), max(taxa1, j)] + M[min(taxa2, j), max(taxa2, j)] - M[taxa1, taxa2])/2.0\n",
    "    \n",
    "\"\"\"\n",
    "Variety of parents_dist_functions that makes molecular clock assumption and uses arithmetic mean for edge distances from MRCA\n",
    "    M:     the old distance matr\n",
    "    taxa1: taxa that was combined \n",
    "    taxa2: taxa that was combined \n",
    "Returns:\n",
    "    tuple of size 2 entries containing arithmetic mean of taxa1 and taxa2\n",
    "\"\"\"\n",
    "def split_dist(M, taxa1, taxa2):\n",
    "    avg_dist = M[taxa1, taxa2]/2\n",
    "    return (avg_dist, avg_dist)\n",
    "\n",
    "\"\"\"\n",
    "Variety of parents_dist_functions that uses 4 point condition to create edge distances from MRCA\n",
    "    M:     the old distance matr\n",
    "    taxa1: taxa that was combined \n",
    "    taxa2: taxa that was combined \n",
    "Returns:\n",
    "    tuple of size 2 entries containing arithmetic mean of taxa1 and taxa2\n",
    "\"\"\"\n",
    "\n",
    "def neighbor_joining_parent_dist(M, taxa1, taxa2):\n",
    "    sums = sums_others(M)\n",
    "    taxa1_dist = M[taxa1, taxa2]/2.0 + (sums[taxa1] - sums[taxa2])/(2*(len(M)-2))\n",
    "    return (taxa1_dist, M[taxa1, taxa2] - taxa1_dist)\n",
    "    \n",
    "\"\"\"\n",
    "Updates Distance Matrix A reflecting the joining of taxa1 and taxa2\n",
    "Args:\n",
    "    M:           the old distance matrix\n",
    "    taxa1:       taxa that was combined \n",
    "    taxa2:       taxa that was combined \n",
    "    new_dist_fn: function that determines how we compute new distances for our distance matrix \n",
    "Returns:\n",
    "    new distance matrix\n",
    "\"\"\"\n",
    "def update_matrix(M, taxa1, taxa2, new_dist_fn):\n",
    "        size  = len(M)\n",
    "        new_size = size - 1\n",
    "        ans       = np.zeros((new_size, new_size))\n",
    "\n",
    "        # will use the 0th row and column for the new species in the matrix\n",
    "        #\n",
    "        # copies over the vales from the old matrix\n",
    "        new_row = 1\n",
    "        for i in xrange(size - 1):\n",
    "            if i != taxa1 and i != taxa2:\n",
    "                new_col = new_row + 1\n",
    "                for j in xrange(i + 1, size):\n",
    "                   if j != taxa1 and j != taxa2:\n",
    "                       ans[new_row,new_col] = M[i,j]\n",
    "                       new_col += 1\n",
    "                new_row +=1\n",
    "        \n",
    "        # compute the first row of entries\n",
    "        new_col = 1\n",
    "        for j in xrange(size):\n",
    "            if j != taxa1 and j != taxa2:\n",
    "                #exploits the fact that we have an upper triangular so col > row always\n",
    "                ans[0,new_col] = new_dist_fn(M, taxa1, taxa2, j)\n",
    "                new_col += 1\n",
    "        return ans\n",
    "\n",
    "\"\"\"\n",
    "Work horse function of the distance based methods file. \n",
    "Args:\n",
    "    M:           the old distance matrix\n",
    "    taxa1:       taxa that was combined \n",
    "    taxa2:       taxa that was combined \n",
    "    new_dist_fn: function that determines how we compute new distances for our distance matrix \n",
    "Returns:\n",
    "    new distance matrix\n",
    "\"\"\"\n",
    "\n",
    "def neighbor_based_method(M, names, closest_neighbors_fn, new_dist_fn, parent_dist_fn):\n",
    "    def search_nodes(trees ,name):\n",
    "        for tree in trees:\n",
    "            if tree.name == name:\n",
    "                return tree\n",
    "    trees = []\n",
    "    while True:\n",
    "        taxa1, taxa2 = closest_neighbors_fn(M)\n",
    "        if taxa1 > taxa2:\n",
    "            tmp = taxa1\n",
    "            taxa1 = taxa2\n",
    "            taxa1 = tmp\n",
    "        #define a new parent for the join\n",
    "        t = Tree()\n",
    "        #search for the children in trees and add them\n",
    "        A = search_nodes(trees, names[taxa1])\n",
    "        if A == None:\n",
    "            A = t.add_child(name = names[taxa1])\n",
    "        else:\n",
    "            t.add_child(A)\n",
    "            trees.remove(A)\n",
    "        B = search_nodes(trees, names[taxa2])\n",
    "        if B == None:\n",
    "            B = t.add_child(name = names[taxa2])\n",
    "        else:\n",
    "            t.add_child(B)\n",
    "            trees.remove(B)\n",
    "        #delete old taxa names and update the new name\n",
    "        new_names = [names[taxa1] + names[taxa2]]\n",
    "        del names[taxa2]\n",
    "        del names[taxa1]\n",
    "        [new_names.append(name) for name in names]\n",
    "        names = new_names\n",
    "        #create the distance between children and parent\n",
    "        A.dist, B.dist = parent_dist_fn(M, taxa1, taxa2)\n",
    "        #name the parent\n",
    "        t.name = names[0]\n",
    "        #add the new subtree\n",
    "        trees.append(t)\n",
    "\n",
    "        if len(M) <= 2:\n",
    "            break\n",
    "        M = update_matrix(M, taxa1, taxa2, new_dist_fn)\n",
    "    return trees[0]\n",
    "\n",
    "\"\"\"\n",
    "Constructs a Jukes Cantor transition Matrix with a specified alpha level a\n",
    "Args:\n",
    "     a: alpha level for the Jukes Cantor Matrix\n",
    "Returns:\n",
    "     Transition Matrix corresponding to the Jukes-Cantor Algorithm\n",
    "\"\"\"\n",
    "\n",
    "def JC_matrix(a):\n",
    "\n",
    "    \"\"\"\n",
    "    >>> np.trace(JC_matrix(.25))\n",
    "    3.0\n",
    "    \"\"\"\n",
    "\n",
    "    b = a/3\n",
    "    M = np.array([[1-a, b, b, b],\n",
    "                 [b, 1-a, b, b],\n",
    "                 [b, b, 1-a, b],\n",
    "                 [b, b, b, 1-a]])\n",
    "    return M\n",
    "\n",
    "\n",
    "\"\"\"\n",
    "Computes proportion of differing letters from two strings of the same size\n",
    "Args:\n",
    "    s1: string 1 or tokenized list\n",
    "    s2: string 2 or tokenized list\n",
    "Returns:\n",
    "    Throws error if the strings are not of the same length\n",
    "    Else, returns proportion (in between 0 and 1) of differing letters\n",
    "\"\"\"\n",
    "\n",
    "def prop_diff(s1,s2):\n",
    "    # \"\"\" LOOK curious as to why this isn't working\n",
    "    # >>> prop_diff(\"ATTGAC\",\"ATGGCC\") \n",
    "    # float(2)/float(6)  \n",
    "    # \"\"\"\n",
    "    if len(s1) != len(s2):\n",
    "        raise ValueError(\"Cannot compute compare DNA sequences of differing length\")\n",
    "    diffs = 0\n",
    "    i     = 0\n",
    "    while i < len(s1):\n",
    "        if s1[i] != s2[i]:\n",
    "            diffs += 1\n",
    "        i += 1\n",
    "    return float(diffs)/float(len(s1))\n",
    "\n",
    "\"\"\"\n",
    "Computes the JC distance between two sequences.\n",
    "Args:\n",
    "    s1: string 1\n",
    "    s2: string 2 \n",
    "Returns:\n",
    "    Throws error if the strings are not of the same length\n",
    "    Else, computes JC distance\n",
    "\"\"\"\n",
    "\n",
    "def JC_distance(s1,s2):\n",
    "    prop_diffs = prop_diff(s1,s2)\n",
    "    return 1 - (np.log(1 - 4/3*prop_diffs))\n",
    "\n",
    "\"\"\"\n",
    "Runs the UPGMA algorithm by calling neighbhor_based_method thus outputting a tree\n",
    "Args:\n",
    "    M:     the old distance matrix\n",
    "    names: list of the names of all the sequences \n",
    "Returns:\n",
    "    Tree gennerated according to the UPGMA algorithm\n",
    "\n",
    "\"\"\"\n",
    "def UPGMA(M, names):\n",
    "    return neighbor_based_method(M, names, closest_neighbors, UPGMA_new_dist, split_dist)\n",
    "\n",
    "\"\"\"\n",
    "Runs the neighbhor_joining algorithm by calling neighbhor_based_method thus outputting a tree\n",
    "Args:\n",
    "    M:     the old distance matrix\n",
    "    names: list of the names of all the sequences \n",
    "Returns:\n",
    "    Tree gennerated according to the neighbhoor joining algorithm\n",
    "\"\"\"\n",
    "def neighbor_joining(M, names):\n",
    "    return neighbor_based_method(M, names, lambda m : closest_neighbors(make_Q_matrix(m)), neighbor_joining_new_dist, neighbor_joining_parent_dist)\n"
   ]
  },
  {
   "cell_type": "markdown",
   "metadata": {
    "collapsed": true
   },
   "source": [
    "For Testing we will use small examples that we found online"
   ]
  },
  {
   "cell_type": "code",
   "execution_count": 105,
   "metadata": {
    "collapsed": false
   },
   "outputs": [
    {
     "data": {
      "image/png": "[encoded data removed]",
      "text/plain": [
       "<IPython.core.display.Image object>"
      ]
     },
     "execution_count": 105,
     "metadata": {},
     "output_type": "execute_result"
    }
   ],
   "source": [
    "import IPython.display \n",
    "art  = IPython.display.Image(\"http://www.southampton.ac.uk/~re1u06/teaching/upgma/upgma15.PNG\")\n",
    "art"
   ]
  },
  {
   "cell_type": "markdown",
   "metadata": {},
   "source": [
    "## Mutate Function and Evolution Simulator"
   ]
  },
  {
   "cell_type": "code",
   "execution_count": 106,
   "metadata": {
    "collapsed": false
   },
   "outputs": [],
   "source": [
    "\"\"\"\n",
    "Constructs a Jukes Cantor transition Matrix with a specified alpha level a\n",
    "Args:\n",
    "     a: alpha level for the Jukes Cantor Matrix\n",
    "Returns:\n",
    "     Transition Matrix corresponding to the Jukes-Cantor Algorithm\n",
    "\"\"\"\n",
    "\n",
    "def JC_matrix(a):\n",
    "    b = a/3\n",
    "    M = np.array([[1-a, b, b, b],\n",
    "                 [b, 1-a, b, b],\n",
    "                 [b, b, 1-a, b],\n",
    "                 [b, b, b, 1-a]])\n",
    "    return M\n",
    "\n",
    "\"\"\"\n",
    "    Given a character 'A' 'G' 'C' or 'T' returns number corresponding\n",
    "    to the index in whcih we need to index in our vector\n",
    "    Args:\n",
    "        nuc: character 'A' 'G' 'C' or 'T'\n",
    "    Returns:\n",
    "        number 0,1,2,3 indicatin what index to set to 1\n",
    "\"\"\"\n",
    "\n",
    "def DNA_to_position(nuc):\n",
    "    if nuc == 'A':\n",
    "        return 0\n",
    "    if nuc == 'G':\n",
    "        return 1\n",
    "    if nuc == 'C':\n",
    "        return 2\n",
    "    if nuc == 'T':\n",
    "        return 3\n",
    "\n",
    "\"\"\"\n",
    "    Given a number 0,1,2,3 returns character 'A' 'G' 'C' or 'T'\n",
    "    corresponding to the nucleic acid represented in the model\n",
    "    Args:\n",
    "        number 0,1,2,3\n",
    "    Returns:\n",
    "        character 'A' 'G' 'C' or 'T' orresponding to the\n",
    "        nucleic acid represented in the model\n",
    "\"\"\"\n",
    "\n",
    "def position_to_DNA(pos):\n",
    "    if pos == 0:\n",
    "        return 'A'\n",
    "    if pos == 1:\n",
    "        return 'G'\n",
    "    if pos == 2:\n",
    "        return 'C'\n",
    "    if pos == 3:\n",
    "        return 'T'\n",
    "\n",
    "\"\"\"\n",
    "    Mutates the DNA string seq, int t times according to the\n",
    "    Jukes-Cantor model specified by the alpha value, a\n",
    "    Args:\n",
    "        a:   alpha level for the Jukes Cantor Matrix\n",
    "        t:   number of time steps we plan to simulate\n",
    "        seq: Sequence of DNA represented as a string\n",
    "    Returns:\n",
    "        simulated descendant sequence after t time steps\n",
    "        consitently represented as a string\n",
    "\"\"\"\n",
    "\n",
    "def mutate(a, t, seq):\n",
    "    M = JC_matrix(a)\n",
    "    M = LA.matrix_power(M, t)\n",
    "    tokens = list(seq)\n",
    "    for i in xrange(len(tokens)):\n",
    "        p = np.zeros(4)\n",
    "        p[DNA_to_position(tokens[i])] = 1\n",
    "        p = np.dot(M,p)\n",
    "\n",
    "        rand= np.random.rand()\n",
    "        if rand < p[0]:\n",
    "            val = 'A'\n",
    "        elif rand < p[0]+p[1]:\n",
    "            val = 'G'\n",
    "        elif rand < p[0]+p[1]+p[2]:\n",
    "            val = 'C'\n",
    "        else:\n",
    "            val = 'T'\n",
    "        tokens[i] = val\n",
    "    return ''.join(tokens)\n",
    "\n",
    "\n",
    "\"\"\"\n",
    "Simulates Evolution of a DNA sequence with \n",
    "    a                : alpha level (mutation rate)\n",
    "    sim_time         : total time simulating\n",
    "    timestep         : timestep will dictate distance between father and son node\n",
    "    seq              : original input seqeuence\n",
    "    selectionFn      : Decides who survives from population\n",
    "    paramater        : list contating parameters to be fed into the selection fn\n",
    "    expansion_factor : multiplication factor that determines number of seqs in the population. pop_size_n = 2*pop_size_n-1 - those killed by selectionFn\n",
    "\"\"\"\n",
    "\n",
    "def evolution_simulator(a, sim_time, timestep, seq,selectionFn, paramater, expansion_factor):\n",
    "    t = Tree(name= seq)\n",
    "    def tree_helper(curr_time, t):\n",
    "        if curr_time >= sim_time - timestep:\n",
    "            return\n",
    "        pop = [t.name]*expansion_factor\n",
    "        pop = map(lambda x: mutate(a, timestep, x), pop) # Mutates everything in the population\n",
    "        pop = selectionFn(pop,parameter) # selects the survivors\n",
    "        for taxa in pop:\n",
    "            new_t = t.add_child(name = taxa)\n",
    "            new_t.dist = timestep\n",
    "            tree_helper(curr_time+timestep, new_t)\n",
    "    tree_helper(0, t)\n",
    "    return t\n",
    "\n",
    "\"\"\"\n",
    "Kills on average \"proportion\" of the population. (Uniform Distribution)\n",
    "    pop       : population of sequnces that Uniform Killing decides whether or not to kill\n",
    "    parameter : parameter of uniform distribution (i.e. on average how many will survive)\n",
    "\"\"\"\n",
    "def uniform_killing(pop, parameter):\n",
    "    # filter keeps seqeunces less than proportion\n",
    "    proportion = parameter[0]\n",
    "    return filter(lambda y: np.random.rand() < proportion, pop)\n"
   ]
  },
  {
   "cell_type": "markdown",
   "metadata": {},
   "source": [
    "### Mutate as a test for the accuraccy of Jukes Cantor"
   ]
  },
  {
   "cell_type": "markdown",
   "metadata": {},
   "source": [
    "Use mutate() to simulate evolution according to Jukes Cantor on\n",
    "a suitable starting sequence. Compute the Jukes Cantor distance\n",
    "between the final sequence and the initial sequence, and compare\n",
    "to the actual distance. How does varying the parameters (Jukes-Cantor parameter and time) effect this?"
   ]
  },
  {
   "cell_type": "markdown",
   "metadata": {},
   "source": [
    "### Small alpha, Small Sequence, Varying Time"
   ]
  },
  {
   "cell_type": "code",
   "execution_count": 129,
   "metadata": {
    "collapsed": false
   },
   "outputs": [],
   "source": [
    "\"\"\"\n",
    "Judges the quality of Jukes Cantor ov\n",
    "    anc       : ancestor sequence\n",
    "    diff      : actual difference between descendant and ancestor\n",
    "    parameter : parameter of uniform distribution (i.e. on average how many will survive)\n",
    "\"\"\"\n",
    "def judge_jukes(alpha,reps,ancs):    \n",
    "    ans  = np.zeros(100) # this should give significant enough dat\n",
    "    for i in xrange(100): # this should give significant enough data\n",
    "        desc   = mutate(alpha,reps,ancs)\n",
    "        ans[i] = JC_distance(desc,ancs) -(reps*alpha)\n",
    "    return ans"
   ]
  },
  {
   "cell_type": "code",
   "execution_count": 130,
   "metadata": {
    "collapsed": false
   },
   "outputs": [
    {
     "name": "stdout",
     "output_type": "stream",
     "text": [
      "[0.90000000000000002, 1.4596157879354226, 0.11537785315100116, 0.15415067982725816, 0.97707533991362916]\n"
     ]
    },
    {
     "data": {
      "image/png": "[encoded data removed]",
      "text/plain": [
       "<matplotlib.figure.Figure at 0x114f34050>"
      ]
     },
     "metadata": {},
     "output_type": "display_data"
    }
   ],
   "source": [
    "ans = judge_jukes(.01,10,\"GATTACA\")\n",
    "plots.hist(ans,  bins = np.arange(-2,2,0.1), alpha =.3, color =\"blue\")\n",
    "stats = [np.amin(ans), np.amax(ans),np.std(ans), np.subtract(*np.percentile(ans, [75, 25])) ,np.median(ans)]\n",
    "print(stats)"
   ]
  },
  {
   "cell_type": "markdown",
   "metadata": {},
   "source": [
    "**Explanation:**The above picture suggests that the Jukes Cantor Distance tends to over-estimate given a small string \"GATTACA\" and a low alpha value of .01. Above we see that we have a median over estimate of 0.90000002"
   ]
  },
  {
   "cell_type": "code",
   "execution_count": 131,
   "metadata": {
    "collapsed": false
   },
   "outputs": [
    {
     "name": "stdout",
     "output_type": "stream",
     "text": [
      "[0.69999999999999996, 1.952762968495368, 0.23784978314812238, 0.40546510810816438, 1.0364722366212129]\n"
     ]
    },
    {
     "data": {
      "image/png": "[encoded data removed]",
      "text/plain": [
       "<matplotlib.figure.Figure at 0x1153c1710>"
      ]
     },
     "metadata": {},
     "output_type": "display_data"
    }
   ],
   "source": [
    "ans  = judge_jukes(.01,30,\"GATTACA\")\n",
    "plots.hist(ans,  bins = np.arange(-2,2,0.1), alpha =.3, color =\"blue\")\n",
    "stats = [np.amin(ans), np.amax(ans),np.std(ans), np.subtract(*np.percentile(ans, [75, 25])) ,np.median(ans)]\n",
    "print(stats)"
   ]
  },
  {
   "cell_type": "markdown",
   "metadata": {},
   "source": [
    "**Explanation:**The above picture suggests that the Jukes Cantor Distance tends to over-estimate a bit more when we slightly increase the difference in the generations."
   ]
  },
  {
   "cell_type": "code",
   "execution_count": 132,
   "metadata": {
    "collapsed": false
   },
   "outputs": [
    {
     "name": "stdout",
     "output_type": "stream",
     "text": [
      "[0.0, inf, nan, 0.6931471805599454, 0.84729786038720345]\n"
     ]
    },
    {
     "name": "stderr",
     "output_type": "stream",
     "text": [
      "/Users/alex/anaconda/lib/python2.7/site-packages/ipykernel/__main__.py:258: RuntimeWarning: divide by zero encountered in log\n"
     ]
    },
    {
     "data": {
      "image/png": "[encoded data removed]",
      "text/plain": [
       "<matplotlib.figure.Figure at 0x114b71050>"
      ]
     },
     "metadata": {},
     "output_type": "display_data"
    }
   ],
   "source": [
    "ans  = judge_jukes(.01,100,\"GATTACA\")\n",
    "plots.hist(ans,  bins = np.arange(-2,2,0.1), alpha =.3, color =\"blue\")\n",
    "stats = [np.amin(ans), np.amax(ans),np.std(ans), np.subtract(*np.percentile(ans, [75, 25])) ,np.median(ans)]\n",
    "print(stats)"
   ]
  },
  {
   "cell_type": "markdown",
   "metadata": {},
   "source": [
    "**Explanation:** It is Still on average an overestimate but if we run the  cell over and over again we start to see some underestimate values"
   ]
  },
  {
   "cell_type": "markdown",
   "metadata": {},
   "source": [
    "### Varying alpha, Small Sequence, Consistent time = 15"
   ]
  },
  {
   "cell_type": "code",
   "execution_count": 133,
   "metadata": {
    "collapsed": false
   },
   "outputs": [
    {
     "name": "stdout",
     "output_type": "stream",
     "text": [
      "[0.84999999999999998, 1.4096157879354227, 0.17215768947761209, 0.33647223662121306, 1.0041506798272584]\n"
     ]
    },
    {
     "data": {
      "image/png": "[encoded data removed]",
      "text/plain": [
       "<matplotlib.figure.Figure at 0x115317650>"
      ]
     },
     "metadata": {},
     "output_type": "display_data"
    }
   ],
   "source": [
    "ans  = judge_jukes(.01,15,\"GATTACA\")\n",
    "plots.hist(ans,  bins = np.arange(-2,2,0.1), alpha =.3, color =\"blue\")\n",
    "stats = [np.amin(ans), np.amax(ans),np.std(ans), np.subtract(*np.percentile(ans, [75, 25])) ,np.median(ans)]\n",
    "print(stats)"
   ]
  },
  {
   "cell_type": "markdown",
   "metadata": {},
   "source": [
    "**Explanation:** Overestimate from above graphs, this type of result was kind of to be expected"
   ]
  },
  {
   "cell_type": "code",
   "execution_count": 137,
   "metadata": {
    "collapsed": false
   },
   "outputs": [
    {
     "name": "stdout",
     "output_type": "stream",
     "text": [
      "[-0.34584932017274173, inf, nan, 1.0986122886681096, 0.75276296849536806]\n"
     ]
    },
    {
     "name": "stderr",
     "output_type": "stream",
     "text": [
      "/Users/alex/anaconda/lib/python2.7/site-packages/ipykernel/__main__.py:258: RuntimeWarning: divide by zero encountered in log\n"
     ]
    },
    {
     "data": {
      "image/png": "[encoded data removed]",
      "text/plain": [
       "<matplotlib.figure.Figure at 0x114cb5310>"
      ]
     },
     "metadata": {},
     "output_type": "display_data"
    }
   ],
   "source": [
    "ans  = judge_jukes(.1,15,\"GATTACA\")\n",
    "plots.hist(ans,  bins = np.arange(-2,2,0.1), alpha =.3, color =\"blue\")\n",
    "stats = [np.amin(ans), np.amax(ans),np.std(ans), np.subtract(*np.percentile(ans, [75, 25])) ,np.median(ans)]\n",
    "print(stats)"
   ]
  },
  {
   "cell_type": "markdown",
   "metadata": {},
   "source": [
    "**Explanation:** Overestimate from above graphs, already starting to get inf errors, however the variation error is very small less than one time step off. "
   ]
  },
  {
   "cell_type": "code",
   "execution_count": 140,
   "metadata": {
    "collapsed": false
   },
   "outputs": [
    {
     "name": "stdout",
     "output_type": "stream",
     "text": [
      "[-3.3458493201727419, inf, nan, 0.69314718055994495, -1.9006634412246595]\n"
     ]
    },
    {
     "name": "stderr",
     "output_type": "stream",
     "text": [
      "/Users/alex/anaconda/lib/python2.7/site-packages/ipykernel/__main__.py:258: RuntimeWarning: divide by zero encountered in log\n"
     ]
    },
    {
     "data": {
      "image/png": "[encoded data removed]",
      "text/plain": [
       "<matplotlib.figure.Figure at 0x114f346d0>"
      ]
     },
     "metadata": {},
     "output_type": "display_data"
    }
   ],
   "source": [
    "ans  = judge_jukes(.3,15,\"GATTACA\")\n",
    "plots.hist(ans,  bins = np.arange(-4,4,0.1), alpha =.3, color =\"blue\")\n",
    "stats = [np.amin(ans), np.amax(ans),np.std(ans), np.subtract(*np.percentile(ans, [75, 25])) ,np.median(ans)]\n",
    "print(stats)"
   ]
  },
  {
   "cell_type": "markdown",
   "metadata": {},
   "source": [
    "**Explanation:** For the first time we see an under estimate on average. Let See if we can tune alpha perfectly"
   ]
  },
  {
   "cell_type": "code",
   "execution_count": 141,
   "metadata": {
    "collapsed": false
   },
   "outputs": [
    {
     "name": "stdout",
     "output_type": "stream",
     "text": [
      "[-1.663527763378787, inf, nan, 0.69314718055994495, -0.05408985094468699]\n"
     ]
    },
    {
     "name": "stderr",
     "output_type": "stream",
     "text": [
      "/Users/alex/anaconda/lib/python2.7/site-packages/ipykernel/__main__.py:258: RuntimeWarning: divide by zero encountered in log\n"
     ]
    },
    {
     "data": {
      "image/png": "[encoded data removed]",
      "text/plain": [
       "<matplotlib.figure.Figure at 0x1146e8e10>"
      ]
     },
     "metadata": {},
     "output_type": "display_data"
    }
   ],
   "source": [
    "ans  = judge_jukes(.2,15,\"GATTACA\")\n",
    "plots.hist(ans,  bins = np.arange(-4,4,0.1), alpha =.3, color =\"blue\")\n",
    "stats = [np.amin(ans), np.amax(ans),np.std(ans), np.subtract(*np.percentile(ans, [75, 25])) ,np.median(ans)]\n",
    "print(stats)"
   ]
  },
  {
   "cell_type": "markdown",
   "metadata": {},
   "source": [
    "**Explanation:** Median is almost perfect!! :) "
   ]
  },
  {
   "cell_type": "markdown",
   "metadata": {},
   "source": [
    "## Implementations of the proposed models "
   ]
  },
  {
   "cell_type": "markdown",
   "metadata": {},
   "source": [
    "### Data Analysis Using NJ and UPGMA"
   ]
  },
  {
   "cell_type": "code",
   "execution_count": 35,
   "metadata": {
    "collapsed": false
   },
   "outputs": [
    {
     "name": "stdout",
     "output_type": "stream",
     "text": [
      "\n",
      "         /-ptd\n",
      "      /-|\n",
      "     |   \\-ctrl5\n",
      "   /-|\n",
      "  |  |      /-dnt\n",
      "  |  |   /-|\n",
      "--|   \\-|   \\-ptb\n",
      "  |     |\n",
      "  |      \\-ptc\n",
      "  |\n",
      "   \\-ctrl1\n"
     ]
    }
   ],
   "source": [
    "names = [\"dnt\", \"ptb\", \"ptc\", \"ptd\", \"ctrl1\", \"ctrl5\"]\n",
    "seqs  = [dnt, ptb, ptc, ptd, ctrl_1, ctrl_5]\n",
    "M     = JC_matrix_maker(seqs)\n",
    "tree  = UPGMA(M, names)\n",
    "print(tree)"
   ]
  },
  {
   "cell_type": "markdown",
   "metadata": {},
   "source": [
    "From just the visualization of the UPGMA tree it appears as if the dentist infected patients ba and cd but not patient D."
   ]
  },
  {
   "cell_type": "code",
   "execution_count": 36,
   "metadata": {
    "collapsed": false
   },
   "outputs": [
    {
     "name": "stdout",
     "output_type": "stream",
     "text": [
      "\n",
      "            /-dnt\n",
      "         /-|\n",
      "      /-|   \\-ptc\n",
      "     |  |\n",
      "   /-|   \\-ptb\n",
      "  |  |\n",
      "--|   \\-ptd\n",
      "  |\n",
      "  |   /-ctrl1\n",
      "   \\-|\n",
      "      \\-ctrl5\n"
     ]
    },
    {
     "name": "stderr",
     "output_type": "stream",
     "text": [
      "/Users/alex/anaconda/lib/python2.7/site-packages/ipykernel/__main__.py:102: RuntimeWarning: invalid value encountered in double_scalars\n"
     ]
    }
   ],
   "source": [
    "names = [\"dnt\", \"ptb\", \"ptc\", \"ptd\", \"ctrl1\", \"ctrl5\"]\n",
    "seqs  = [dnt, ptb, ptc, ptd, ctrl_1, ctrl_5]\n",
    "M     = JC_matrix_maker(seqs)\n",
    "tree  = neighbor_joining(M, names)\n",
    "print(tree)"
   ]
  },
  {
   "cell_type": "markdown",
   "metadata": {},
   "source": [
    "### Data Analysis Using Mutate"
   ]
  },
  {
   "cell_type": "markdown",
   "metadata": {},
   "source": []
  },
  {
   "cell_type": "code",
   "execution_count": 37,
   "metadata": {
    "collapsed": false
   },
   "outputs": [
    {
     "name": "stdout",
     "output_type": "stream",
     "text": [
      "\n",
      "                                                                              /- /-TCACTTGACAATTCTTTTCTGGGTGGGGTGGACCCAGCCAGAAGGACACGTGTTCAGTTGACCTCCGCTCGTCGCCTCCACCGCATATTGAATTCAGCACTTTCCTGGATGTGGGGGTCCTGATCCGCAGGCCACAGAGGGATCAAGCGAGCGTGTCGAGGGAGCGCAAAGGGTCCCACGCAGTATGACCATCATCGCGGTCGGGGGTCTTGCACTAAACCTGTAATGTGTAAACGAGGTAAATCGGGCCTGGTCTACCCTGTTCCTCATATGCTCCCCAACGCATATCCGGCCTCACCGTCATTGCGGCTAATAGACCCAGGGA\n",
      "                                                                           /-|\n",
      "                                                                          |   \\-ACCCTACCTGTGACTCGGTGATAATAGATGCAAGTAAGGCCGGATCCTTCCGTCTAATAAGCCCCCAGTTGAGTGTGTCCATGTGCTTGGAAAAAATCGTGCCCGCCGTCCTCCGGTAGCCCCAGGCAGTCGTATTGGAGTCCTTAAGAGGCTCACCCTTATGTGTTTATATATTATAGCCACTACACGTAGGTTGTCTCTAATCAGATTCGGTTTTGTACCTTGTTAAATTGAAAGGCACGGTGCGGTATCGAGAATTGCGTTCACAATCACGGTTGTCGTCATGCCTAGGTATTGAACAGCAGGTCTACGCCACATACTGTCC\n",
      "                                                                     /- /-|\n",
      "                                                                    |     |   /- /- /- /-CCTAGTCACTGCTACAAGACAGTCGGCGTGATCTTTGAGACGGGCAAACGTCCGGAGGTCGCTCGCTCGGGAACAGCAATTGGCTTGTAGCGAAGGATGGATGTTTTGAACCAAGAAGTGCTTAACTCAACCCGATCTGGGCTCCCCCCCCTGGCCATCTCCCCATGTTGGCGGCGTCTTTCATGGTGTATCAACTTATGAGCAAAAGGATGGGGTTAGGAGCCGGGTACGGACTCGCTCCTGATCGTGCGCTGGTGACTTCTCTTTACTGGGTAACCGGGCAAGCAATGTCAGGGGGGCTATCTCTTCAGCGAATTATGAGAAG\n",
      "                                                                    |      \\-|\n",
      "                                                                    |         \\- /-TCTGTACTTTCTGTCGGTGCGATAACCCCAATTACCAGAGGGTTCTGGAGTAACTATGGCCCCCGCCACCCTGTCGGCGTCGTCACGCGCTCTTGTGCCTAATTACGGCGTGTACTGTGAGAATCCGCACCCCCTGTAGAGCAATTGGGCGGATATCGGGAGCCGCGCCTCATTAAGATATACAGTAACGAACTTAGACCTCTGGGATAAGGCTCGTGTCACAACTTATTCGAGTGCTTTAGGACCAGTGGCAGGATCCAGCTGAGCATAAAGTTAGCGGTCGCTCTCATGAATTCCTACACCCGAGGTGCTAAGTGTAGAGGCG\n",
      "                                                               /- /-|\n",
      "                                                              |     |      /-TGGATACAACGATGGTGCCCCTTTTGAACAAGACGAGCGGGCTAAGTCCATTGGGTGAGTTCCCCTCGCAAGGAAGACCACGCTGCGCCTAAAGAAGCGGCAACTGAGTGGAAGATGACTTGCACAGTGATGGTGCCTCAGTACTCAGATTTAGTCGGGTAGAAGGTCACACTTTGAGCGGGTTAACTGCTTGGGAACTAGCGACGTGGGGAAAGACTCGACTATGGAAACGGATAGGTTATGGTGATCTCCAACCCATTAGCGCTTACATACTGATTCGCGCTAGGAAGATCTGAAAGGTAAATAAGAGGTTACCTGCGGGTTA\n",
      "                                                              |     |     |\n",
      "                                                              |     |     |            /-CATGGTCGCATTACTGGCCTATAAATCCCTTGCTACCCCGTAGAGGAGGAGAGTTGATTGACCGCTAGGACGAGGTCGCAATGAGCAGGGATCGAATGTAATATACTTTTAGCGGCCCCCAGACCGGCGCCCACGTTAAAACGTTCTTTTATCGTTCGATAGCAAGGGCCCCTCAGGTGACGTCCACATTCTAAGTTAGGGTTTCTCGGAACGCGCGTCTCAGCATAACAGGTACCTCCTTAAATAGGTGTACGATCTAGCCGGCGGGATGTCTAAGTTTTTTTTTCTTATATCAACTAGCAGTAGACGCCTCACGACTCCAACT\n",
      "                                                              |      \\- /-|      /- /-|\n",
      "                                                              |           |     |      \\- /- /- /- /- /- /-CTACCGACTTCGTTAACGTACTGCGATTGCTAGATGGCGACAGTCACCTGTAATTTTTGCTCGTACTAGACACCTATCAAGGATAGTAATGATGGCGTGTAGGAACCAGTGGTCGTTATCCAGGCATACAAGTGAAGTCGCATTCATAACAAAATTCTATGGAGCATGTCAACATAACAGTACTTAGCCGGTATTGGAAACCATACGAGCCGCATTACCGAATTAAACGCTCCAGCACAGTTATCGCTTGGGTAGATTCTGTAGGGGCTGGCAAGGAGACGTTCCGACGAGCACTACAAATCGAGTTTACCTCCGGATAGGCCCG\n",
      "                                                              |           |     |\n",
      "                                                              |            \\- /-|                     /-GTAGAATAGGCTCAGAAGTTTACCCCTTCTACGCCGGGAACGGGTCGCGGCATGCAGGGTTCCGAATGGAGACGAAAATCTTTCTCAATAAATATCTGGTGTGGGACGGACAGCTATTTCGACTTGGTATGAAACTACAGGTTCGAAGGCCCCCCTTATACATGTTCATATCGGTGGTCCATGCATTCGTTGAGCTGACTTCCCATGCATATGAGGTAGATGGAAGGTCATCTGTTTGGCGTATAGTAACCTGGCATCCGTTAGGCACGTGATCTCAGAATTTTAGGAGCTTGATAAAGGAAGTAGACTTATGACCGCAAATAGG\n",
      "                                                         /- /-|                 |               /- /-|\n",
      "                                                        |     |                 |      /- /- /-|      \\- /- /-CGCAATACAACCGTTGCCGAGATCACACCTTCTCGGGCTGTTGACAATGGCTCGAACCCTCTGGAATATTGTGTCAAAACTATCTCGGCCGCACCCTGAGATCGCCAACGCACCTACACGTAATTTAGTTCTGCGCTCGGACGCTTACATGACTGTTAAAGCTCACTAAGCGAACGATGTGTATCAGTATCGATGTCCGCCAAACGATACCCTGAGTCAACGCCGACTATTGTGGATACGCGTCGTTACGACGCGTCGACTTAGTTGTGACGAGGGAGACTTGCTTGTAACCCGAAGAGTACCTCTAGCGCCTATTGCATTTCTT\n",
      "                                                        |     |                 |     |        |\n",
      "                                                        |     |                  \\- /-|         \\-GTTCAGTGTGAAGTAGTACAATACCACGCCTCCGGTTTTGAGGCAGCTATTTGATGACTCGTTGTGACAAGTACTTGAGGTCACCCATGATCCGGTCAACACCTCCGCACCTTCACCTACTCTGTTGCTTAGCACTCATTTCATAGATAATCTGGAGTCACTTACAACGAAGGAGGCAGCTGAGCATGACCCTGGTGAGGAAACGAAAAATATGATTTTATACTAACTACCGAACTATCGTCATCATGCCATGGTGACACATCTCTCTCTCCGTGCATAACACGATCACTAGAATGCGGAAGAATGCTGGAACTAACTCCTTAGA\n",
      "                                                        |     |                       |\n",
      "                                                      /-|     |                       |               /- /-TTTTTCCGCATAGCGTCCGCTAGATACGACTAGAATTAACAACCAGTCGACCGCTTTCTGCTTTCTGCGGTAAGTCTCCCAGAAAATGACGCTAGCGACGCGATCTCGGTTTTCGCAAGGTTAGCCCGTACCGCCCATGTATAGCATTTACTGCAAATTACAAAGGTTCTTCGCGAGGAGCCTACTCGTCCCTTCCCAATAGGGTGGTCTAATAGTTATGAAAGGATTCCCTGCATGAACGGCTTCCTGTCTTCTCTAGCCTAGGGGATCAAGCTGTTCTACTTACTCGGCTTATGCTAAGTCTGAAAGGTTTGTGGCGACTTGA\n",
      "                                                     |  |     |                        \\- /- /- /- /-|\n",
      "                                                     |  |     |                                       \\- /- /- /- /- /- /- /-GGGTAACACTGTCGATCGGAAGAATATCAGGTTCTCGCTTGTATCACCACTGAACTGTTAGGGTGTAGTTTGAGCCTCTTTACCGGGGCACTCTAAAAGTAGGTGGCTGTAAGGTCCACAAACTGAAGGGGCCGAGTTTGGGGACGATCGGCGTTATTCCAACCAAAATTGTTGTGAGAGTAAGAGGAAATCCGCTGCTTACCTTGTCTCAGTGAGCACTGCATGGTATCCGTAGATTCTAGCAGGTTGACCCAATAGCACAAGGTGGCGGCTGCCTGTCTGTGGGGTTGACTACTAATTATCCCTGCAAGACGTGAGTAAAGTT\n",
      "                                                     |  |     |\n",
      "                                                   /-|  |      \\- /- /- /- /-TAGTAGTCTTGCATAGACTTGAGGTTTAACATTACATATTCTAAACGATGATTATGCAGTAAGTGCGACAGAGGAGACCACTTTAAGGATCTATGTAAACAGAGACGTCAGGGCTACATCGCATGGGATACGATGCTCCACCACGTTCAATCAGGGTACGCTTAGTACTAAAAGATATGTACCCTAGATCTATAGCGCATACCAGGTTTTGTTACTGTTACCATAATCGAATGAGTTCTCGGATCCTTCGTACTTTGACATACTTAGAGTCTCCACACTTGTTTGTTTATCAGCTACAACTTATAGAAAGGAGTGACACTTCTGG\n",
      "                                                  |  |  |\n",
      "                                                  |  |   \\- /- /-GCAACCCTCCGCTCACCATGGGATCATTGTTGAAGCCGCATATCCAGCACACGAGCATAACCTCTTAACTTGTGGCCGAGCCACAGAGCTAGCCGAGCACATTATTTGTTGCCTCGCTTACAGATACAGTACCCCTCGAGTATTACCCACAATCCATGTTTCTCTTCTCAGAGCTAGCGGAATCGTACAGACCGGGTGAAGAAGGAGATCTTTGATGATTCGTAGAAGGGTACTTTAACCACATATAGCACAGAAACTAATCGTCGTCGCTGGCAGCCCACAATCGAAGGAATAATAGCTATCTGAGCTATATGGGTACTACAAA\n",
      "                                          /- /- /-|  |\n",
      "                                         |        |   \\- /- /- /-TCTACCTATAGACAAGCTGGAGACCGCGTACGGCTGTTGGAACCACCTTAATCCATCTATTTATTGCCCTAAACCATACATTCACCCAGAGATCGCTGCTTTAATCAGCTCTACTGCACGACATCACCATGCCTGAGTAGCAGTCACTATTAGCCCCTTACCTTGGTAATTGCGTGAATCTACAGAGCGTTCGGCACCTAGCTGCGTCTTGAAAACGATACATTCACAAAGAGAGACGCTCGAGACGGGTCATCATAAACAATAGACGACGTCTATACAGTCACGAAGAGAAGTAGAACTCCGGGAAATGGGACCCAGGAGTACT\n",
      "                                         |        |\n",
      "                                         |         \\- /- /- /- /- /- /- /-GATTGCACACGCGACTATAGGCGTGCCTATTATGTGCCCAGTAAATTCTCAGAGTAGATAGAGGCTTCATGGTATCACTAAGGTTCCTTTCCGATTACGCTACCACTATGGCCAGCATTAATGTAAAGGAAAACACTATTCATCCCATGATGTAAGCTACTGCTATCAGATGTCATTGTCACTATTTCTCAGCAATTGCCGTCCTGCTTGCATAGAGACTTTAAATCAGTGAGTACGATGAAAGTGCGCTTTAGATCTGGCTTGCAGTGTCTAACTTTGCGTATCGGTCTCAGAAGGCAGTCGTGTTTCGCAAACCCGAATCAGT\n",
      "                                         |\n",
      "                                         |               /- /-TCTGCCGATGGACTATCCCCAGAACTTTCGTGCAACTAAGCCTTCTAATACTGAGATACTAAGGAAGGTTCCTCCTGCCTTTCCGGACGCTAAGTCTGATGGGTTGAGCAAAGAACGGCCGAAGACTTCCGACGTCCAGCACTCTTCCAACGGGACGATACGGGTCGTTTCAACTCTCGATTGAATTAGTAAAAGGACGAACTACATAAATCCCAGGTGATCATGTGTCCGTGGTCTACTAACCCCGCAATGGACTCGTTGACGATCGGTCGGCTCTGCCCGCCATTCCTATGTGCGGAAAGAGAGCCTCGATTGGCCCCCCGTG\n",
      "                                         |            /-|\n",
      "                                         |           |  |      /-ACCCGTTGCCGCCCGCCAGTATTTTTGGATTATGGGTATGGACTCTTAGATACGTCCGTCTTCGGTAAGCGCCCTTTCACGTGGGCCGTGCCAATATAGCGCTAAGGTAGCAAGTTCGTATAGGGACGACAATGGCGCAGAGAACGTATCTTAGCGACTAGGTCGATACCATTTCCCCTCGGAGTCCGCCACGTTCGGCACGGCTTGTGCTTAGCCGTGGCCGGGAACCCGGGTGCCAGCAGTCTTTGAGTGTGGCAGGACTAACTTTCTAAGCGCGGTCATTTTACTATGATGTAATCCTAACCCCACCTGGGCGCGGCGACTT\n",
      "                                         |           |   \\- /-|\n",
      "                                         |           |         \\- /- /- /-GGCCTCCGTGAAACTCCCTTCCATGGTTTCTGTCCCACCTACAAGGTCATCACGTACAGGACCTCTTAGCTAGATAGAGTCATTGCAAATAAACGCACCCGGGGGTACTATAAGCAGAACACCGTTTTAGACAGGCAGCGCGAATTCCTCAGCCACAGGTATTCGGTCCCGCATAGACAGAACGGGTACCTGATGCGTATTCTCGCTCTAGCACCAAAGTCCGCGTTCTCTGGTAATGAATCCTAAGTTTGGACTGTATTAAGGACGCCAAAGGTCATGACGCGGGGCAGCGTCGCATACTATACAATAGATCAGCTATGGGTGC\n",
      "                        /- /- /- /- /- /-|           |\n",
      "                       |                 |         /-|   /-GAGATAATTAATGGCTATTCCGCGTCATTCGTGCCATGGCGGCTTTTCCCATAGCCTCTCGAAACTGTTCAGAAGTGAACTGCTCTTTACATAGCCACTCGACGACGGCACGCCCACTGAAGGATACTTATGGTTCCGCCGCGGCCTAAGTCAACTTAGGTAAGGAAAGACGCGCATTTGGATCTTTGGCCCGGCGGTTTATACTCGGTAAGATTATAAAATCTTCCGCCTAACCTTATAGGAACACCCACGCGCGGTTTCGAGCAGGATTCAGGACCCAACTTGTGATCTGGAAATGCGAGTAACGGACTGAATATCCTATGGG\n",
      "                       |                 |        |  |  |\n",
      "                       |                 |        |  |  |            /-GGCTCTGCGATTTAAACTCCGGTGTAATATTATGCCGTCGAGAGTCCGCACTCCTCACTTTAGCCGTTGAAGCTGCCCCATACTACGTGGTCTGAATGCTTGCGCTTGCGGGCAGGGGTGCACCGCTCGCTGACAACACTTCAGCGCCTCTGCACAGCATAAACGTCACAAGCGTACTCCGATACACGCCATTCAATTCTAGTCTAATTGGAACCCTAGATCCCCTGAGCGGCTCCCAGTAGCTGACGTCCTGCGCGAGGGTGGTGTGCGCACGTAGCATCCTAGACCGTTGCCTGCACCATCACATTCAAACTTAATACAGTCC\n",
      "                       |                 |        |  |  |           |\n",
      "                       |                 |        |  |  |           |                     /- /- /- /- /-GCTATAGATAGTATCGATAATCTTATTAGTATCTTATGCGACTTTCCTGCTCACTCAGTTCGGTTCAGGACCGATTTCCGCTTCGCGCCGCTATCATGGGACATAGCCTGCACCTCATTGAGCTTTGCCCGTGGTCGGCCAGTACATTCACTCTGATTAGGCCTCGTGCCTAGAATTTCTGTCAAGTCGACGATGGCTACCACAGCATTGAGAACAACCTTTTTCCGCTTAGCTGCCGAAGACAATCGGTAAACTAATCTGCCACCTCCATAGACGCTTCCGGGTAAATCAACACCTCCGTTGATATAAGCATCAATCCTTGTCT\n",
      "                       |                 |        |   \\-|           |         /- /- /- /-|\n",
      "                       |                 |        |     |   /- /- /-|        |            \\-CGGTTACATACAGTAGTAACTCCTTTATGACCGTCGTGAACGACACAGAAATCTTGATGCTTGCCACGTGATCCGTCGCCCAGATTGATAATTCTCAGCATGTTACAATGTCGGTATTGAAAGCAAATACTGCTGATTCAGTCAGCCACGCACAACCCATTTTAAGCATGCAGGCTAGCACACGGCCCCCAGCAAAGGCAAAACCGGAAACGTGCCAACTGATACGCCTGCCCTTGCTGTAGGCCCCTACTTGCGGGCTAGAACGAACGTTGGCTGGGAGGTAACGGAGCGAAAGGACGTTACCGCGAACGATCCCGGTATGCTC\n",
      "                       |                 |        |     |  |        |      /-|\n",
      "                       |                 |        |     |  |        |     |  |   /- /- /-CCCGCGAATAACAAGCTGTCCGTGCTATCTGTGTTGTTCACACGCTTGACTGTACAGCTGTGTAAGTTATCCGTCGCCTTTGTAAGGGTAGCCAGGTGGACTGGCTTACAGACGAACATGTTAGTGTTGTAAGGACATTACGGGTACCTCCTGCGCACAGACGTGCCCTCTCAATTGACACCAAATGGCTGACAGCGCCCCTTCTCGGTTCCATATCGGTTCCATTGTATATCACTTTTTGCAATCGCGAGGAAACCCGCTTGCCAAGTACAGTTAACGCCCCTCACAACACTACATGCGACTAATCCTAAGCACCACGCATCAT\n",
      "                       |                  \\- /- /-|     |  |        |     |   \\-|\n",
      "-- /- /- /- /- /- /- /-|                          |     |  |         \\- /-|      \\- /- /-CTAACTCAAAACGGTTCAATTACAAAAACCGGAAGTGCAGGTTAGAGTCTTGGTAGCGCACTAATTGCAATCTTATTAGCGTCCGTACTTCCCGTGTTGATCATTGCTCTTTCCATATTGAGGACATAGCGTAAATGGAGCCTCAGGGGCCCCCCGTTAGTATTATGGGCACTCGACGTCATGATAACTTTTTTTAAATATTCTGTGTTACGTCTACGGCGATGAGGTCTCCTGCTAAGGACCAGGAGTGAGGAGTTCCCGTAACATTAGAGTACCGTGACCCAAGATGCAGGAGAGATCCGTTCTCATTGATGACCACAGCACG\n",
      "                       |                          |      \\-|              |\n",
      "                       |                          |        |              |      /- /- /- /- /- /-CCTTTTGTATCAATAGCCCCTATGGAGGCTATTTGCCGTGAAACCTGTCTGCTTGCAAGTCGGTCAATCGCCATTATCTCATGACCCCATTTCTCTCTTTGGAACATTAAAGCGAATTGTGTGAGTCCAGCCTAACCAGACCTACCGCTCGGATGTGGGATTATAAAAGAAGGGAAAATGTCCTGCCTTCAACAGCATCTTTGATTAACAGAAATACTGGTTATACCACACGGAAGATAGTGGTGACCCTGACTCCGGGTAGTCGCCGTGCAACACGATCTAGGCAGGGTCGACGGTTCCGGGGTTAAGCACCTCTTTACCCAAG\n",
      "                       |                          |        |               \\- /-|\n",
      "                       |                          |        |                     \\-ATCCTTCACGCTCGGGCATTTCTTCAGTAGTAAATACCTTCCTCCTCGGCTTGGTTGTTATTCGTACGGGGTCGGTGCGATCGTCATAATGTAAGTAGCACTCGGAACCCGAGACGGGGCGTCGTCCGCGCCATATGCTGGATCCTGAAACTATCGGATTTTTTCAATCTATCTAAACATTCCGTGTTGGTACGCGATGACGAAGCGATCGGATAGATTGCTGAAGAAGGAGTCAGGTGCGGCTCAACGGCTATATCGTCCAGCACCGGATTTATCGAATGCGGAGTGCTGAAGAAAGATTGTGCTTCTCTGTCACTAACCAAGA\n",
      "                       |                          |        |\n",
      "                       |                          |         \\-CCGATATTAGGCAGGAATTCGGCCCCTCACAGCTACACGTCCCTTCGCACCCTGCAATTCCATAGTCAATATAACACTCAACCGTTGTCTCTCCCTGTGTGCTCTATACAAGCTGCGCTAAACCTTCCTGATGAGTGGCGTCGCCCGAAGATTGACCGCTACGGCAACTGACTGCGCAGGACCGGTTCTCACTTACGCAATGTGAATTTATAAGGCCACGGCAGCATTAGATACCCGCCCCATTGCGAGCTTTAGACAAGTAAAATACTGGCACGAGATTCTCACTCGTCTTGAATCGCCCGTCCCCCCGTCCTCGTACCATGAT\n",
      "                       |                          |\n",
      "                       |                          |   /- /-CATTCTGAATACGGCCAGGATCCCACCGGTGATACAGATTTCACAACCGGTCTAGCTTCTTACCATAGCGCTCTGTTCGCTAGCGCTAGTTAAGCTTCGCTTCGCGGAGTACTTCGGCAATCTATACCGACTAGCAACGGTCAGGGTAGCGGGTCACGCACAATCTTATACCTTCCGATAATTGGACCATACATACTTTTGTGCAATGTTCTGACAGCTATGAAGAGATAGTAGCCCCTAAGGGTGGAGAACGCCGCTCGCGCGTCAGCCGATCAGCCATGACCCGCTACCTATTGTATCAAAGCTCAGAGCTAAAGCTCCACCA\n",
      "                       |                           \\-|\n",
      "                       |                              \\- /-CCCGTCTCCTTTGACTTGACAGCACCAGGCCGTCTAGAGCGGCCACAGTAAGACCGCGAAAAAGACTGAGGGTGCGGGCCTATAGAACTTCTACTGGACCCTCATATCCAGGGTTACGTTTTGACAGTATCGACTTCTCACGTGGACCAGAAAACCCCGCGGGCCTTCCTGTTAAGGGCTCACCACCACGTAGACGCCCTCCGAGTCGAATTCTCAGCCTAACATCAAGCCCAGATCCCCTCGATGCTACCCAGTGAAATCAACACACTTGCAGATTGCGGTCAGCGGTCGAGAGCATCCAATCTAGTATCCTCCAGGATCCCTA\n",
      "                       |\n",
      "                        \\-AGTTGATTAACATATAGATTGAGCTAGATTGTGTAGCTTTCCATCGGGATGAAGGGGCCGAGCTGGTGCATCTGGATATACGGCTGTAAGCGATCCCGGTAGACAGTACCAAGGGGACGTGTGCGGAAGGATTTATAACGGCTTAGATCAGTTATGTTGGTCTGTCTACTATCTATCCGCCTGACTCTGACGCAGGACTCATGCCCTGCTCTATTACTGTCGATTACAGTCTGGTCCTCGACTTTAAGCAACTTATGCTATCCCTACGGAGAGCGCTCCTGGATTAGCGCATCAGTGGGCGTAAAGACGTCAGTGTTGTAAGAGT\n"
     ]
    },
    {
     "data": {
      "text/plain": [
       "31"
      ]
     },
     "execution_count": 37,
     "metadata": {},
     "output_type": "execute_result"
    }
   ],
   "source": [
    "parameter = [.5]\n",
    "\n",
    "t = evolution_simulator(.3, 10000000, 10, dnt, uniform_killing, parameter, 2)\n",
    "print(t)\n",
    "len(t)"
   ]
  },
  {
   "cell_type": "markdown",
   "metadata": {},
   "source": [
    "## Conclusion"
   ]
  },
  {
   "cell_type": "code",
   "execution_count": null,
   "metadata": {
    "collapsed": true
   },
   "outputs": [],
   "source": []
  },
  {
   "cell_type": "code",
   "execution_count": null,
   "metadata": {
    "collapsed": true
   },
   "outputs": [],
   "source": []
  },
  {
   "cell_type": "code",
   "execution_count": null,
   "metadata": {
    "collapsed": true
   },
   "outputs": [],
   "source": []
  },
  {
   "cell_type": "code",
   "execution_count": null,
   "metadata": {
    "collapsed": true
   },
   "outputs": [],
   "source": []
  },
  {
   "cell_type": "code",
   "execution_count": null,
   "metadata": {
    "collapsed": true
   },
   "outputs": [],
   "source": []
  }
 ],
 "metadata": {
  "kernelspec": {
   "display_name": "Python 2",
   "language": "python",
   "name": "python2"
  },
  "language_info": {
   "codemirror_mode": {
    "name": "ipython",
    "version": 2
   },
   "file_extension": ".py",
   "mimetype": "text/x-python",
   "name": "python",
   "nbconvert_exporter": "python",
   "pygments_lexer": "ipython2",
   "version": "2.7.10"
  }
 },
 "nbformat": 4,
 "nbformat_minor": 0
}
