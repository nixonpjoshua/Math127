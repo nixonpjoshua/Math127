{
 "cells": [
  {
   "cell_type": "markdown",
   "metadata": {},
   "source": [
    "# A Exploration of Phylogentic Inference Algorithms and Distance Methods"
   ]
  },
  {
   "cell_type": "markdown",
   "metadata": {},
   "source": [
    "## Content"
   ]
  },
  {
   "cell_type": "markdown",
   "metadata": {},
   "source": [
    "1. What is phylogenetics?\n",
    "    * Introduction to problem\n",
    "    * A layman's guide to the Mathematical models and distance methods compared\n",
    "2. Implementations of the proposed models \n",
    "    1. Distance Functions\n",
    "        * Jukes Cantor\n",
    "        * Kimura-2\n",
    "        * Kimura-3\n",
    "    2. UPGMA algorithm\n",
    "    3. Neighbor Joining Algorithm\n",
    "    4. Mutate function \n",
    "3. Mathematical Explorations \n",
    "    1. Markov Chains\n",
    "        i. Computing Probabilties\n",
    "    2. Phylogenetic Distances\n",
    "        i. Kimura-2 Distance Derivation\n",
    "4. Results\n",
    "5. Conclusion"
   ]
  },
  {
   "cell_type": "markdown",
   "metadata": {},
   "source": [
    "## What is phylogenetics?"
   ]
  },
  {
   "cell_type": "markdown",
   "metadata": {},
   "source": [
    "### Introduction to the problem\n",
    "\n",
    "Phylogentics is a study of the evolutionary relationships between living organims. We are able to do this, because we assume there is some underlying evolutionary tree. In essence, it tries to determine whether you're more closely related to one group (e.g. amphibians) or another (e.g. rodents) and by how much. As reference, one group or leaf of the tree is called a taxon. To give some history of this field, in the time period around the 1820s, phylogenetic trees were built based on observed similarities such as an organism's morphology. As you can presume, this can lead to many sources of misconceptions between two scientists. Below is an example of what a phylogenetic tree looks like."
   ]
  },
  {
   "cell_type": "code",
   "execution_count": null,
   "metadata": {
    "collapsed": false
   },
   "outputs": [],
   "source": [
    "import IPython.display \n",
    "phyl = IPython.display.Image(\"http://medsocnet.ncsa.illinois.edu/MSSW/moodle/file.php?file=/evolution_tree_000.PNG\")\n",
    "phyl\n"
   ]
  },
  {
   "cell_type": "markdown",
   "metadata": {},
   "source": [
    "As science and technology advanced, we encountered the revolution in the biotechnology, that is the development of the laboratory process of genome sequencing and even the discovery of the structure of DNA. DNA, $\\textit{deoxyribonucleic acid}$, is the genetic \"blueprint\" that encodes the information used to manufcture proteins and cells needed for every facet of an organism's life. Even viruses who aren't considered \"living\", biologically, require DNA. Within these DNA sequences are strings of the letters A, T, C, and G. These \"letters\" represent nucleotides that pair to one another according to their respective chemical properties. The way in which they pair gives rise to DNA's double helix structure. Because of the uniqueness and specificity of DNA, the information retrieved from it has allowed us to make better predictions on the molecular evolution of all kinds species. Moreover, having the ancestor and progeny DNA sequences makes observing evolutionary history much clearer, since DNA is passed from parent to offspring. More specifically, this is done by observing when two sequences of the same type of DNA mutate and then using mathematical models and algorithms to construct a tree. Once complex computations are done, the algorithm yields a tree according to that model's parameters. It is important to note that using DNA sequences instead of just mere human observations does not necessarily imply accurate trees. Nonetheless, we are able to extrapolate as authentic a phylogentic tree possible given those data. Deducing an accurate tree is still an open field of research.\n",
    "\n",
    "These models create a framework in which phylogenetic distances are computed according to properties of that model. More generally, the algorithms determine how certain species are related at a certain point in the tree using distances calculated. You can think of these trees as fancy history timelines with some uncertainty. The \"distances\" calculated are the distances between two species within this tree. Each root or node of a tree represents a common ancestor; and each time some form of evolutionary event occurs, the tree branches and splits off into two or more leaves. These leaves represent taxa, which are a group of one or more organisms. As you can imagine, over time there can be as many or few leaves on a tree and not all the same lengths! In fact, there are multiple ways to calculate these distances that we explored. It is also important to realize that all these disances methods take on different assumptions and parameters in a way the final tree constructed does as well."
   ]
  },
  {
   "cell_type": "code",
   "execution_count": null,
   "metadata": {
    "collapsed": false
   },
   "outputs": [],
   "source": [
    "import IPython.display \n",
    "phyl = IPython.display.Image('http://4.bp.blogspot.com/-u9XslQrACb8/VK71Cym3zQI/AAAAAAAAAA0/DAxkKTcCKvc/s1600/markovdiag.png')\n",
    "phyl"
   ]
  },
  {
   "cell_type": "markdown",
   "metadata": {},
   "source": [
    "The diagram above is an example of the Markov Chain process. Simply put, the probabiity of the next day being \"Cloudy\", \"Rainy\", or \"Sunny\" is dependent on the weather condtions the day before and not on the many days before it. "
   ]
  },
  {
   "cell_type": "markdown",
   "metadata": {},
   "source": [
    "Unfortunately, all of the known distance methods and inference algorithms are not explored here, because of time constraints and man-effort; nonetheless, just the complexity of biology will have stumped us like it stumps the many people who are work at the forefront of this field. This is because there are a plethora of parameters that can be used to determine the distance. Furthermore, even within those parameters, there are ample biological exceptions--possibly undiscovered ones too--and spontaneous possible events that would violate those assumptions. And so, to get anywhere with trying to understand the evolutionary history of some species, presumptions that are not too harmful or unreasonable have to be made. As aforementioned, certain distance methods have distinguishing assumptions made in order to calculate said distances. Once these distances are calculated, the issue of whether the species who are closest in distance are actually evolutionary neighbors arises, since after all it can just be coincidence. Moreover, there is another dilemma being how close one group of organisms is from another group on a separate branch. It truly is a complex field. \n",
    "\n",
    "To reiterate, this project investigates a few of the many mathematical and computational techniques used to model evolution between different species. The algorithms compared were $\\textbf{UPGMA (Unweighted Pair Group Method with Arithmetic Mean)}$ and $\\textbf{Neighbor-Joining}$. These phylogenetic inference algorithms yielded trees according to evolution simulated by the $\\textbf{Jukes-Cantor model}$. Despite only modeling evolution according the Jukes-Cantor model, there are other models. All, if not a majority of these distance models, fall under the umbrella of being a modificiation of the very general DNA substitution model: the $\\textbf{Markov chain model}$. The Markov Chain models are models with the property that changes, such as the mutation of DNA, imposed on the future state of the system is dependent on only present state and not the many previous states before. Additonally, this also means the nucelotide base changes are independent of each other. Namely, the Markov model is \"forgetful\" and has no \"memory\" of the nucelotide changes that may have occurred before as influence.\n",
    "\n",
    "Phylogenetics is not just the study of the evolutionary history of various organisms. In reality, the information given by these relationsips are used to tackle practical biological problems. We explore an application of this when we attempt to determine if a dentist infected his patients with HIV given the respective sequences. More modern and pressing problems such as understanding the role and possible progression (or reduction) of noncoding DNA within differing species'genomes over time and the modeling the development of tumor cells over time. In other words, phylogenetics can be used on a smaller scale with quite critical results. In addition to the biological applications, this project explores the refinement of the phylogenetic inference algorithms and distance methods through demonstration and discussion of the striking differences between the results acquired."
   ]
  },
  {
   "cell_type": "markdown",
   "metadata": {},
   "source": [
    "### A Layman's Guide to Models for DNA Mutation\n",
    "\n",
    "There are many ways to infer phylogenetic trees. In fact, the first way is to just look in the space of trees--the number possible trees--in a taxa and then choose what best fits the data. This is impractical because of the amount of computation for say, twenty taxa, is difficult to achieve. Another fun fact: the number of trees within this space of trees can exceed the number of atoms in the universe. Insane! Though, it is difficult for compute for that many taxa, there are methods such as $\\textbf{Maximum Parsimony}$ and $\\textbf{Maximum Likelihood}$--methods we will not delve into--that use this concept to pick the most reasonable tree. The idea behind Maximum Parisomy derives from the principle of $\\textit{Occam's Razor}$ which basically states that nature wants to choose the most convenient path. What this algorithm does is assign a tree a parsimony score based on the given DNA sequences and determines what is most reasonable. Maxmimum Likelihood, on the other hand, picks a the most \"likely\" evolutionary tree given the relationships. And so, the other method is to try and build a tree that fits the data given. This is what \"distance-based methods\" are. The  distance-based method algorithms compared are UPGMA (Unweighted Pair Group Method with Arithmetic Mean) and Neighbor-Joining. We only compared two inference algorthims, but there are definitely more algorithms and distance models. For instance, in between the development of UPGMA and Neighbor-Joining, there was the $\\textbf{Fitch-Margoliash algorithm}$ that is actually quite close to Neighbor-Joining. Hence, we compared the two methods more striking in their differences. These phylogenetic inference algorithms yielded trees according to evolution simulated by the Jukes-Cantor model. Once we obtained the model for DNA mutation, we were then able to calculate possible phylogenetic distances, in other words, how closely related two sequences are.\n",
    "\n",
    "To begin, evolution was simulated using a function, $\\texttt{mutate (A, t, seq)}$ , on sample aligned DNA sequences according to whichever model for DNA mutation we chose; for example, Jukes-Cantor, Kimura-2, and Kimura-3. We used the Jukes-Cantor model. This function \"mutated\" the aforementioned sequence according to time and the individual parameters given by each model. To get a better picture, when using the function $\\texttt{mutate()}$ to simulate evolution according to the Jukes-Cantor model, Jukes-Cantor distances between the ancestor and progeny sequences were computed. Once these distances were calculated, phylogenetic inference algorithms, such as the neighbor-joining algorithm, were implemented to produce phylogenetic trees. Each algorithm evidently deduced a different tree, and those trees were compared. In addition, different trees would be constructed when the distance method used changed.\n",
    "\n",
    "#### Jukes- Cantor Model\n",
    "\n",
    "The first and simplest distance model used was the $\\textbf{Jukes-Cantor}$ model. The Jukes-Cantor model begins by assuming each site mutates independently according to a Markov chain and all bases (nucleotides) within a DNA sequence occur with equal probability: $\\frac{1}{4}$. This means the likelihood of the purine (Adenine($\\textbf{A}$) and Guanine($\\textbf{G}$) being substituted by a pyrimidine (Cytosine($\\textbf{C}$) and Thymine($\\textbf{T}$)) Lastly, it also assumes that the transition probabilities of the base substitutions are the same $\\alpha$; this is the rate at which evolution occues. You can probably recall the particulars of DNA and how certain nucleotides bond with each other due to their chemical and structural properties. The pitfall of the this assumption is that sort of substitution is highly unlikely--or at least occur with different probabilties--because of the steric hindrance and chemical properties between their molecular structures. Lastly, this model--and the other ones as well--adopts the $\\textit{molecular clock}$ assumption which presumes that DNA mutation rates of observable substitutions, $\\alpha$, are constant. Realistically, the rates may not be constant, since it has been shown that the rates can be dependent on whether DNA is noncoding or coding and can change based upon the time and location of a particular sequence within DNA. Moreover, it is not strictly true that everything evolved at the same time; some changes happen sooner than later than others, especially if you consider possilble environmental phenomena. Mathematically, the distance is given by: $$\n",
    "\\begin{equation*}\n",
    "d_{JC}(S_0, S_n) = \\frac{3}{4} \\ln (1-\\frac{4}{3}p)\n",
    "\\end{equation*}\n",
    "$$\n",
    "where $\\ S_0$ and $\\ S_n$ is the ancestor and  is the progeny sequences, respectively; and $\\textit{p}$ is the fraction of the sites changed between $\\ S_0$ and $\\ S_n$.\n",
    "Despite making many assumptions, this model was useful in that it allows preliminary estimation calculations to be made. \n",
    "\n",
    "#### Kimura-2 and Kimura-3 Models\n",
    "\n",
    "Unlike the Jukes-Cantor model, the $\\textbf{Kimura}$ models consider more than one parameter to compute the distances between ancestor and progeny DNA sequences. In addition to mutation rates, the $\\textbf{Kimura-2}$ model incorporates different transition probabilties based on the various types of biological mutations such as the rate of transitions, $\\textit{p}$, (i.e.purine $\\longleftrightarrow$ purine) and rates of transversions, $\\textit{q}$ (i.e.purine $\\longleftrightarrow$ pyrimidine). Transversions occur when a nucelotides change change from A $\\leftrightarrow$ C, A $\\leftrightarrow$ T, C $\\leftrightarrow$ G, and G $\\leftrightarrow$ T. Transitions occur when nucleotides change from A $\\leftrightarrow$ G and C $\\leftrightarrow$ T.  Mathemtically, the distance given by the Kimura-2 parameter model is:\n",
    "\n",
    "$$\n",
    "\\begin{equation*}\n",
    "d_{K2}(S_0, S_n) = \\frac{-1}{2} \\ln (1-2p-2q) - \\frac{-1}{4} \\ln (1-2q)\n",
    "\\end{equation*}\n",
    "$$\n",
    "\n",
    "where $\\ S_0$ and $\\ S_n$ is the ancestor and is the progeny sequences, respectively; and $\\textit{p}$ is the proportion of transitions(number of transitions divided by the length of the sequence and $\\textit{q}$ is the proportion of transversions(number of transversions divided by the length of the sequence).\n",
    "\n",
    "In fact, biologically, there are two types of transversions: an exchange between one-ring and two-ring structures in DNA. The $\\textbf{Kimura-3}$ model takes this into account by considering a third parameter, $\\gamma$, for the rates of two-ring transversions. Unlike the Kimura-2 model, the Kimura-3 model acknowldeges that some types of transversions occur at different rates. These transversions are split up into groups; the first accounts for changes from A $\\leftrightarrow$ C and G $\\leftrightarrow$ T, which we note as $\\gamma$ ; the other for changes from A $\\leftrightarrow$ T and C $\\leftrightarrow$ G which we note as $\\delta$. Mathematically,, the distance given by the Kimura-3 parameter model is:\n",
    "\n",
    "$$\n",
    "\\begin{equation*}\n",
    "d_{K3}(S_0, S_n) = \\frac{-1}{4} \\ln (1-2\\beta-2\\gamma) + \\ln (1-2\\beta-2\\delta) + \\ln (1-2\\gamma-2\\delta)\n",
    "\\end{equation*}\n",
    "$$\n",
    "\n",
    ",where $\\ S_0$ and $\\ S_n$ is the ancestor and  is the progeny sequences, respectively; and $\\beta$ is the proportion of transitions and $\\gamma$ is the proportion of first type of transversion and $\\delta$ is the second type of transversion as noted above.\n",
    "\n",
    "Distances between initial and final sequences were compared using both models that were used in the phylogenetic inference algorithms.\n",
    "\n",
    "#### Unweighted Pair Group Method with Arithmetic Mean (UPGMA) Algorithm\n",
    "\n",
    "The next area of adjustment is based upon the difference between two phylogenetic inference algorithms: Neighbor-Joining and UPGMA. Between the two, $\\textbf{UPGMA}$ is the much simpler one, because it makes more assumptions. These include $\\textit{molecular clock}$ assumption, which assumes a constant mutation rate $\\alpha$ of the DNA sequences. UPGMA begins by using the calculated Jukes-Cantor distances--or the distance from the Kimura-2 and Kimura-3 model--and joining the closest pair of taxa, presuming that the two closest taxa should be neighbors. In order to start building metric trees, each edge of the tree from which the temporary root was created is assumed to be weighted equally. This harks back at $\\textit{molecular clock}$ assumption. Essentially, UPGMA takes the average Jukes-Cantor distance between two sequences, creates a temporary root that is then collapsed. This temporary root is used to compute the average Jukes-Cantor distance between the new, collapsed temporary root and another sequence. This process is repeated until all sequences have neighbors. It is a naive approach, because equivalent distances are assigned to each leaf that is branced from that node. Naturally, this is not always true; however, these simplifying instructions, like the Jukes-Cantor model, allows basic models to be created and make simple predictions of the evolutionary relationships between the different species.\n",
    "\n",
    "#### Neighbor- Joining Algorithm\n",
    "\n",
    "Despite the simplicity of the UPGMA algorithm, it fails when $\\alpha$ is not constant and by necessitating that species with the smallest Jukes-Cantor distance are neighbors. This is not  always guaranteed, especially when the molecular clock assumptions fails. Hence, the $\\textbf{Neighbor-Joining}$ algorithm is implemented, since it has the criterion that the leaves of a rooted vertex guarantees that those two species are neighbors when the distance calculated is the minimum.(Sidenote: this is mathematically proven somewhere on the interweb.) Even so, neighbor-joining runs into a wall when there exists the possibility of joining two things that are not neighbors, but the distance between them are minimums. The Neightbor-Joining algorithm proceeds in much of the same way in that it takes the taxa that are at a minimum distance from each other, collapse those two temporarily, and compute the distance from that taxa to other members in the tree. Despite this, between the two algorithms, Neighbor-Joining is superior: it does not implicity use the molecular clock assumption and is accessbile over broader, larger range of data. In conclusion, this algorithm as become the optimal method of choice for constructing trees.\n"
   ]
  },
  {
   "cell_type": "markdown",
   "metadata": {
    "collapsed": true
   },
   "source": [
    "###  Libraries and Tools Used"
   ]
  },
  {
   "cell_type": "code",
   "execution_count": null,
   "metadata": {
    "collapsed": false
   },
   "outputs": [],
   "source": [
    "import numpy as np\n",
    "from scipy.io import loadmat\n",
    "from numpy import linalg as LA\n",
    "from ete3 import Tree\n",
    "import sys \n",
    "import matplotlib\n",
    "%matplotlib inline\n",
    "import matplotlib.pyplot as plots\n",
    "plots.style.use('fivethirtyeight')\n",
    "\n",
    "import pylab\n"
   ]
  },
  {
   "cell_type": "markdown",
   "metadata": {},
   "source": [
    "## Implementations of the proposed models "
   ]
  },
  {
   "cell_type": "markdown",
   "metadata": {},
   "source": [
    "### Distance Functions"
   ]
  },
  {
   "cell_type": "markdown",
   "metadata": {},
   "source": [
    "#### *Jukes-Cantor Distance*"
   ]
  },
  {
   "cell_type": "code",
   "execution_count": null,
   "metadata": {
    "collapsed": true
   },
   "outputs": [],
   "source": [
    "\"\"\"\n",
    "Constructs a Jukes Cantor transition Matrix with a specified alpha level a\n",
    "Args:\n",
    "     a: alpha level for the Jukes Cantor Matrix\n",
    "Returns:\n",
    "     Transition Matrix corresponding to the Jukes-Cantor Algorithm\n",
    "\"\"\"\n",
    "\n",
    "def JC_matrix(a):\n",
    "\n",
    "    \"\"\"\n",
    "    >>> np.trace(JC_matrix(.25))\n",
    "    3.0\n",
    "    \"\"\"\n",
    "\n",
    "    b = a/3\n",
    "    M = np.array([[1-a, b, b, b],\n",
    "                 [b, 1-a, b, b],\n",
    "                 [b, b, 1-a, b],\n",
    "                 [b, b, b, 1-a]])\n",
    "    return M\n",
    "\n",
    "\n",
    "\"\"\"\n",
    "Computes proportion of differing letters from two strings of the same size\n",
    "Args:\n",
    "    s1: string 1\n",
    "    s2: string 2 \n",
    "Returns:\n",
    "    Throws error if the strings are not of the same length\n",
    "    Else, returns proportion (in between 0 and 1) of differing letters\n",
    "\"\"\"\n",
    "\n",
    "def prop_diff(s1,s2):\n",
    "    if len(s1) != len(s2):\n",
    "        raise ValueError(\"Cannot compute compare DNA sequences of differing length\")\n",
    "    diffs = 0\n",
    "    i     = 0\n",
    "    while i < len(s1):\n",
    "        if s1[i] != s2[i]:\n",
    "            diffs += 1\n",
    "        i += 1\n",
    "    return float(diffs)/float(len(s1))\n",
    "\n",
    "\"\"\"\n",
    "Computes the JC distance between two sequences.\n",
    "Args:\n",
    "    s1: string 1\n",
    "    s2: string 2 \n",
    "Returns:\n",
    "    Throws error if the strings are not of the same length\n",
    "    Else, computes JC distance\n",
    "\"\"\"\n",
    "\n",
    "def JC_distance(s1,s2):\n",
    "    prop_diff = prop_diff(s1,s2)\n",
    "    return 1 - (np.log(1 - 4/3*prop_diff))\n",
    "\n",
    "\"\"\"\n",
    "Returns JC Matrix give sequences\n",
    "\"\"\"\n",
    "\n",
    "def JC_matrix_maker(seqs):\n",
    "  M = np.zeros((len(seqs),len(seqs)))\n",
    "  for i in xrange(len(seqs) - 1):\n",
    "    s1 = seqs[i]\n",
    "    for j in xrange(i, len(seqs)):\n",
    "      s2 = seqs[j]\n",
    "      M[i][j] = JC_distance(s1,s2)\n",
    "  return M\n"
   ]
  },
  {
   "cell_type": "markdown",
   "metadata": {},
   "source": [
    "## UPGMA  and Neighbor-Joining Algorithm"
   ]
  },
  {
   "cell_type": "code",
   "execution_count": null,
   "metadata": {
    "collapsed": true
   },
   "outputs": [],
   "source": [
    "\"\"\"\n",
    "Computes a list whose ith entry is the distance from taxa i to all of the other taxa in the distance matrix\n",
    "Args:\n",
    "    M: Upper triangular distance matrix\n",
    "Returns:\n",
    "    \"sums\" which is a list whose ith entry is the distance from taxa i to all of the other taxa in the distance matrix\n",
    "\"\"\"\n",
    "def sums_others(M):\n",
    "    size = len(M)\n",
    "    sums = np.zeros(size)\n",
    "    for i in xrange(size):\n",
    "        s = 0\n",
    "        for other in xrange(size):\n",
    "            s += M[min(other, i), max(other, i)]\n",
    "        sums[i] = s\n",
    "    return sums\n",
    "\n",
    "\"\"\"\n",
    "Computes a tuple of \"coordinates\" whose entries i and j correspond to the numbers of the two taxa that are to be joined\n",
    "Args:\n",
    "    M: Criterion matrix could be Q matrix or just a distance matrix\n",
    "Returns:\n",
    "    \"coordinates\" whose entries i and j correspond to the numbers of the two taxa that are to be joined\n",
    "\"\"\"\n",
    "def closest_neighbors(M):\n",
    "    size = len(M)\n",
    "    min = sys.maxint\n",
    "    coordinates = (0,0)\n",
    "    for i in xrange(size-1):\n",
    "        for j in xrange(i + 1, size):\n",
    "            if M[i,j] <= min:\n",
    "                min = M[i,j]\n",
    "                coordinates = (i,j)\n",
    "    return coordinates\n",
    "\n",
    "\"\"\"\n",
    "Makes Q matrix that decides what will be joined \n",
    "Args:\n",
    "    M: Upper triangular matrix\n",
    "Returns:\n",
    "    Q matrix\n",
    "\"\"\"\n",
    "def make_Q_matrix(M):\n",
    "    sums = sums_others(M)\n",
    "    N  = M.shape[0]        # number of taxa\n",
    "    Q  = np.zeros(M.shape) # matrix to be returned \n",
    "    for i in xrange(N):\n",
    "        for j in xrange(N):\n",
    "            if i < j:\n",
    "                Q[i][j] = (N-2)*M[i][j] - sums[i] - sums[j]\n",
    "    return Q\n",
    "\n",
    "\"\"\"\n",
    "Computes the subsequent Distance Entry of the UPGMA algorithm\n",
    "Args:\n",
    "    M:     the transition Matrix for the Jukes Cantor Algorithm\n",
    "    taxa1: taxa that was combined \n",
    "    taxa2: taxa that was combined \n",
    "    j:     taxa that we want to find distance to new node \n",
    "Returns:\n",
    "    new distance using from j to cherry\n",
    "\"\"\"\n",
    "def UPGMA_new_dist(M, taxa1, taxa2, j):\n",
    "    return (M[min(taxa1, j), max(taxa1, j)] + M[min(taxa2, j), max(taxa2, j)]) / 2\n",
    "\n",
    "\"\"\"\n",
    "Computes the subsequent Distance Entry of the NJ algorithm\n",
    "Args:\n",
    "    M:     the old distance matr\n",
    "    taxa1: taxa that was combined \n",
    "    taxa2: taxa that was combined \n",
    "    j:     taxa that we want to find distance to new node \n",
    "Returns:\n",
    "    new distance using from j to cherry\n",
    "\"\"\"\n",
    "def neighbor_joining_new_dist(M, taxa1, taxa2, j):\n",
    "    return (M[min(taxa1, j), max(taxa1, j)] + M[min(taxa2, j), max(taxa2, j)] - M[taxa1, taxa2])/2.0\n",
    "    \n",
    "\"\"\"\n",
    "Variety of parents_dist_functions that makes molecular clock assumption and uses arithmetic mean for edge distances from MRCA\n",
    "    M:     the old distance matr\n",
    "    taxa1: taxa that was combined \n",
    "    taxa2: taxa that was combined \n",
    "Returns:\n",
    "    tuple of size 2 entries containing arithmetic mean of taxa1 and taxa2\n",
    "\"\"\"\n",
    "def split_dist(M, taxa1, taxa2):\n",
    "    avg_dist = M[taxa1, taxa2]/2\n",
    "    return (avg_dist, avg_dist)\n",
    "\n",
    "\"\"\"\n",
    "Variety of parents_dist_functions that uses 4 point condition to create edge distances from MRCA\n",
    "    M:     the old distance matr\n",
    "    taxa1: taxa that was combined \n",
    "    taxa2: taxa that was combined \n",
    "Returns:\n",
    "    tuple of size 2 entries containing arithmetic mean of taxa1 and taxa2\n",
    "\"\"\"\n",
    "\n",
    "def neighbor_joining_parent_dist(M, taxa1, taxa2):\n",
    "    sums = sums_others(M)\n",
    "    taxa1_dist = M[taxa1, taxa2]/2.0 + (sums[taxa1] - sums[taxa2])/(2*(len(M)-2))\n",
    "    return (taxa1_dist, M[taxa1, taxa2] - taxa1_dist)\n",
    "    \n",
    "\"\"\"\n",
    "Updates Distance Matrix A reflecting the joining of taxa1 and taxa2\n",
    "Args:\n",
    "    M:           the old distance matrix\n",
    "    taxa1:       taxa that was combined \n",
    "    taxa2:       taxa that was combined \n",
    "    new_dist_fn: function that determines how we compute new distances for our distance matrix \n",
    "Returns:\n",
    "    new distance matrix\n",
    "\"\"\"\n",
    "def update_matrix(M, taxa1, taxa2, new_dist_fn):\n",
    "        size  = len(M)\n",
    "        new_size = size - 1\n",
    "        ans       = np.zeros((new_size, new_size))\n",
    "\n",
    "        # will use the 0th row and column for the new species in the matrix\n",
    "        #\n",
    "        # copies over the vales from the old matrix\n",
    "        new_row = 1\n",
    "        for i in xrange(size - 1):\n",
    "            if i != taxa1 and i != taxa2:\n",
    "                new_col = new_row + 1\n",
    "                for j in xrange(i + 1, size):\n",
    "                   if j != taxa1 and j != taxa2:\n",
    "                       ans[new_row,new_col] = M[i,j]\n",
    "                       new_col += 1\n",
    "                new_row +=1\n",
    "        \n",
    "        # compute the first row of entries\n",
    "        new_col = 1\n",
    "        for j in xrange(size):\n",
    "            if j != taxa1 and j != taxa2:\n",
    "                #exploits the fact that we have an upper triangular so col > row always\n",
    "                ans[0,new_col] = new_dist_fn(M, taxa1, taxa2, j)\n",
    "                new_col += 1\n",
    "        return ans\n",
    "\n",
    "\"\"\"\n",
    "Work horse function of the distance based methods file. \n",
    "Args:\n",
    "    M:           the old distance matrix\n",
    "    taxa1:       taxa that was combined \n",
    "    taxa2:       taxa that was combined \n",
    "    new_dist_fn: function that determines how we compute new distances for our distance matrix \n",
    "Returns:\n",
    "    new distance matrix\n",
    "\"\"\"\n",
    "\n",
    "def neighbor_based_method(M, names, closest_neighbors_fn, new_dist_fn, parent_dist_fn):\n",
    "    def search_nodes(trees ,name):\n",
    "        for tree in trees:\n",
    "            if tree.name == name:\n",
    "                return tree\n",
    "    trees = []\n",
    "    while True:\n",
    "        taxa1, taxa2 = closest_neighbors_fn(M)\n",
    "        if taxa1 > taxa2:\n",
    "            tmp = taxa1\n",
    "            taxa1 = taxa2\n",
    "            taxa1 = tmp\n",
    "        #define a new parent for the join\n",
    "        t = Tree()\n",
    "        #search for the children in trees and add them\n",
    "        A = search_nodes(trees, names[taxa1])\n",
    "        if A == None:\n",
    "            A = t.add_child(name = names[taxa1])\n",
    "        else:\n",
    "            t.add_child(A)\n",
    "            trees.remove(A)\n",
    "        B = search_nodes(trees, names[taxa2])\n",
    "        if B == None:\n",
    "            B = t.add_child(name = names[taxa2])\n",
    "        else:\n",
    "            t.add_child(B)\n",
    "            trees.remove(B)\n",
    "        #delete old taxa names and update the new name\n",
    "        new_names = [names[taxa1] + names[taxa2]]\n",
    "        del names[taxa2]\n",
    "        del names[taxa1]\n",
    "        [new_names.append(name) for name in names]\n",
    "        names = new_names\n",
    "        #create the distance between children and parent\n",
    "        A.dist, B.dist = parent_dist_fn(M, taxa1, taxa2)\n",
    "        #name the parent\n",
    "        t.name = names[0]\n",
    "        #add the new subtree\n",
    "        trees.append(t)\n",
    "\n",
    "        if len(M) <= 2:\n",
    "            break\n",
    "        M = update_matrix(M, taxa1, taxa2, new_dist_fn)\n",
    "    return trees[0]\n",
    "\n",
    "\"\"\"\n",
    "Constructs a Jukes Cantor transition Matrix with a specified alpha level a\n",
    "Args:\n",
    "     a: alpha level for the Jukes Cantor Matrix\n",
    "Returns:\n",
    "     Transition Matrix corresponding to the Jukes-Cantor Algorithm\n",
    "\"\"\"\n",
    "\n",
    "def JC_matrix(a):\n",
    "\n",
    "    \"\"\"\n",
    "    >>> np.trace(JC_matrix(.25))\n",
    "    3.0\n",
    "    \"\"\"\n",
    "\n",
    "    b = a/3\n",
    "    M = np.array([[1-a, b, b, b],\n",
    "                 [b, 1-a, b, b],\n",
    "                 [b, b, 1-a, b],\n",
    "                 [b, b, b, 1-a]])\n",
    "    return M\n",
    "\n",
    "\n",
    "\"\"\"\n",
    "Computes proportion of differing letters from two strings of the same size\n",
    "Args:\n",
    "    s1: string 1 or tokenized list\n",
    "    s2: string 2 or tokenized list\n",
    "Returns:\n",
    "    Throws error if the strings are not of the same length\n",
    "    Else, returns proportion (in between 0 and 1) of differing letters\n",
    "\"\"\"\n",
    "\n",
    "def prop_diff(s1,s2):\n",
    "    # \"\"\" LOOK curious as to why this isn't working\n",
    "    # >>> prop_diff(\"ATTGAC\",\"ATGGCC\") \n",
    "    # float(2)/float(6)  \n",
    "    # \"\"\"\n",
    "    if len(s1) != len(s2):\n",
    "        raise ValueError(\"Cannot compute compare DNA sequences of differing length\")\n",
    "    diffs = 0\n",
    "    i     = 0\n",
    "    while i < len(s1):\n",
    "        if s1[i] != s2[i]:\n",
    "            diffs += 1\n",
    "        i += 1\n",
    "    return float(diffs)/float(len(s1))\n",
    "\n",
    "\"\"\"\n",
    "Computes the JC distance between two sequences.\n",
    "Args:\n",
    "    s1: string 1\n",
    "    s2: string 2 \n",
    "Returns:\n",
    "    Throws error if the strings are not of the same length\n",
    "    Else, computes JC distance\n",
    "\"\"\"\n",
    "\n",
    "def JC_distance(s1,s2):\n",
    "    prop_diffs = prop_diff(s1,s2)\n",
    "    return 1 - (np.log(1 - 4/3*prop_diffs))\n",
    "\n",
    "\"\"\"\n",
    "Runs the UPGMA algorithm by calling neighbhor_based_method thus outputting a tree\n",
    "Args:\n",
    "    M:     the old distance matrix\n",
    "    names: list of the names of all the sequences \n",
    "Returns:\n",
    "    Tree gennerated according to the UPGMA algorithm\n",
    "\n",
    "\"\"\"\n",
    "def UPGMA(M, names):\n",
    "    return neighbor_based_method(M, names, closest_neighbors, UPGMA_new_dist, split_dist)\n",
    "\n",
    "\"\"\"\n",
    "Runs the neighbhor_joining algorithm by calling neighbhor_based_method thus outputting a tree\n",
    "Args:\n",
    "    M:     the old distance matrix\n",
    "    names: list of the names of all the sequences \n",
    "Returns:\n",
    "    Tree gennerated according to the neighbhoor joining algorithm\n",
    "\"\"\"\n",
    "def neighbor_joining(M, names):\n",
    "    return neighbor_based_method(M, names, lambda m : closest_neighbors(make_Q_matrix(m)), neighbor_joining_new_dist, neighbor_joining_parent_dist)\n"
   ]
  },
  {
   "cell_type": "markdown",
   "metadata": {
    "collapsed": true
   },
   "source": [
    "We used small examples we found online to test the algorithms."
   ]
  },
  {
   "cell_type": "code",
   "execution_count": null,
   "metadata": {
    "collapsed": false
   },
   "outputs": [],
   "source": [
    "import IPython.display \n",
    "art  = IPython.display.Image(\"http://www.southampton.ac.uk/~re1u06/teaching/upgma/upgma15.PNG\")\n",
    "art"
   ]
  },
  {
   "cell_type": "code",
   "execution_count": null,
   "metadata": {
    "collapsed": false
   },
   "outputs": [],
   "source": [
    "M = np.array([[0, 19.0,  27.0,  8.0, 33.0, 18.0 ,13.0],\n",
    "                    [0,    0,  31.0, 18.0, 36.0,  1.0, 13.0],\n",
    "                    [0,    0,   0,   26.0, 41.0, 32.0, 29.0],\n",
    "                    [0,    0,   0,      0, 31.0, 17.0, 14.0],\n",
    "                    [0,    0,   0,      0,    0, 35.0, 28.0],\n",
    "                    [0,    0,   0,      0,    0,    0, 12.0],\n",
    "                    [0,    0,   0,      0,    0,    0,   0 ]\n",
    "                     ])\n",
    "\n",
    "names = ['a', 'b', 'c', 'd','e','f','g']\n",
    "\n",
    "\n",
    "ans = neighbor_based_method(M,names, closest_neighbors, UPGMA_new_dist, split_dist)\n",
    "print(ans)"
   ]
  },
  {
   "cell_type": "code",
   "execution_count": null,
   "metadata": {
    "collapsed": false
   },
   "outputs": [],
   "source": [
    "art  = IPython.display.Image(\"http://i.imgur.com/GmsLjVW.png\")\n",
    "art"
   ]
  },
  {
   "cell_type": "markdown",
   "metadata": {},
   "source": [
    "Above we see that the proportions are correct, but the scaling factor is off slightly from the internet example"
   ]
  },
  {
   "cell_type": "markdown",
   "metadata": {},
   "source": [
    "## Mutate Function and Evolution Simulator"
   ]
  },
  {
   "cell_type": "code",
   "execution_count": null,
   "metadata": {
    "collapsed": false
   },
   "outputs": [],
   "source": [
    "\"\"\"\n",
    "Constructs a Jukes Cantor transition Matrix with a specified alpha level a\n",
    "Args:\n",
    "     a: alpha level for the Jukes Cantor Matrix\n",
    "Returns:\n",
    "     Transition Matrix corresponding to the Jukes-Cantor Algorithm\n",
    "\"\"\"\n",
    "\n",
    "def JC_matrix(a):\n",
    "    b = a/3\n",
    "    M = np.array([[1-a, b, b, b],\n",
    "                 [b, 1-a, b, b],\n",
    "                 [b, b, 1-a, b],\n",
    "                 [b, b, b, 1-a]])\n",
    "    return M\n",
    "\n",
    "\"\"\"\n",
    "    Given a character 'A' 'G' 'C' or 'T' returns number corresponding\n",
    "    to the index in whcih we need to index in our vector\n",
    "    Args:\n",
    "        nuc: character 'A' 'G' 'C' or 'T'\n",
    "    Returns:\n",
    "        number 0,1,2,3 indicatin what index to set to 1\n",
    "\"\"\"\n",
    "\n",
    "def DNA_to_position(nuc):\n",
    "    if nuc == 'A':\n",
    "        return 0\n",
    "    if nuc == 'G':\n",
    "        return 1\n",
    "    if nuc == 'C':\n",
    "        return 2\n",
    "    if nuc == 'T':\n",
    "        return 3\n",
    "\n",
    "\"\"\"\n",
    "    Given a number 0,1,2,3 returns character 'A' 'G' 'C' or 'T'\n",
    "    corresponding to the nucleic acid represented in the model\n",
    "    Args:\n",
    "        number 0,1,2,3\n",
    "    Returns:\n",
    "        character 'A' 'G' 'C' or 'T' orresponding to the\n",
    "        nucleic acid represented in the model\n",
    "\"\"\"\n",
    "\n",
    "def position_to_DNA(pos):\n",
    "    if pos == 0:\n",
    "        return 'A'\n",
    "    if pos == 1:\n",
    "        return 'G'\n",
    "    if pos == 2:\n",
    "        return 'C'\n",
    "    if pos == 3:\n",
    "        return 'T'\n",
    "\n",
    "\"\"\"\n",
    "    Mutates the DNA string seq, int t times according to the\n",
    "    Jukes-Cantor model specified by the alpha value, a\n",
    "    Args:\n",
    "        a:   alpha level for the Jukes Cantor Matrix\n",
    "        t:   number of time steps we plan to simulate\n",
    "        seq: Sequence of DNA represented as a string\n",
    "    Returns:\n",
    "        simulated descendant sequence after t time steps\n",
    "        consitently represented as a string\n",
    "\"\"\"\n",
    "\n",
    "def mutate(a, t, seq):\n",
    "    M = JC_matrix(a)\n",
    "    M = LA.matrix_power(M, t)\n",
    "    tokens = list(seq)\n",
    "    for i in xrange(len(tokens)):\n",
    "        p = np.zeros(4)\n",
    "        p[DNA_to_position(tokens[i])] = 1\n",
    "        p = np.dot(M,p)\n",
    "\n",
    "        rand= np.random.rand()\n",
    "        if rand < p[0]:\n",
    "            val = 'A'\n",
    "        elif rand < p[0]+p[1]:\n",
    "            val = 'G'\n",
    "        elif rand < p[0]+p[1]+p[2]:\n",
    "            val = 'C'\n",
    "        else:\n",
    "            val = 'T'\n",
    "        tokens[i] = val\n",
    "    return ''.join(tokens)\n",
    "\n",
    "\n",
    "\"\"\"\n",
    "Simulates Evolution of a DNA sequence with \n",
    "    a                : alpha level (mutation rate)\n",
    "    sim_time         : total time simulating\n",
    "    timestep         : timestep will dictate distance between father and son node\n",
    "    seq              : original input seqeuence\n",
    "    selectionFn      : Decides who survives from population\n",
    "    paramater        : list contating parameters to be fed into the selection fn\n",
    "    expansion_factor : multiplication factor that determines number of seqs in the population. pop_size_n = 2*pop_size_n-1 - those killed by selectionFn\n",
    "\"\"\"\n",
    "\n",
    "def evolution_simulator(a, sim_time, timestep, seq,selectionFn, paramater, expansion_factor):\n",
    "    t = Tree(name= seq)\n",
    "    def tree_helper(curr_time, t):\n",
    "        if curr_time >= sim_time - timestep:\n",
    "            return\n",
    "        pop = [t.name]*expansion_factor\n",
    "        pop = map(lambda x: mutate(a, timestep, x), pop) # Mutates everything in the population\n",
    "        pop = selectionFn(pop,parameter) # selects the survivors\n",
    "        for taxa in pop:\n",
    "            new_t = t.add_child(name = taxa)\n",
    "            new_t.dist = timestep\n",
    "            tree_helper(curr_time+timestep, new_t)\n",
    "    tree_helper(0, t)\n",
    "    return t\n",
    "\n",
    "\"\"\"\n",
    "Kills on average \"proportion\" of the population. (Uniform Distribution)\n",
    "    pop       : population of sequnces that Uniform Killing decides whether or not to kill\n",
    "    parameter : parameter of uniform distribution (i.e. on average how many will survive)\n",
    "\"\"\"\n",
    "def uniform_killing(pop, parameter):\n",
    "    # filter keeps seqeunces less than proportion\n",
    "    proportion = parameter[0]\n",
    "    return filter(lambda y: np.random.rand() < proportion, pop)\n"
   ]
  },
  {
   "cell_type": "markdown",
   "metadata": {},
   "source": [
    "### Mutate as a test for the accuraccy of Jukes Cantor"
   ]
  },
  {
   "cell_type": "markdown",
   "metadata": {},
   "source": [
    "We used mutate() to simulate evolution according to the Jukes Cantor model on\n",
    "a suitable starting sequence. The Jukes Cantor distance was then computed\n",
    "between the final sequence and the initial sequence and subsequently compared\n",
    "to the actual distance. By doing this, we were able to answer the question of what effects does varying the parameters (Jukes-Cantor parameter and time) have."
   ]
  },
  {
   "cell_type": "markdown",
   "metadata": {},
   "source": [
    "### Small alpha, varying time"
   ]
  },
  {
   "cell_type": "code",
   "execution_count": null,
   "metadata": {
    "collapsed": false
   },
   "outputs": [],
   "source": [
    "\"\"\"\n",
    "Judges the quality of Jukes Cantor ov\n",
    "    anc       : ancestor sequence\n",
    "    diff      : actual difference between descendant and ancestor\n",
    "    parameter : parameter of uniform distribution (i.e. on average how many will survive)\n",
    "\"\"\"\n",
    "def judge_jukes(alpha,reps,ancs):    \n",
    "    ans  = np.zeros(100) # this should give significant enough dat\n",
    "    for i in xrange(100): # this should give significant enough data\n",
    "        desc   = mutate(alpha,reps,ancs)\n",
    "        ans[i] = JC_distance(desc,ancs) -(reps*alpha)\n",
    "    return ans"
   ]
  },
  {
   "cell_type": "code",
   "execution_count": null,
   "metadata": {
    "collapsed": false
   },
   "outputs": [],
   "source": [
    "ans = judge_jukes(.01,10,\"GATTACA\")\n",
    "plots.hist(ans,  bins = np.arange(-2,2,0.1), alpha =.3, color =\"blue\")\n",
    "stats = [np.amin(ans), np.amax(ans),np.std(ans), np.subtract(*np.percentile(ans, [75, 25])) ,np.median(ans)]\n",
    "print(stats)"
   ]
  },
  {
   "cell_type": "markdown",
   "metadata": {},
   "source": [
    "**Explanation:** The above picture suggests that the Jukes Cantor distance tends to over-estimate given a small string \"GATTACA\" and a low alpha value of .01. From above, we see there is a median over-estimate of 0.90000002."
   ]
  },
  {
   "cell_type": "code",
   "execution_count": null,
   "metadata": {
    "collapsed": false
   },
   "outputs": [],
   "source": [
    "ans  = judge_jukes(.01,30,\"GATTACA\")\n",
    "plots.hist(ans,  bins = np.arange(-2,2,0.1), alpha =.3, color =\"blue\")\n",
    "stats = [np.amin(ans), np.amax(ans),np.std(ans), np.subtract(*np.percentile(ans, [75, 25])) ,np.median(ans)]\n",
    "print(stats)"
   ]
  },
  {
   "cell_type": "markdown",
   "metadata": {},
   "source": [
    "**Explanation:** The above picture suggests that the Jukes Cantor distance tends to over-estimate a bit more when we slightly increase the difference in the generations."
   ]
  },
  {
   "cell_type": "code",
   "execution_count": null,
   "metadata": {
    "collapsed": false
   },
   "outputs": [],
   "source": [
    "ans  = judge_jukes(.01,100,\"GATTACA\")\n",
    "plots.hist(ans,  bins = np.arange(-2,2,0.1), alpha =.3, color =\"blue\")\n",
    "stats = [np.amin(ans), np.amax(ans),np.std(ans), np.subtract(*np.percentile(ans, [75, 25])) ,np.median(ans)]\n",
    "print(stats)"
   ]
  },
  {
   "cell_type": "markdown",
   "metadata": {},
   "source": [
    "**Explanation:** The Jukes Cantor distance is still on average an over-estimate, but if we run the cell again repeatedly, we start to see some under-estimate values"
   ]
  },
  {
   "cell_type": "markdown",
   "metadata": {},
   "source": [
    "### Varying alpha, consistent time-steps = 15"
   ]
  },
  {
   "cell_type": "code",
   "execution_count": null,
   "metadata": {
    "collapsed": false
   },
   "outputs": [],
   "source": [
    "ans  = judge_jukes(.01,15,\"GATTACA\")\n",
    "plots.hist(ans,  bins = np.arange(-2,2,0.1), alpha =.3, color =\"blue\")\n",
    "stats = [np.amin(ans), np.amax(ans),np.std(ans), np.subtract(*np.percentile(ans, [75, 25])) ,np.median(ans)]\n",
    "print(stats)"
   ]
  },
  {
   "cell_type": "markdown",
   "metadata": {},
   "source": [
    "**Explanation:** Overestimate from above graphs, this type of result was kind of to be expected"
   ]
  },
  {
   "cell_type": "code",
   "execution_count": null,
   "metadata": {
    "collapsed": false
   },
   "outputs": [],
   "source": [
    "ans  = judge_jukes(.1,15,\"GATTACA\")\n",
    "plots.hist(ans,  bins = np.arange(-2,2,0.1), alpha =.3, color =\"blue\")\n",
    "stats = [np.amin(ans), np.amax(ans),np.std(ans), np.subtract(*np.percentile(ans, [75, 25])) ,np.median(ans)]\n",
    "print(stats)"
   ]
  },
  {
   "cell_type": "markdown",
   "metadata": {},
   "source": [
    "**Explanation:** Overestimate from above graphs, already starting to get inf errors, however the variation error is very small less than one time step off. "
   ]
  },
  {
   "cell_type": "code",
   "execution_count": null,
   "metadata": {
    "collapsed": false
   },
   "outputs": [],
   "source": [
    "ans  = judge_jukes(.3,15,\"GATTACA\")\n",
    "plots.hist(ans,  bins = np.arange(-4,4,0.1), alpha =.3, color =\"blue\")\n",
    "stats = [np.amin(ans), np.amax(ans),np.std(ans), np.subtract(*np.percentile(ans, [75, 25])) ,np.median(ans)]\n",
    "print(stats)"
   ]
  },
  {
   "cell_type": "markdown",
   "metadata": {},
   "source": [
    "**Explanation:** For the first time we see an under estimate on average. Let See if we can tune alpha perfectly"
   ]
  },
  {
   "cell_type": "code",
   "execution_count": null,
   "metadata": {
    "collapsed": false
   },
   "outputs": [],
   "source": [
    "ans  = judge_jukes(.2,15,\"GATTACA\")\n",
    "plots.hist(ans,  bins = np.arange(-4,4,0.1), alpha =.3, color =\"blue\")\n",
    "stats = [np.amin(ans), np.amax(ans),np.std(ans), np.subtract(*np.percentile(ans, [75, 25])) ,np.median(ans)]\n",
    "print(stats)"
   ]
  },
  {
   "cell_type": "markdown",
   "metadata": {},
   "source": [
    "**Explanation:** Median is almost perfect!! :) "
   ]
  },
  {
   "cell_type": "markdown",
   "metadata": {},
   "source": [
    "## Applying the given dentist HIV data set"
   ]
  },
  {
   "cell_type": "code",
   "execution_count": null,
   "metadata": {
    "collapsed": false
   },
   "outputs": [],
   "source": [
    "hiv_data = loadmat('flhivdata.mat')\n",
    "\n",
    "dnt    = hiv_data[\"dnt\"][0]\n",
    "\n",
    "ctrl_1 = hiv_data[\"lc1\"][0]\n",
    "ctrl_5 = hiv_data[\"lc5\"][0]\n",
    "\n",
    "ptb    = hiv_data[\"ptb\"][0]\n",
    "ptc\t   = hiv_data[\"ptc\"][0]\n",
    "ptd    = hiv_data[\"ptd\"][0]\n",
    "\n",
    "min_len = min(len(dnt),len(ctrl_1),len(ctrl_5),len(ptb),len(ptc),len(ptd))\n",
    "\n",
    "def chop(seq):\n",
    "    ans    = min_len*[\"o\"]\n",
    "    tokens = list(seq)\n",
    "    for i in xrange(min_len):\n",
    "        ans[i] = tokens[i]\n",
    "    return ''.join(ans)\n",
    "\n",
    "dnt    = chop(dnt)\n",
    "ctrl_1 = chop(ctrl_1)\n",
    "ctrl_5 = chop(ctrl_5)\n",
    "\n",
    "ptb    = chop(ptb)\n",
    "ptc    = chop(ptc)\n",
    "ptd    = chop(ptd)"
   ]
  },
  {
   "cell_type": "markdown",
   "metadata": {},
   "source": [
    "### Data Analysis Using NJ and UPGMA"
   ]
  },
  {
   "cell_type": "code",
   "execution_count": null,
   "metadata": {
    "collapsed": false
   },
   "outputs": [],
   "source": [
    "names = [\"dnt\", \"ptb\", \"ptc\", \"ptd\", \"ctrl1\", \"ctrl5\"]\n",
    "seqs  = [dnt, ptb, ptc, ptd, ctrl_1, ctrl_5]\n",
    "M     = JC_matrix_maker(seqs)\n",
    "tree  = UPGMA(M, names)\n",
    "print(tree)"
   ]
  },
  {
   "cell_type": "markdown",
   "metadata": {},
   "source": [
    "Using our metric tree browser we see:"
   ]
  },
  {
   "cell_type": "code",
   "execution_count": null,
   "metadata": {
    "collapsed": false
   },
   "outputs": [],
   "source": [
    "art  = IPython.display.Image(\"http://i.imgur.com/IUtFvPJ.png\")\n",
    "art"
   ]
  },
  {
   "cell_type": "markdown",
   "metadata": {},
   "source": [
    "**Analysis:** From  the visualization of the UPGMA metric tree, it appears as if the dentist infected patients B and C but there is not enough evidence from the above tree that the dentist infected patient D."
   ]
  },
  {
   "cell_type": "code",
   "execution_count": null,
   "metadata": {
    "collapsed": false
   },
   "outputs": [],
   "source": [
    "# TODO: Go Over why show doesn't work go through example with Dynerman\n",
    "names = [\"dnt\", \"ptb\", \"ptc\", \"ptd\", \"ctrl1\", \"ctrl5\"]\n",
    "seqs  = [dnt, ptb, ptc, ptd, ctrl_1, ctrl_5]\n",
    "M     = JC_matrix_maker(seqs)\n",
    "tree  = neighbor_joining(M, names)\n",
    "print(tree)"
   ]
  },
  {
   "cell_type": "code",
   "execution_count": null,
   "metadata": {
    "collapsed": true
   },
   "outputs": [],
   "source": []
  },
  {
   "cell_type": "markdown",
   "metadata": {},
   "source": [
    "### Data Analysis Using Evolution Simulator"
   ]
  },
  {
   "cell_type": "markdown",
   "metadata": {},
   "source": [
    "### Setting up the Benchmark Trees"
   ]
  },
  {
   "cell_type": "code",
   "execution_count": null,
   "metadata": {
    "collapsed": false
   },
   "outputs": [],
   "source": [
    "# evolution_simulator(a, sim_time, timestep, seq,selectionFn, paramater, expansion_factor):\n",
    "trees = [Tree()]*10 #is not working \n",
    "for i in xrange(10):\n",
    "    parameter = [np.random.rand()]\n",
    "    alpha     = np.random.uniform(0,0.3)\n",
    "    t         = evolution_simulator(alpha, 100000, 10, dnt, uniform_killing, parameter, 2)\n",
    "    trees[i]  = t\n",
    "trees"
   ]
  },
  {
   "cell_type": "code",
   "execution_count": null,
   "metadata": {
    "collapsed": false
   },
   "outputs": [],
   "source": []
  },
  {
   "cell_type": "code",
   "execution_count": null,
   "metadata": {
    "collapsed": true
   },
   "outputs": [],
   "source": []
  },
  {
   "cell_type": "code",
   "execution_count": null,
   "metadata": {
    "collapsed": true
   },
   "outputs": [],
   "source": []
  },
  {
   "cell_type": "code",
   "execution_count": null,
   "metadata": {
    "collapsed": true
   },
   "outputs": [],
   "source": []
  },
  {
   "cell_type": "code",
   "execution_count": null,
   "metadata": {
    "collapsed": true
   },
   "outputs": [],
   "source": []
  },
  {
   "cell_type": "code",
   "execution_count": null,
   "metadata": {
    "collapsed": true
   },
   "outputs": [],
   "source": []
  },
  {
   "cell_type": "code",
   "execution_count": null,
   "metadata": {
    "collapsed": true
   },
   "outputs": [],
   "source": []
  },
  {
   "cell_type": "code",
   "execution_count": null,
   "metadata": {
    "collapsed": true
   },
   "outputs": [],
   "source": []
  },
  {
   "cell_type": "code",
   "execution_count": null,
   "metadata": {
    "collapsed": true
   },
   "outputs": [],
   "source": []
  },
  {
   "cell_type": "code",
   "execution_count": null,
   "metadata": {
    "collapsed": true
   },
   "outputs": [],
   "source": []
  },
  {
   "cell_type": "code",
   "execution_count": null,
   "metadata": {
    "collapsed": true
   },
   "outputs": [],
   "source": []
  },
  {
   "cell_type": "code",
   "execution_count": null,
   "metadata": {
    "collapsed": true
   },
   "outputs": [],
   "source": []
  },
  {
   "cell_type": "markdown",
   "metadata": {},
   "source": [
    "## Conclusion"
   ]
  },
  {
   "cell_type": "code",
   "execution_count": null,
   "metadata": {
    "collapsed": true
   },
   "outputs": [],
   "source": []
  },
  {
   "cell_type": "code",
   "execution_count": null,
   "metadata": {
    "collapsed": true
   },
   "outputs": [],
   "source": []
  },
  {
   "cell_type": "code",
   "execution_count": null,
   "metadata": {
    "collapsed": true
   },
   "outputs": [],
   "source": []
  },
  {
   "cell_type": "code",
   "execution_count": null,
   "metadata": {
    "collapsed": true
   },
   "outputs": [],
   "source": []
  },
  {
   "cell_type": "code",
   "execution_count": null,
   "metadata": {
    "collapsed": true
   },
   "outputs": [],
   "source": []
  }
 ],
 "metadata": {
  "kernelspec": {
   "display_name": "Python 2",
   "language": "python",
   "name": "python2"
  },
  "language_info": {
   "codemirror_mode": {
    "name": "ipython",
    "version": 2
   },
   "file_extension": ".py",
   "mimetype": "text/x-python",
   "name": "python",
   "nbconvert_exporter": "python",
   "pygments_lexer": "ipython2",
   "version": "2.7.11"
  }
 },
 "nbformat": 4,
 "nbformat_minor": 0
}
