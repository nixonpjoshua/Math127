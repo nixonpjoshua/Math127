{
 "cells": [
  {
   "cell_type": "markdown",
   "metadata": {},
   "source": [
    "# Project 1 Phylogenetics"
   ]
  },
  {
   "cell_type": "code",
   "execution_count": 41,
   "metadata": {
    "collapsed": false
   },
   "outputs": [],
   "source": [
    "import matplotlib.pyplot as plt\n",
    "import numpy as np\n",
    "import math"
   ]
  },
  {
   "cell_type": "code",
   "execution_count": 42,
   "metadata": {
    "collapsed": true
   },
   "outputs": [],
   "source": [
    "\"\"\"\n",
    "Constructs a transition Matrix with a specified alpha level a\n",
    "Args:\n",
    "     a: alpha level for the Jukes Cantor Matrix\n",
    "Returns:\n",
    "     Transition Matrix corresponding to the Jukes-Cantor Algorithm\n",
    "\"\"\"\n",
    "\n",
    "def transition_matrix(a):\n",
    "    b = a/3\n",
    "    M = np.array([[1-a, b, b, b],\n",
    "                 [b, 1-a, b, b],\n",
    "                 [b, b, 1-a, b],\n",
    "                 [b, b, b, 1-a]])\n",
    "    return M\n",
    "\n",
    "def rand_vector(n):\n",
    "    a = np.random.rand(n)\n",
    "    return a/sum(a)\n",
    "\n",
    "\"\"\"\n",
    "Finds the equilibrium point of a transition Matrix\n",
    "Args:\n",
    "    M: the transition Matrix for the Jukes Cantor Algorithm \n",
    "Returns:\n",
    "    The equilibrium point of a transition Matrix\n",
    "\"\"\"\n",
    "\n",
    "def find_eq(M):\n",
    "    D, V = np.linalg.eig(M)\n",
    "    for x in xrange(D.size):\n",
    "        if abs(D[x] - 1) < .0001:\n",
    "            return V[:, x]/sum(V[:, x])\n",
    "\n",
    "\"\"\"\n",
    "Counts the number of time steps until the Jukes-Counter Algorithm\n",
    "raches a steady state.\n",
    "Args:\n",
    "          M: the transition Matrix for the Jukes Cantor Algorithm \n",
    "        p_t: the initial probability vector specified by 4.4.3\n",
    "    epsilon: the acceptable error bound on the equilibrium value\n",
    "\n",
    "Returns:\n",
    "    Number of iterations required for the model to converge \n",
    "    to within epsilon of the equilibrium value\n",
    "\"\"\"\n",
    "def counter(epsilon, p_t, M):\n",
    "    p_eq = find_eq(M)\n",
    "    def is_within_epsilon(p_t):\n",
    "        t = True\n",
    "        for i in xrange(p_t.size):\n",
    "            t = t and abs(p_eq[i] - p_t[i]) < epsilon\n",
    "        return t\n",
    "    count = 0\n",
    "    while not is_within_epsilon(p_t):\n",
    "        p_t = M.dot(p_t)\n",
    "        count += 1\n",
    "    return count\n",
    "\n",
    "\"\"\"\n",
    "Performs simulations for all of the specific examples in problem 443\n",
    "Args:\n",
    "          p: probability vector\n",
    "Returns:\n",
    "    Number of iterations required for the model to converge \n",
    "    to within epsilon of the equilibrium value\n",
    "\"\"\"\n",
    "def problem_443(p):\n",
    "    M     = transition_matrix(.3)\n",
    "    large = counter(0.05, p, M)\n",
    "    small = counter(0.01, p, M)\n",
    "    print('------------------------------------------------------------')\n",
    "    print('number of iterations to get within epsilon = .05 is:')\n",
    "    print(large)\n",
    "    print('-------------------------------------------------------------')\n",
    "    print('number of iterations to get with epsilon = .01 is:')\n",
    "    print(small)\n",
    "    print('-------------------------------------------------------------')\n",
    "\n",
    "\n",
    "\"\"\"\n",
    "Performs simulations for a set of random probability vectors\n",
    "\n",
    "Returns:\n",
    "    Average Number of iterations required for the model to converge \n",
    "    to within epsilon of the equilibrium value\n",
    "\"\"\"\n",
    "def simulate_convergence(a, iter):\n",
    "    small = np.zeros(iter)\n",
    "    large = np.zeros(iter)\n",
    "    M     = transition_matrix(a)\n",
    "    \n",
    "    for x in xrange(iter):\n",
    "        p      = rand_vector(4)\n",
    "        large[x] = counter(0.05, p, M)\n",
    "        small[x] = counter(0.01, p, M)\n",
    "    return [small, large]"
   ]
  },
  {
   "cell_type": "markdown",
   "metadata": {},
   "source": [
    "# Problem 3a)"
   ]
  },
  {
   "cell_type": "markdown",
   "metadata": {},
   "source": [
    " How many time steps does it take to reach equillibrium for   $ p_0 = [.2,.3,.4,.1] $"
   ]
  },
  {
   "cell_type": "code",
   "execution_count": 43,
   "metadata": {
    "collapsed": false
   },
   "outputs": [
    {
     "name": "stdout",
     "output_type": "stream",
     "text": [
      "------------------------------------------------------------\n",
      "number of iterations to get within epsilon = .05 is:\n",
      "3\n",
      "-------------------------------------------------------------\n",
      "number of iterations to get with epsilon = .01 is:\n",
      "6\n",
      "-------------------------------------------------------------\n"
     ]
    }
   ],
   "source": [
    "p_0 = np.array([.2,.3,.4,.1])\n",
    "problem_443(p_0)"
   ]
  },
  {
   "cell_type": "markdown",
   "metadata": {},
   "source": [
    "# Problem 3b)"
   ]
  },
  {
   "cell_type": "markdown",
   "metadata": {},
   "source": [
    "Making other choices for $p_0$"
   ]
  },
  {
   "cell_type": "code",
   "execution_count": 44,
   "metadata": {
    "collapsed": false
   },
   "outputs": [
    {
     "name": "stdout",
     "output_type": "stream",
     "text": [
      "------------------------------------------------------------\n",
      "number of iterations to get within epsilon = .05 is:\n",
      "4\n",
      "-------------------------------------------------------------\n",
      "number of iterations to get with epsilon = .01 is:\n",
      "7\n",
      "-------------------------------------------------------------\n"
     ]
    }
   ],
   "source": [
    "p_1 = np.array([.5,.25,.25,0])\n",
    "problem_443(p_1)"
   ]
  },
  {
   "cell_type": "code",
   "execution_count": 48,
   "metadata": {
    "collapsed": false
   },
   "outputs": [
    {
     "name": "stdout",
     "output_type": "stream",
     "text": [
      "------------------------------------------------------------\n",
      "number of iterations to get within epsilon = .05 is:\n",
      "3\n",
      "-------------------------------------------------------------\n",
      "number of iterations to get with epsilon = .01 is:\n",
      "6\n",
      "-------------------------------------------------------------\n"
     ]
    }
   ],
   "source": [
    "p_2 = np.array([.45,.25,.15,.15])\n",
    "problem_443(p_2)"
   ]
  },
  {
   "cell_type": "code",
   "execution_count": 49,
   "metadata": {
    "collapsed": false
   },
   "outputs": [
    {
     "name": "stdout",
     "output_type": "stream",
     "text": [
      "------------------------------------------------------------\n",
      "number of iterations to get within epsilon = .05 is:\n",
      "5\n",
      "-------------------------------------------------------------\n",
      "number of iterations to get with epsilon = .01 is:\n",
      "8\n",
      "-------------------------------------------------------------\n"
     ]
    }
   ],
   "source": [
    "p_3 = np.array([0,.75,.125,.125])\n",
    "problem_443(p_3)"
   ]
  },
  {
   "cell_type": "markdown",
   "metadata": {},
   "source": [
    "# Problem 3c) "
   ]
  },
  {
   "cell_type": "markdown",
   "metadata": {},
   "source": [
    "Using $p_0 = [.25, .25, .25, .25]$, what do you observe? why?"
   ]
  },
  {
   "cell_type": "code",
   "execution_count": 47,
   "metadata": {
    "collapsed": false
   },
   "outputs": [
    {
     "name": "stdout",
     "output_type": "stream",
     "text": [
      "------------------------------------------------------------\n",
      "number of iterations to get within epsilon = .05 is:\n",
      "0\n",
      "-------------------------------------------------------------\n",
      "number of iterations to get with epsilon = .01 is:\n",
      "0\n",
      "-------------------------------------------------------------\n"
     ]
    }
   ],
   "source": [
    "p_0 = np.array([.25,.25,.25,.25])\n",
    "problem_443(p_0)"
   ]
  },
  {
   "cell_type": "markdown",
   "metadata": {},
   "source": [
    " ###### Explanation:"
   ]
  },
  {
   "cell_type": "code",
   "execution_count": null,
   "metadata": {
    "collapsed": true
   },
   "outputs": [],
   "source": []
  },
  {
   "cell_type": "markdown",
   "metadata": {},
   "source": [
    "# Problem 3d)"
   ]
  },
  {
   "cell_type": "markdown",
   "metadata": {},
   "source": [
    "Using $p_0 = [0,1,0,0]$ what do you observe?  What is the biologocal meaning of this $p_0$? "
   ]
  },
  {
   "cell_type": "code",
   "execution_count": 51,
   "metadata": {
    "collapsed": false
   },
   "outputs": [
    {
     "name": "stdout",
     "output_type": "stream",
     "text": [
      "------------------------------------------------------------\n",
      "number of iterations to get within epsilon = .05 is:\n",
      "6\n",
      "-------------------------------------------------------------\n",
      "number of iterations to get with epsilon = .01 is:\n",
      "9\n",
      "-------------------------------------------------------------\n"
     ]
    }
   ],
   "source": [
    "p_0 = np.array([0,1,0,0])\n",
    "problem_443(p_0)"
   ]
  },
  {
   "cell_type": "markdown",
   "metadata": {},
   "source": [
    " ###### Explanation:"
   ]
  },
  {
   "cell_type": "markdown",
   "metadata": {},
   "source": []
  },
  {
   "cell_type": "markdown",
   "metadata": {},
   "source": [
    "# Problem 4a)"
   ]
  },
  {
   "cell_type": "code",
   "execution_count": null,
   "metadata": {
    "collapsed": true
   },
   "outputs": [],
   "source": []
  },
  {
   "cell_type": "code",
   "execution_count": null,
   "metadata": {
    "collapsed": true
   },
   "outputs": [],
   "source": []
  },
  {
   "cell_type": "code",
   "execution_count": null,
   "metadata": {
    "collapsed": true
   },
   "outputs": [],
   "source": []
  },
  {
   "cell_type": "code",
   "execution_count": null,
   "metadata": {
    "collapsed": true
   },
   "outputs": [],
   "source": []
  },
  {
   "cell_type": "code",
   "execution_count": null,
   "metadata": {
    "collapsed": true
   },
   "outputs": [],
   "source": []
  },
  {
   "cell_type": "code",
   "execution_count": null,
   "metadata": {
    "collapsed": true
   },
   "outputs": [],
   "source": []
  },
  {
   "cell_type": "code",
   "execution_count": null,
   "metadata": {
    "collapsed": true
   },
   "outputs": [],
   "source": []
  },
  {
   "cell_type": "code",
   "execution_count": null,
   "metadata": {
    "collapsed": true
   },
   "outputs": [],
   "source": []
  },
  {
   "cell_type": "code",
   "execution_count": null,
   "metadata": {
    "collapsed": true
   },
   "outputs": [],
   "source": []
  }
 ],
 "metadata": {
  "kernelspec": {
   "display_name": "Python 2",
   "language": "python",
   "name": "python2"
  },
  "language_info": {
   "codemirror_mode": {
    "name": "ipython",
    "version": 2
   },
   "file_extension": ".py",
   "mimetype": "text/x-python",
   "name": "python",
   "nbconvert_exporter": "python",
   "pygments_lexer": "ipython2",
   "version": "2.7.11"
  }
 },
 "nbformat": 4,
 "nbformat_minor": 0
}
