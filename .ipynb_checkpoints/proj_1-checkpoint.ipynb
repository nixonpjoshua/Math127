{
 "cells": [
  {
   "cell_type": "markdown",
   "metadata": {},
   "source": [
    "# Project 1 Phylogenetics"
   ]
  },
  {
   "cell_type": "markdown",
   "metadata": {},
   "source": [
    "This project investigates a few of the many mathematical and computational techniques used to model evolution between different species. The algorithms compared were $\\textbf{UPGMA (Unweighted Pair Group Method with Arithmetic Mean)}$ and $\\textbf{Neighbor-Joining}$. Further, these phylogenetic inference algorithms yielded trees according to evolution simulated by these three different distance methods: the $\\textbf{Jukes-Cantor}$, $\\textbf{Kimura-2}$, and $\\textbf{Kimura-3}$ Markov models (Markov models are models  with the property that changes imposed on the future state of the system is dependent on only present state and not the many previous states before). Once possible trees were drawn, we advanced our model by using the $\\textbf{traditional parsimony}$ algorithm to calculate the parsimony cost of each given tree that was computed. By implementing a wide range of different distance methods and inference algorithms, our results can be applied towards practical biological problems such as determining if a dentist infected his patients with HIV; or towards more general problems such as understanding the role and possible progression (or reduction) of noncoding DNA within differing species' genomes over time. In addition to the biological applications, this project explored the refinement of the phylogenetic inference algorithms and distance methods through demonstration and discussion of the striking differences between the results acquired.\n",
    "\n",
    " To begin, evolution was simulated using a function, $\\texttt{mutate (A, t, seq)}$ , on sample DNA sequences. This function \"mutated\" the aforementioned sequence according to time and the individual parameters given by each distance method. For instance, when using the function $\\texttt{mutate()}$ to simulate evolution according to the Jukes-Cantor model, Jukes-Cantor distances between the ancestor and progeny sequences were computed and compared to the genuine distances for accuracy. Once these distances were calculated, phylogenetic inference algorithms, such as the neighbor-joining algorithm, were implemented to produce phylogenetic trees. These trees, like the distances, were then compared to the proven, legitimate tree. This was extended by simulating evolution according to the different distance methods and then implementing the two inference algorithms on both to get the best tree.\n",
    "\n",
    "The first and simplest mathematical model used was the $\\textbf{Jukes-Cantor}$ model. The Jukes-Cantor model begins by assuming all bases (nucleotides) within a DNA sequence occur with equal probability: $\\frac{1}{4}$. Secondly, it also assumes that the conditional probabilities of the observable base substitutions are the same. This means the likelihood of the purine (Adenine($\\textbf{A}$) and Guanine($\\textbf{G}$) being substituted by a pyrimidine (Cytosine($\\textbf{C}$) and Thymine($\\textbf{T}$)) has equal probability. The pitfall of the second assumption is that sort of substitution is highly unlikely because of the steric hindrance and chemical properties between their molecular structures. Lastly, this model--and the other ones as well--adopts the $\\textit{molecular clock}$ assumption which presumes that DNA mutation rates of observable substitutions, $\\alpha$, are constant. Realistically, the rates may not be constant, since it has been shown that the rates can be dependent on whether DNA is noncoding or coding and can change based upon the time and location of a particular sequence within DNA. Despite making many assumptions, this model was useful in that it allows preliminary estimation calculations to be made. \n",
    "\n",
    "Unlike the Jukes-Cantor model, the $\\textbf{Kimura}$ models consider more than one parameter to compute the distances between ancestor and progeny DNA sequences. In addition to mutation rates, the $\\textbf{Kimura-2}$ model incorporates different rates of transitions, $\\beta$, (e.g.purine $\\longleftrightarrow$ purine) and different rates of transversions, $\\gamma$ (e.g.purine $\\longleftrightarrow$ pyrimidine). Biologically, there are two types of transversions: an exchange between one-ring and two-ring structures.The $\\textbf{Kimura-3}$ takes this into account by considering a third parameter, $\\delta$, for the rates of two-ring transversions. Distances between initial and final sequences were compared using both models that were used in the phylogenetic inference algorithms.\n",
    "\n",
    "The next area of adjustment is based upon the difference between two phylogenetic inference algorithms: Neighbor-Joining and UPGMA. \n"
   ]
  },
  {
   "cell_type": "code",
   "execution_count": null,
   "metadata": {
    "collapsed": true
   },
   "outputs": [],
   "source": []
  }
 ],
 "metadata": {
  "kernelspec": {
   "display_name": "Python 2",
   "language": "python",
   "name": "python2"
  },
  "language_info": {
   "codemirror_mode": {
    "name": "ipython",
    "version": 2
   },
   "file_extension": ".py",
   "mimetype": "text/x-python",
   "name": "python",
   "nbconvert_exporter": "python",
   "pygments_lexer": "ipython2",
   "version": "2.7.11"
  }
 },
 "nbformat": 4,
 "nbformat_minor": 0
}
