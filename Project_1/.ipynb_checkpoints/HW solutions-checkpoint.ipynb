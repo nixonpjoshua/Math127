{
 "cells": [
  {
   "cell_type": "markdown",
   "metadata": {},
   "source": [
    "# Project 1 Phylogenetics Assigned Problems"
   ]
  },
  {
   "cell_type": "code",
   "execution_count": 57,
   "metadata": {
    "collapsed": false
   },
   "outputs": [],
   "source": [
    "# These lines do some fancy plotting magic\n",
    "import matplotlib\n",
    "%matplotlib inline\n",
    "import matplotlib.pyplot as plots\n",
    "plots.style.use('fivethirtyeight')\n",
    "\n",
    "import pylab\n",
    "\n",
    "# should check if I need this\n",
    "import numpy as np"
   ]
  },
  {
   "cell_type": "code",
   "execution_count": 58,
   "metadata": {
    "collapsed": false
   },
   "outputs": [],
   "source": [
    "\"\"\"\n",
    "Constructs a transition Matrix with a specified alpha level a\n",
    "Args:\n",
    "     a: alpha level for the Jukes Cantor Matrix\n",
    "Returns:\n",
    "     Transition Matrix corresponding to the Jukes-Cantor Algorithm\n",
    "\"\"\"\n",
    "\n",
    "def transition_matrix(a):\n",
    "    b = a/3\n",
    "    M = np.array([[1-a, b, b, b],\n",
    "                 [b, 1-a, b, b],\n",
    "                 [b, b, 1-a, b],\n",
    "                 [b, b, b, 1-a]])\n",
    "    return M\n",
    "\n",
    "def rand_vector(n):\n",
    "    a = np.random.rand(n)\n",
    "    return a/sum(a)\n",
    "\n",
    "\"\"\"\n",
    "Finds the equilibrium point of a transition Matrix\n",
    "Args:\n",
    "    M: the transition Matrix for the Jukes Cantor Algorithm \n",
    "Returns:\n",
    "    The equilibrium point of a transition Matrix\n",
    "\"\"\"\n",
    "\n",
    "def find_eq(M):\n",
    "    D, V = np.linalg.eig(M)\n",
    "    for x in xrange(D.size):\n",
    "        if abs(D[x] - 1) < .0001:\n",
    "            return V[:, x]/sum(V[:, x])\n",
    "\n",
    "\"\"\"\n",
    "Counts the number of time steps until the Jukes-Counter Algorithm\n",
    "raches a steady state.\n",
    "Args:\n",
    "          M: the transition Matrix for the Jukes Cantor Algorithm \n",
    "        p_t: the initial probability vector specified by 4.4.3\n",
    "    epsilon: the acceptable error bound on the equilibrium value\n",
    "\n",
    "Returns:\n",
    "    Number of iterations required for the model to converge \n",
    "    to within epsilon of the equilibrium value\n",
    "\"\"\"\n",
    "def counter(epsilon, p_t, M):\n",
    "    p_eq = find_eq(M)\n",
    "    def is_within_epsilon(p_t):\n",
    "        t = True\n",
    "        for i in xrange(p_t.size):\n",
    "            t = t and abs(p_eq[i] - p_t[i]) < epsilon\n",
    "        return t\n",
    "    count = 0\n",
    "    while not is_within_epsilon(p_t):\n",
    "        p_t = M.dot(p_t)\n",
    "        count += 1\n",
    "    return count\n",
    "\n",
    "\"\"\"\n",
    "Performs simulations for a set given probability vectors\n",
    "Args:\n",
    "          p:  probability vector\n",
    "          a:  mutation rate\n",
    "Returns:\n",
    "    Number of iterations required for the model to converge \n",
    "    to within epsilon of the equilibrium value\n",
    "\"\"\"\n",
    "def print_sim(p, a = .3):\n",
    "    M     = transition_matrix(a)\n",
    "    large = counter(0.05, p, M)\n",
    "    small = counter(0.01, p, M)\n",
    "    print('------------------------------------------------------------')\n",
    "    print('number of iterations to get within epsilon = .05 is:')\n",
    "    print(large)\n",
    "    print('-------------------------------------------------------------')\n",
    "    print('number of iterations to get with epsilon = .01 is:')\n",
    "    print(small)\n",
    "    print('-------------------------------------------------------------')\n",
    "\n",
    "\n",
    "def det_sim(p, eps ,a = .3):\n",
    "    M     = transition_matrix(a)\n",
    "    t     = counter(eps, p, M)\n",
    "    return t\n",
    "    \n",
    "    \n"
   ]
  },
  {
   "cell_type": "markdown",
   "metadata": {},
   "source": [
    "# Problem 4.4.3"
   ]
  },
  {
   "cell_type": "markdown",
   "metadata": {},
   "source": [
    "## Problem 4.4.3a)"
   ]
  },
  {
   "cell_type": "markdown",
   "metadata": {},
   "source": [
    " How many time steps does it take to reach equillibrium for   $ p_0 = [.2,.3,.4,.1] $"
   ]
  },
  {
   "cell_type": "code",
   "execution_count": 59,
   "metadata": {
    "collapsed": false
   },
   "outputs": [
    {
     "name": "stdout",
     "output_type": "stream",
     "text": [
      "------------------------------------------------------------\n",
      "number of iterations to get within epsilon = .05 is:\n",
      "3\n",
      "-------------------------------------------------------------\n",
      "number of iterations to get with epsilon = .01 is:\n",
      "6\n",
      "-------------------------------------------------------------\n"
     ]
    }
   ],
   "source": [
    "p_0 = np.array([.2,.3,.4,.1])\n",
    "print_sim(p_0)"
   ]
  },
  {
   "cell_type": "markdown",
   "metadata": {},
   "source": [
    "## Problem 4.4.3b)"
   ]
  },
  {
   "cell_type": "markdown",
   "metadata": {},
   "source": [
    "Making other choices for $p_0$"
   ]
  },
  {
   "cell_type": "code",
   "execution_count": 60,
   "metadata": {
    "collapsed": false
   },
   "outputs": [
    {
     "name": "stdout",
     "output_type": "stream",
     "text": [
      "------------------------------------------------------------\n",
      "number of iterations to get within epsilon = .05 is:\n",
      "4\n",
      "-------------------------------------------------------------\n",
      "number of iterations to get with epsilon = .01 is:\n",
      "7\n",
      "-------------------------------------------------------------\n"
     ]
    }
   ],
   "source": [
    "p_1 = np.array([.5,.25,.25,0])\n",
    "print_sim(p_1)"
   ]
  },
  {
   "cell_type": "code",
   "execution_count": 61,
   "metadata": {
    "collapsed": false
   },
   "outputs": [
    {
     "name": "stdout",
     "output_type": "stream",
     "text": [
      "------------------------------------------------------------\n",
      "number of iterations to get within epsilon = .05 is:\n",
      "3\n",
      "-------------------------------------------------------------\n",
      "number of iterations to get with epsilon = .01 is:\n",
      "6\n",
      "-------------------------------------------------------------\n"
     ]
    }
   ],
   "source": [
    "p_2 = np.array([.45,.25,.15,.15])\n",
    "print_sim(p_2)"
   ]
  },
  {
   "cell_type": "code",
   "execution_count": 62,
   "metadata": {
    "collapsed": false
   },
   "outputs": [
    {
     "name": "stdout",
     "output_type": "stream",
     "text": [
      "------------------------------------------------------------\n",
      "number of iterations to get within epsilon = .05 is:\n",
      "5\n",
      "-------------------------------------------------------------\n",
      "number of iterations to get with epsilon = .01 is:\n",
      "8\n",
      "-------------------------------------------------------------\n"
     ]
    }
   ],
   "source": [
    "p_3 = np.array([0,.75,.125,.125])\n",
    "print_sim(p_3)"
   ]
  },
  {
   "cell_type": "markdown",
   "metadata": {},
   "source": [
    "## Problem 4.4.3c) "
   ]
  },
  {
   "cell_type": "markdown",
   "metadata": {},
   "source": [
    "Using $p_0 = [.25, .25, .25, .25]$, what do you observe? why?"
   ]
  },
  {
   "cell_type": "code",
   "execution_count": 63,
   "metadata": {
    "collapsed": false
   },
   "outputs": [
    {
     "name": "stdout",
     "output_type": "stream",
     "text": [
      "------------------------------------------------------------\n",
      "number of iterations to get within epsilon = .05 is:\n",
      "0\n",
      "-------------------------------------------------------------\n",
      "number of iterations to get with epsilon = .01 is:\n",
      "0\n",
      "-------------------------------------------------------------\n"
     ]
    }
   ],
   "source": [
    "p_0 = np.array([.25,.25,.25,.25])\n",
    "print_sim(p_0)"
   ]
  },
  {
   "cell_type": "markdown",
   "metadata": {},
   "source": [
    " ###### Explanation:"
   ]
  },
  {
   "cell_type": "markdown",
   "metadata": {
    "collapsed": true
   },
   "source": [
    "We are already at the equillibrium state, therefore it does not take any time steps to reach equilibrium"
   ]
  },
  {
   "cell_type": "markdown",
   "metadata": {},
   "source": [
    "## Problem 4.4.3d)"
   ]
  },
  {
   "cell_type": "markdown",
   "metadata": {},
   "source": [
    "Using $p_0 = [0,1,0,0]$ what do you observe?  What is the biologocal meaning of this $p_0$? "
   ]
  },
  {
   "cell_type": "code",
   "execution_count": 70,
   "metadata": {
    "collapsed": false
   },
   "outputs": [
    {
     "name": "stdout",
     "output_type": "stream",
     "text": [
      "------------------------------------------------------------\n",
      "number of iterations to get within epsilon = .05 is:\n",
      "6\n",
      "-------------------------------------------------------------\n",
      "number of iterations to get with epsilon = .01 is:\n",
      "9\n",
      "-------------------------------------------------------------\n"
     ]
    }
   ],
   "source": [
    "p_0 = np.array([0,1,0,0])\n",
    "print_sim(p_0)"
   ]
  },
  {
   "cell_type": "markdown",
   "metadata": {},
   "source": [
    " ###### Explanation:"
   ]
  },
  {
   "cell_type": "markdown",
   "metadata": {},
   "source": [
    "I observe that it takes several more iterations (as compared to  random probability vectors) in this case. Which makes sense, since second entry of $1$ whcich biologically means that our original nucleotide is a $G$ with probability $1$"
   ]
  },
  {
   "cell_type": "markdown",
   "metadata": {},
   "source": [
    "# Problem 4.4.4)"
   ]
  },
  {
   "cell_type": "markdown",
   "metadata": {},
   "source": [
    "Investigating the effect of  varying $\\alpha$ on the behavior produced by the Jukes-Cantor matrix.\n",
    "Let $p_0 = (.2, .3 ,.4 ,.1)$ "
   ]
  },
  {
   "cell_type": "markdown",
   "metadata": {},
   "source": [
    "## Problem 4.4.4a)"
   ]
  },
  {
   "cell_type": "markdown",
   "metadata": {
    "collapsed": true
   },
   "source": [
    "Compare the behavior of the model for $ \\alpha = .03$ and $\\alpha = .06$. Forwhich value of $\\alpha$ does the model approach the equilibrium fastest?"
   ]
  },
  {
   "cell_type": "code",
   "execution_count": 71,
   "metadata": {
    "collapsed": false
   },
   "outputs": [
    {
     "name": "stdout",
     "output_type": "stream",
     "text": [
      "------------------------------------------------------------\n",
      "number of iterations to get within epsilon = .05 is:\n",
      "3\n",
      "-------------------------------------------------------------\n",
      "number of iterations to get with epsilon = .01 is:\n",
      "6\n",
      "-------------------------------------------------------------\n"
     ]
    }
   ],
   "source": [
    "p_0 = np.array([.2,.3,.4,.1])\n",
    "print_sim(p_0)"
   ]
  },
  {
   "cell_type": "code",
   "execution_count": 72,
   "metadata": {
    "collapsed": false
   },
   "outputs": [
    {
     "name": "stdout",
     "output_type": "stream",
     "text": [
      "------------------------------------------------------------\n",
      "number of iterations to get within epsilon = .05 is:\n",
      "1\n",
      "-------------------------------------------------------------\n",
      "number of iterations to get with epsilon = .01 is:\n",
      "2\n",
      "-------------------------------------------------------------\n"
     ]
    }
   ],
   "source": [
    "p_0 = np.array([.2,.3,.4,.1])\n",
    "print_sim(p_0,0.6)"
   ]
  },
  {
   "cell_type": "markdown",
   "metadata": {
    "collapsed": true
   },
   "source": [
    "The algorithm aproaches equilibrium much more quickly with the higher mutation rate of 0.6"
   ]
  },
  {
   "cell_type": "markdown",
   "metadata": {
    "collapsed": true
   },
   "source": [
    "## Problem 4.4.4b)"
   ]
  },
  {
   "cell_type": "markdown",
   "metadata": {
    "collapsed": true
   },
   "source": [
    "Does your observation in part $(a)$ hold for other initial choices of\n",
    "$p_0$?"
   ]
  },
  {
   "cell_type": "code",
   "execution_count": 73,
   "metadata": {
    "collapsed": false
   },
   "outputs": [
    {
     "data": {
      "text/plain": [
       "(array([  23.,  601.,  126.,    0.,    0.,    0.]),\n",
       " array([-0.5,  0.5,  1.5,  2.5,  3.5,  4.5,  5.5]),\n",
       " <a list of 6 Patch objects>)"
      ]
     },
     "execution_count": 73,
     "metadata": {},
     "output_type": "execute_result"
    },
    {
     "data": {
      "image/png": "[encoded data removed]",
      "text/plain": [
       "<matplotlib.figure.Figure at 0x10f121910>"
      ]
     },
     "metadata": {},
     "output_type": "display_data"
    }
   ],
   "source": [
    "n      = 750\n",
    "sims_3 = np.zeros(n)\n",
    "sims_6 = np.zeros(n)\n",
    "\n",
    "for i in xrange(n):\n",
    "    p         = rand_vector(4)\n",
    "    sims_3[i] = det_sim(p,.05,.3)\n",
    "\n",
    "for j in xrange(n):\n",
    "    p         = rand_vector(4)\n",
    "    sims_6[j] = det_sim(p,.05,.6)\n",
    "\n",
    "max_bin = max(np.amax(sims_3),np.amax(sims_6)) + 1\n",
    "\n",
    "plots.hist(sims_3,  bins = np.arange(-0.5,max_bin), alpha =.3, color =\"blue\")\n",
    "plots.hist(sims_6,  bins = np.arange(-0.5,max_bin), alpha =.3, color = \"yellow\")"
   ]
  },
  {
   "cell_type": "markdown",
   "metadata": {
    "collapsed": true
   },
   "source": [
    "From the above graph we see that the yellow bars indicate that for random probability vectors the higher mutation rate ($\\alpha$) namely $\\alpha = 0.6$ converges much more quickly than the smaller mutation rate $\\alpha = 0.3$. "
   ]
  },
  {
   "cell_type": "markdown",
   "metadata": {
    "collapsed": true
   },
   "source": [
    "## Problem 4.4.4c)"
   ]
  },
  {
   "cell_type": "markdown",
   "metadata": {
    "collapsed": true
   },
   "source": [
    "\n",
    "Explain in intuitive terms why larger values of α should result in a quicker approach to the equilibrium.\n"
   ]
  },
  {
   "cell_type": "markdown",
   "metadata": {},
   "source": [
    "**Explanation:**\n",
    "Intuitively it makes since that if the mutation rate is higher then the system will reach its equillibrium more quickly."
   ]
  },
  {
   "cell_type": "markdown",
   "metadata": {},
   "source": [
    "# Problem 4.5.12"
   ]
  },
  {
   "cell_type": "markdown",
   "metadata": {},
   "source": [
    "The Jukes-Cantor distance is an estimate of the number of mutations\n",
    "that occurred per site over the course of one sequence evolving from\n",
    "another. A simpler estimate for this number is just p, the proportion\n",
    "of sites that have changed from the initial to final sequence. Complete the following Excercises: "
   ]
  },
  {
   "cell_type": "markdown",
   "metadata": {},
   "source": [
    "## Problem 4.5.12 a)"
   ]
  },
  {
   "cell_type": "markdown",
   "metadata": {},
   "source": [
    "Explain why multiple mutations at the same site would cause p to be less reliable. Does it give an overestimate or underestimate of the true amount of mutation?"
   ]
  },
  {
   "cell_type": "markdown",
   "metadata": {},
   "source": [
    "**Explanation:**  \n",
    "$\\textit{p}$ is less reliable, because more mutations at the same site means there's a larger possibility for hidden mutations we won't be able to detect, especially if they are reversed. Thus, this gives an underestimate of the true amount of mutation.\n"
   ]
  },
  {
   "cell_type": "markdown",
   "metadata": {},
   "source": [
    "## Problem 4.5.12 b)"
   ]
  },
  {
   "cell_type": "markdown",
   "metadata": {},
   "source": [
    "Give an intuitive explanation of why, if p is relatively small, so that\n",
    "the sequences have few differences, this simpler estimate might be\n",
    "reasonable anyway."
   ]
  },
  {
   "cell_type": "markdown",
   "metadata": {},
   "source": [
    "**Explanation:**If $\\textit{p}$ is small, then this implies there were few mutations at that specific site, and thus less hidden mutations. If there are less hidden mutations, then the estimate would be pretty reasonable."
   ]
  },
  {
   "cell_type": "markdown",
   "metadata": {},
   "source": [
    "## Problem 4.5.12 c)"
   ]
  },
  {
   "cell_type": "markdown",
   "metadata": {},
   "source": [
    "Explain why part (b) is consistent with the Jukes-Cantor model. That is, explain why for small $\\textit{p}$:\n",
    "$$\n",
    "\\begin{equation*}\n",
    "\\frac{3}{4} \\ln (1-\\frac{4}{3}p) \\approx p\n",
    "\\end{equation*}\n",
    "$$\n",
    "\n",
    "by using the approximation for $ln(1 + x)$ valid for small $x$.\n"
   ]
  },
  {
   "cell_type": "markdown",
   "metadata": {},
   "source": [
    "**Explanation:** For small $\\textit{p}$, the equation holds for mutations converging to a stable distribution of base pairs which is consistent with the Jukes- Cantor model."
   ]
  },
  {
   "cell_type": "markdown",
   "metadata": {},
   "source": [
    "## Problem 4.5.12 d)"
   ]
  },
  {
   "cell_type": "markdown",
   "metadata": {},
   "source": [
    "It has been claimed that, if $\\textit{p}$ is less than $.1$, it can be used as a reasonable approximation of the Jukes-Cantor distance. Do you agree? Illustrate by graphing both"
   ]
  },
  {
   "cell_type": "code",
   "execution_count": 74,
   "metadata": {
    "collapsed": false
   },
   "outputs": [
    {
     "data": {
      "image/png": "[encoded data removed]",
      "text/plain": [
       "<matplotlib.figure.Figure at 0x10f4afd90>"
      ]
     },
     "metadata": {},
     "output_type": "display_data"
    }
   ],
   "source": [
    "# Got graphing help from stack overflow\n",
    "x = np.linspace(0,.1,100) # 100 linearly spaced numbers\n",
    "y = x - (3/4*np.log(1-4/3*x)) # computing the values of sin(x)/x\n",
    "\n",
    "# compose plot\n",
    "pylab.plot(x,y,'blue') \n",
    "pylab.show() "
   ]
  },
  {
   "cell_type": "markdown",
   "metadata": {
    "collapsed": true
   },
   "source": [
    "From the above plot of the erro we see that the error of estimating:\n",
    "$$\n",
    "\\begin{equation*}\n",
    "\\frac{3}{4} \\ln (1-\\frac{4}{3}p) \\approx p\n",
    "\\end{equation*}\n",
    "$$\n",
    "is at most 0.1"
   ]
  },
  {
   "cell_type": "markdown",
   "metadata": {},
   "source": [
    "# Problem 5.1.3) "
   ]
  },
  {
   "cell_type": "markdown",
   "metadata": {},
   "source": [
    "Draw all 3 topologically distinct unrooted bifurcating trees that could describe the relationship between 4 taxa. Then draw all 15 topologically distinct rooted bifurcating trees that could describe the relationship between 4 taxa."
   ]
  },
  {
   "cell_type": "code",
   "execution_count": 75,
   "metadata": {
    "collapsed": false
   },
   "outputs": [
    {
     "data": {
      "image/jpeg": "[encoded data removed]",
      "text/plain": [
       "<IPython.core.display.Image object>"
      ]
     },
     "execution_count": 75,
     "metadata": {},
     "output_type": "execute_result"
    }
   ],
   "source": [
    "import IPython.display \n",
    "art  = IPython.display.Image(\"http://i.imgur.com/TPbeDyl.jpg\")\n",
    "art"
   ]
  },
  {
   "cell_type": "markdown",
   "metadata": {
    "collapsed": true
   },
   "source": [
    "# Problem 5.1.7) "
   ]
  },
  {
   "cell_type": "markdown",
   "metadata": {},
   "source": [
    "Because mitochondrial DNA in humans is inherited solely from the\n",
    "mother, it can be used to construct a tree relating any number of humans\n",
    "from different ethnic groups, assuming we all descended from a single\n",
    "first human female. Depending on the clustering pattern of the ethnic\n",
    "groups, this might give insight into the physical location of this woman\n",
    "sometimes called Mitochondrial Eve.\n",
    "In (Cann et al., 1987), a work that first purported to locate Mitochondrial\n",
    "Eve in Africa, supporting the “out of Africa” theory of human\n",
    "origins, a rooted treewas constructed thatwas claimed to showthe relationships\n",
    "between $147$ individuals. How many topologically different\n",
    "trees would need to be looked at if every possibility was really examined?\n",
    "(You may need to use Stirling’s formula: $n! ∼ \\sqrt(2πnn+12e−n)$.\n",
    "Here, the symbol “∼” can be interpreted as “is approximately.”)\n",
    "See (Gibbons, 1992) for the fall-out from the difficulty of considering\n",
    "so many trees."
   ]
  },
  {
   "cell_type": "markdown",
   "metadata": {
    "collapsed": true
   },
   "source": [
    "**Computation**: Inserting stirling formula simplification into wolfram alpha we get:\n",
    "$$\n",
    "4.889821539664617634314362008881868235921712712963362... \\times 10^{296} \n",
    "$$"
   ]
  },
  {
   "cell_type": "code",
   "execution_count": null,
   "metadata": {
    "collapsed": true
   },
   "outputs": [],
   "source": []
  },
  {
   "cell_type": "code",
   "execution_count": null,
   "metadata": {
    "collapsed": true
   },
   "outputs": [],
   "source": []
  },
  {
   "cell_type": "code",
   "execution_count": null,
   "metadata": {
    "collapsed": true
   },
   "outputs": [],
   "source": []
  },
  {
   "cell_type": "code",
   "execution_count": null,
   "metadata": {
    "collapsed": true
   },
   "outputs": [],
   "source": []
  }
 ],
 "metadata": {
  "kernelspec": {
   "display_name": "Python 2",
   "language": "python",
   "name": "python2"
  },
  "language_info": {
   "codemirror_mode": {
    "name": "ipython",
    "version": 2
   },
   "file_extension": ".py",
   "mimetype": "text/x-python",
   "name": "python",
   "nbconvert_exporter": "python",
   "pygments_lexer": "ipython2",
   "version": "2.7.11"
  }
 },
 "nbformat": 4,
 "nbformat_minor": 0
}
