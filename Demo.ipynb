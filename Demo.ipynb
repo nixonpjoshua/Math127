{
 "cells": [
  {
   "cell_type": "markdown",
   "metadata": {},
   "source": [
    "# Just  a Demo to show stuff?"
   ]
  },
  {
   "cell_type": "code",
   "execution_count": 1,
   "metadata": {
    "collapsed": false
   },
   "outputs": [
    {
     "name": "stderr",
     "output_type": "stream",
     "text": [
      "/Users/alex/anaconda/lib/python2.7/site-packages/matplotlib/font_manager.py:273: UserWarning: Matplotlib is building the font cache using fc-list. This may take a moment.\n",
      "  warnings.warn('Matplotlib is building the font cache using fc-list. This may take a moment.')\n"
     ]
    }
   ],
   "source": [
    "import numpy as np\n",
    "from scipy.io import loadmat\n",
    "from numpy import linalg as LA\n",
    "from ete3 import Tree\n",
    "import sys \n",
    "import matplotlib\n",
    "%matplotlib inline\n",
    "import matplotlib.pyplot as plots\n",
    "plots.style.use('fivethirtyeight')\n",
    "\n",
    "import pylab\n",
    "\n",
    "pylab.rcParams['figure.figsize'] = (4.0, 2.0)"
   ]
  },
  {
   "cell_type": "code",
   "execution_count": 2,
   "metadata": {
    "collapsed": true
   },
   "outputs": [],
   "source": [
    "hiv_data = loadmat('flhivdata.mat')\n",
    "\n",
    "dnt    = hiv_data[\"dnt\"][0]\n",
    "\n",
    "ctrl_1 = hiv_data[\"lc1\"][0]\n",
    "ctrl_5 = hiv_data[\"lc5\"][0]\n",
    "\n",
    "ptb    = hiv_data[\"ptb\"][0]\n",
    "ptc\t   = hiv_data[\"ptc\"][0]\n",
    "ptd    = hiv_data[\"ptd\"][0]\n",
    "\n",
    "min_len = min(len(dnt),len(ctrl_1),len(ctrl_5),len(ptb),len(ptc),len(ptd))\n",
    "\n",
    "def chop(seq):\n",
    "    ans    = min_len*[\"o\"]\n",
    "    tokens = list(seq)\n",
    "    for i in xrange(min_len):\n",
    "        ans[i] = tokens[i]\n",
    "    return ''.join(ans)\n",
    "\n",
    "dnt    = chop(dnt)\n",
    "ctrl_1 = chop(ctrl_1)\n",
    "ctrl_5 = chop(ctrl_5)\n",
    "\n",
    "ptb    = chop(ptb)\n",
    "ptc    = chop(ptc)\n",
    "ptd    = chop(ptd)"
   ]
  },
  {
   "cell_type": "markdown",
   "metadata": {},
   "source": [
    "## JC Distance"
   ]
  },
  {
   "cell_type": "code",
   "execution_count": 3,
   "metadata": {
    "collapsed": true
   },
   "outputs": [],
   "source": [
    "\"\"\"\n",
    "Constructs a Jukes Cantor transition Matrix with a specified alpha level a\n",
    "Args:\n",
    "     a: alpha level for the Jukes Cantor Matrix\n",
    "Returns:\n",
    "     Transition Matrix corresponding to the Jukes-Cantor Algorithm\n",
    "\"\"\"\n",
    "\n",
    "def JC_matrix(a):\n",
    "\n",
    "    \"\"\"\n",
    "    >>> np.trace(JC_matrix(.25))\n",
    "    3.0\n",
    "    \"\"\"\n",
    "\n",
    "    b = a/3\n",
    "    M = np.array([[1-a, b, b, b],\n",
    "                 [b, 1-a, b, b],\n",
    "                 [b, b, 1-a, b],\n",
    "                 [b, b, b, 1-a]])\n",
    "    return M\n",
    "\n",
    "\"\"\"\n",
    "Computes proportion of differing letters from two strings of the same size\n",
    "Args:\n",
    "    s1: string 1\n",
    "    s2: string 2 \n",
    "Returns:\n",
    "    Throws error if the strings are not of the same length\n",
    "    Else, returns proportion (in between 0 and 1) of differing letters\n",
    "\"\"\"\n",
    "\n",
    "def prop_diff(s1,s2):\n",
    "    if len(s1) != len(s2):\n",
    "        raise ValueError(\"Cannot compute compare DNA sequences of differing length\")\n",
    "    diffs = 0\n",
    "    i     = 0\n",
    "    while i < len(s1):\n",
    "        if s1[i] != s2[i]:\n",
    "            diffs += 1\n",
    "        i += 1\n",
    "    return float(diffs)/float(len(s1))\n",
    "\n",
    "\"\"\"\n",
    "Computes the JC distance between two sequences.\n",
    "Args:\n",
    "    s1: string 1\n",
    "    s2: string 2 \n",
    "Returns:\n",
    "    Throws error if the strings are not of the same length\n",
    "    Else, computes JC distance\n",
    "\"\"\"\n",
    "\n",
    "def JC_distance(s1,s2):\n",
    "    diffs = prop_diff(s1,s2)\n",
    "    return 1 - (np.log(1 - 4/3*diffs))\n",
    "\n",
    "\"\"\"\n",
    "Returns JC Matrix give sequences\n",
    "\"\"\"\n",
    "\n",
    "def JC_matrix_maker(seqs):\n",
    "  M = np.zeros((len(seqs),len(seqs)))\n",
    "  for i in xrange(len(seqs) - 1):\n",
    "    s1 = seqs[i]\n",
    "    for j in xrange(i, len(seqs)):\n",
    "      s2 = seqs[j]\n",
    "      M[i][j] = JC_distance(s1,s2)\n",
    "  return M\n"
   ]
  },
  {
   "cell_type": "code",
   "execution_count": null,
   "metadata": {
    "collapsed": true
   },
   "outputs": [],
   "source": []
  }
 ],
 "metadata": {
  "kernelspec": {
   "display_name": "Python 2",
   "language": "python",
   "name": "python2"
  },
  "language_info": {
   "codemirror_mode": {
    "name": "ipython",
    "version": 2
   },
   "file_extension": ".py",
   "mimetype": "text/x-python",
   "name": "python",
   "nbconvert_exporter": "python",
   "pygments_lexer": "ipython2",
   "version": "2.7.10"
  }
 },
 "nbformat": 4,
 "nbformat_minor": 0
}
