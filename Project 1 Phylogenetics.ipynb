{
 "cells": [
  {
   "cell_type": "markdown",
   "metadata": {},
   "source": [
    "# Project 1 Phylogenetics"
   ]
  },
  {
   "cell_type": "markdown",
   "metadata": {},
   "source": [
    "This project investigates a few of the many mathematical and computational techniques used to model evolution between different species. The algorithms compared were $\\textbf{UPGMA (Unweighted Pair Group Method with Arithmetic Mean)}$ and $\\textbf{Neighbor-Joining}$. Further, these phylogenetic inference algorithms yielded trees according to evolution simulated by these three different distance methods: the $\\textbf{Jukes-Cantor}$, $\\textbf{Kimura-2}$, and $\\textbf{Kimura-3}$ Markov models (Markov models are models  with the property that changes imposed on the future state of the system is dependent on only present state and not the many previous states before). Once possible trees were drawn, we advanced our model by using the $\\textbf{traditional parsimony}$ algorithm to calculate the parsimony cost of each given tree that was computed. By implementing a wide range of different distance methods and inference algorithms, our results can be applied towards practical biological problems such as determining if a dentist infected his patients with HIV; or towards more general problems such as understanding the role and possible progression (or reduction) of noncoding DNA within differing species' genomes over time. In addition to the biological applications, this project explored the refinement of the phylogenetic inference algorithms and distance methods through demonstration and discussion of the striking differences between the results acquired.\n",
    "\n",
    " To begin, evolution was simulated using a function, $\\texttt{mutate (A, t, seq)}$ , on sample DNA sequences. This function \"mutated\" the aforementioned sequence according to time and the individual parameters given by each distance method. For instance, when using the function $\\texttt{mutate()}$ to simulate evolution according to the Jukes-Cantor model, Jukes-Cantor distances between the ancestor and progeny sequences were computed and compared to the genuine distances for accuracy. Once these distances were calculated, phylogenetic inference algorithms, such as the neighbor-joining algorithm, were implemented to produce phylogenetic trees. These trees, like the distances, were then compared to the proven, legitimate tree. This was extended by simulating evolution according to the different distance methods and then implementing the two inference algorithms on both to get the best tree.\n",
    "\n",
    "The first and simplest mathematical model used was the $\\textbf{Jukes-Cantor}$ model. The Jukes-Cantor model begins by assuming all bases (nucleotides) within a DNA sequence occur with equal probability: $\\frac{1}{4}$. Secondly, it also assumes that the conditional probabilities of the observable base substitutions are the same. This means the likelihood of the purine (Adenine($\\textbf{A}$) and Guanine($\\textbf{G}$) being substituted by a pyrimidine (Cytosine($\\textbf{C}$) and Thymine($\\textbf{T}$)) has equal probability. The pitfall of the second assumption is that sort of substitution is highly unlikely because of the steric hindrance and chemical properties between their molecular structures. Lastly, this model--and the other ones as well--adopts the $\\textit{molecular clock}$ assumption which presumes that DNA mutation rates of observable substitutions, $\\alpha$, are constant. Realistically, the rates may not be constant, since it has been shown that the rates can be dependent on whether DNA is noncoding or coding and can change based upon the time and location of a particular sequence within DNA. Despite making many assumptions, this model was useful in that it allows preliminary estimation calculations to be made. \n",
    "\n",
    "Unlike the Jukes-Cantor model, the $\\textbf{Kimura}$ models consider more than one parameter to compute the distances between ancestor and progeny DNA sequences. In addition to mutation rates, the $\\textbf{Kimura-2}$ model incorporates different rates of transitions, $\\beta$, (e.g.purine $\\longleftrightarrow$ purine) and different rates of transversions, $\\gamma$ (e.g.purine $\\longleftrightarrow$ pyrimidine). Biologically, there are two types of transversions: an exchange between one-ring and two-ring structures.The $\\textbf{Kimura-3}$ takes this into account by considering a third parameter, $\\delta$, for the rates of two-ring transversions. Distances between initial and final sequences were compared using both models that were used in the phylogenetic inference algorithms.\n",
    "\n",
    "The next area of adjustment is based upon the difference between two phylogenetic inference algorithms: Neighbor-Joining and UPGMA. \n"
   ]
  },
  {
   "cell_type": "code",
   "execution_count": 85,
   "metadata": {
    "collapsed": false
   },
   "outputs": [],
   "source": [
    "# These lines do some fancy plotting magic\n",
    "import matplotlib\n",
    "%matplotlib inline\n",
    "import matplotlib.pyplot as plt\n",
    "plots.style.use('fivethirtyeight')\n",
    "\n",
    "import pylab\n",
    "\n",
    "# should check if I need this\n",
    "import numpy as np"
   ]
  },
  {
   "cell_type": "code",
   "execution_count": 86,
   "metadata": {
    "collapsed": false
   },
   "outputs": [],
   "source": [
    "\"\"\"\n",
    "Constructs a transition Matrix with a specified alpha level a\n",
    "Args:\n",
    "     a: alpha level for the Jukes Cantor Matrix\n",
    "Returns:\n",
    "     Transition Matrix corresponding to the Jukes-Cantor Algorithm\n",
    "\"\"\"\n",
    "\n",
    "def transition_matrix(a):\n",
    "    b = a/3\n",
    "    M = np.array([[1-a, b, b, b],\n",
    "                 [b, 1-a, b, b],\n",
    "                 [b, b, 1-a, b],\n",
    "                 [b, b, b, 1-a]])\n",
    "    return M\n",
    "\n",
    "def rand_vector(n):\n",
    "    a = np.random.rand(n)\n",
    "    return a/sum(a)\n",
    "\n",
    "\"\"\"\n",
    "Finds the equilibrium point of a transition Matrix\n",
    "Args:\n",
    "    M: the transition Matrix for the Jukes Cantor Algorithm \n",
    "Returns:\n",
    "    The equilibrium point of a transition Matrix\n",
    "\"\"\"\n",
    "\n",
    "def find_eq(M):\n",
    "    D, V = np.linalg.eig(M)\n",
    "    for x in xrange(D.size):\n",
    "        if abs(D[x] - 1) < .0001:\n",
    "            return V[:, x]/sum(V[:, x])\n",
    "\n",
    "\"\"\"\n",
    "Counts the number of time steps until the Jukes-Counter Algorithm\n",
    "raches a steady state.\n",
    "Args:\n",
    "          M: the transition Matrix for the Jukes Cantor Algorithm \n",
    "        p_t: the initial probability vector specified by 4.4.3\n",
    "    epsilon: the acceptable error bound on the equilibrium value\n",
    "\n",
    "Returns:\n",
    "    Number of iterations required for the model to converge \n",
    "    to within epsilon of the equilibrium value\n",
    "\"\"\"\n",
    "def counter(epsilon, p_t, M):\n",
    "    p_eq = find_eq(M)\n",
    "    def is_within_epsilon(p_t):\n",
    "        t = True\n",
    "        for i in xrange(p_t.size):\n",
    "            t = t and abs(p_eq[i] - p_t[i]) < epsilon\n",
    "        return t\n",
    "    count = 0\n",
    "    while not is_within_epsilon(p_t):\n",
    "        p_t = M.dot(p_t)\n",
    "        count += 1\n",
    "    return count\n",
    "\n",
    "\"\"\"\n",
    "Performs simulations for a set given probability vectors\n",
    "Args:\n",
    "          p:  probability vector\n",
    "          a:  mutation rate\n",
    "Returns:\n",
    "    Number of iterations required for the model to converge \n",
    "    to within epsilon of the equilibrium value\n",
    "\"\"\"\n",
    "def print_sim(p, a = .3):\n",
    "    M     = transition_matrix(a)\n",
    "    large = counter(0.05, p, M)\n",
    "    small = counter(0.01, p, M)\n",
    "    print('------------------------------------------------------------')\n",
    "    print('number of iterations to get within epsilon = .05 is:')\n",
    "    print(large)\n",
    "    print('-------------------------------------------------------------')\n",
    "    print('number of iterations to get with epsilon = .01 is:')\n",
    "    print(small)\n",
    "    print('-------------------------------------------------------------')\n",
    "\n",
    "\n",
    "def det_sim(p, eps ,a = .3):\n",
    "    M     = transition_matrix(a)\n",
    "    t     = counter(eps, p, M)\n",
    "    return t\n",
    "    \n",
    "    \n"
   ]
  },
  {
   "cell_type": "markdown",
   "metadata": {},
   "source": [
    "# Problem 4.4.3"
   ]
  },
  {
   "cell_type": "markdown",
   "metadata": {},
   "source": [
    "## Problem 4.4.3a)"
   ]
  },
  {
   "cell_type": "markdown",
   "metadata": {},
   "source": [
    " How many time steps does it take to reach equillibrium for   $ p_0 = [.2,.3,.4,.1] $"
   ]
  },
  {
   "cell_type": "code",
   "execution_count": 87,
   "metadata": {
    "collapsed": false
   },
   "outputs": [
    {
     "name": "stdout",
     "output_type": "stream",
     "text": [
      "------------------------------------------------------------\n",
      "number of iterations to get within epsilon = .05 is:\n",
      "3\n",
      "-------------------------------------------------------------\n",
      "number of iterations to get with epsilon = .01 is:\n",
      "6\n",
      "-------------------------------------------------------------\n"
     ]
    }
   ],
   "source": [
    "p_0 = np.array([.2,.3,.4,.1])\n",
    "print_sim(p_0)"
   ]
  },
  {
   "cell_type": "markdown",
   "metadata": {},
   "source": [
    "## Problem 4.4.3b)"
   ]
  },
  {
   "cell_type": "markdown",
   "metadata": {},
   "source": [
    "Making other choices for $p_0$"
   ]
  },
  {
   "cell_type": "code",
   "execution_count": 88,
   "metadata": {
    "collapsed": false
   },
   "outputs": [
    {
     "name": "stdout",
     "output_type": "stream",
     "text": [
      "------------------------------------------------------------\n",
      "number of iterations to get within epsilon = .05 is:\n",
      "4\n",
      "-------------------------------------------------------------\n",
      "number of iterations to get with epsilon = .01 is:\n",
      "7\n",
      "-------------------------------------------------------------\n"
     ]
    }
   ],
   "source": [
    "p_1 = np.array([.5,.25,.25,0])\n",
    "print_sim(p_1)"
   ]
  },
  {
   "cell_type": "code",
   "execution_count": 89,
   "metadata": {
    "collapsed": false
   },
   "outputs": [
    {
     "name": "stdout",
     "output_type": "stream",
     "text": [
      "------------------------------------------------------------\n",
      "number of iterations to get within epsilon = .05 is:\n",
      "3\n",
      "-------------------------------------------------------------\n",
      "number of iterations to get with epsilon = .01 is:\n",
      "6\n",
      "-------------------------------------------------------------\n"
     ]
    }
   ],
   "source": [
    "p_2 = np.array([.45,.25,.15,.15])\n",
    "print_sim(p_2)"
   ]
  },
  {
   "cell_type": "code",
   "execution_count": 90,
   "metadata": {
    "collapsed": false
   },
   "outputs": [
    {
     "name": "stdout",
     "output_type": "stream",
     "text": [
      "------------------------------------------------------------\n",
      "number of iterations to get within epsilon = .05 is:\n",
      "5\n",
      "-------------------------------------------------------------\n",
      "number of iterations to get with epsilon = .01 is:\n",
      "8\n",
      "-------------------------------------------------------------\n"
     ]
    }
   ],
   "source": [
    "p_3 = np.array([0,.75,.125,.125])\n",
    "print_sim(p_3)"
   ]
  },
  {
   "cell_type": "markdown",
   "metadata": {},
   "source": [
    "## Problem 4.4.3c) "
   ]
  },
  {
   "cell_type": "markdown",
   "metadata": {},
   "source": [
    "Using $p_0 = [.25, .25, .25, .25]$, what do you observe? why?"
   ]
  },
  {
   "cell_type": "code",
   "execution_count": 91,
   "metadata": {
    "collapsed": false
   },
   "outputs": [
    {
     "name": "stdout",
     "output_type": "stream",
     "text": [
      "------------------------------------------------------------\n",
      "number of iterations to get within epsilon = .05 is:\n",
      "0\n",
      "-------------------------------------------------------------\n",
      "number of iterations to get with epsilon = .01 is:\n",
      "0\n",
      "-------------------------------------------------------------\n"
     ]
    }
   ],
   "source": [
    "p_0 = np.array([.25,.25,.25,.25])\n",
    "print_sim(p_0)"
   ]
  },
  {
   "cell_type": "markdown",
   "metadata": {},
   "source": [
    " ###### Explanation:"
   ]
  },
  {
   "cell_type": "code",
   "execution_count": null,
   "metadata": {
    "collapsed": true
   },
   "outputs": [],
   "source": []
  },
  {
   "cell_type": "markdown",
   "metadata": {},
   "source": [
    "## Problem 4.4.3d)"
   ]
  },
  {
   "cell_type": "markdown",
   "metadata": {},
   "source": [
    "Using $p_0 = [0,1,0,0]$ what do you observe?  What is the biologocal meaning of this $p_0$? "
   ]
  },
  {
   "cell_type": "code",
   "execution_count": 92,
   "metadata": {
    "collapsed": false
   },
   "outputs": [
    {
     "name": "stdout",
     "output_type": "stream",
     "text": [
      "------------------------------------------------------------\n",
      "number of iterations to get within epsilon = .05 is:\n",
      "6\n",
      "-------------------------------------------------------------\n",
      "number of iterations to get with epsilon = .01 is:\n",
      "9\n",
      "-------------------------------------------------------------\n"
     ]
    }
   ],
   "source": [
    "p_0 = np.array([0,1,0,0])\n",
    "print_sim(p_0)"
   ]
  },
  {
   "cell_type": "markdown",
   "metadata": {},
   "source": [
    " ###### Explanation:"
   ]
  },
  {
   "cell_type": "markdown",
   "metadata": {},
   "source": []
  },
  {
   "cell_type": "markdown",
   "metadata": {},
   "source": [
    "# Problem 4.4.4)"
   ]
  },
  {
   "cell_type": "markdown",
   "metadata": {},
   "source": [
    "Investigating the effect of  varying $\\alpha$ on the behavior produced by the Jukes-Cantor matrix.\n",
    "Let $p_0 = (.2, .3 ,.4 ,.1)$ "
   ]
  },
  {
   "cell_type": "markdown",
   "metadata": {},
   "source": [
    "## Problem 4.4.4a)"
   ]
  },
  {
   "cell_type": "markdown",
   "metadata": {
    "collapsed": true
   },
   "source": [
    "Compare the behavior of the model for $ \\alpha = .03$ and $\\alpha = .06$. Forwhich value of $\\alpha$ does the model approach the equilibrium fastest?"
   ]
  },
  {
   "cell_type": "code",
   "execution_count": 93,
   "metadata": {
    "collapsed": false
   },
   "outputs": [
    {
     "name": "stdout",
     "output_type": "stream",
     "text": [
      "------------------------------------------------------------\n",
      "number of iterations to get within epsilon = .05 is:\n",
      "3\n",
      "-------------------------------------------------------------\n",
      "number of iterations to get with epsilon = .01 is:\n",
      "6\n",
      "-------------------------------------------------------------\n"
     ]
    }
   ],
   "source": [
    "p_0 = np.array([.2,.3,.4,.1])\n",
    "print_sim(p_0)"
   ]
  },
  {
   "cell_type": "code",
   "execution_count": 94,
   "metadata": {
    "collapsed": false
   },
   "outputs": [
    {
     "name": "stdout",
     "output_type": "stream",
     "text": [
      "------------------------------------------------------------\n",
      "number of iterations to get within epsilon = .05 is:\n",
      "1\n",
      "-------------------------------------------------------------\n",
      "number of iterations to get with epsilon = .01 is:\n",
      "2\n",
      "-------------------------------------------------------------\n"
     ]
    }
   ],
   "source": [
    "p_0 = np.array([.2,.3,.4,.1])\n",
    "print_sim(p_0,0.6)"
   ]
  },
  {
   "cell_type": "markdown",
   "metadata": {
    "collapsed": true
   },
   "source": [
    "The algorithm aproaches equilibrium much more quickly with the higher mutation rate of 0.6"
   ]
  },
  {
   "cell_type": "markdown",
   "metadata": {
    "collapsed": true
   },
   "source": [
    "## Problem 4.4.4b)"
   ]
  },
  {
   "cell_type": "markdown",
   "metadata": {
    "collapsed": true
   },
   "source": [
    "Does your observation in part $(a)$ hold for other initial choices of\n",
    "$p_0$?"
   ]
  },
  {
   "cell_type": "code",
   "execution_count": 95,
   "metadata": {
    "collapsed": false
   },
   "outputs": [
    {
     "data": {
      "text/plain": [
       "(array([  13.,  613.,  124.,    0.,    0.,    0.]),\n",
       " array([-0.5,  0.5,  1.5,  2.5,  3.5,  4.5,  5.5]),\n",
       " <a list of 6 Patch objects>)"
      ]
     },
     "execution_count": 95,
     "metadata": {},
     "output_type": "execute_result"
    },
    {
     "data": {
      "image/png": "[encoded data removed]",
      "text/plain": [
       "<matplotlib.figure.Figure at 0x109ec20d0>"
      ]
     },
     "metadata": {},
     "output_type": "display_data"
    }
   ],
   "source": [
    "n      = 750\n",
    "sims_3 = np.zeros(n)\n",
    "sims_6 = np.zeros(n)\n",
    "\n",
    "for i in xrange(n):\n",
    "    p         = rand_vector(4)\n",
    "    sims_3[i] = det_sim(p,.05,.3)\n",
    "\n",
    "for j in xrange(n):\n",
    "    p         = rand_vector(4)\n",
    "    sims_6[j] = det_sim(p,.05,.6)\n",
    "\n",
    "max_bin = max(np.amax(sims_3),np.amax(sims_6)) + 1\n",
    "\n",
    "plots.hist(sims_3,  bins = np.arange(-0.5,max_bin), alpha =.3, color =\"blue\")\n",
    "plots.hist(sims_6,  bins = np.arange(-0.5,max_bin), alpha =.3, color = \"yellow\")"
   ]
  },
  {
   "cell_type": "markdown",
   "metadata": {
    "collapsed": true
   },
   "source": [
    "From the above graph we see that the yellow bars indicate that for random probability vectors the higher mutation rate ($\\alpha$) namely $\\alpha = 0.6$ converges much more quickly than the smaller mutation rate $\\alpha = 0.3$. "
   ]
  },
  {
   "cell_type": "markdown",
   "metadata": {
    "collapsed": true
   },
   "source": [
    "## Problem 4.4.4c)"
   ]
  },
  {
   "cell_type": "markdown",
   "metadata": {
    "collapsed": true
   },
   "source": [
    "\n",
    "Explain in intuitive terms why larger values of α should result in a quicker approach to the equilibrium.\n"
   ]
  },
  {
   "cell_type": "markdown",
   "metadata": {},
   "source": [
    "**Explanation:**\n",
    "Intuitively it makes since that if the mutation rate is higher then the system will reach its equillibrium more quickly."
   ]
  },
  {
   "cell_type": "markdown",
   "metadata": {},
   "source": [
    "# Problem 4.5.12"
   ]
  },
  {
   "cell_type": "markdown",
   "metadata": {},
   "source": [
    "The Jukes-Cantor distance is an estimate of the number of mutations\n",
    "that occurred per site over the course of one sequence evolving from\n",
    "another. A simpler estimate for this number is just p, the proportion\n",
    "of sites that have changed from the initial to final sequence. Complete the following Excercises: "
   ]
  },
  {
   "cell_type": "markdown",
   "metadata": {},
   "source": [
    "## Problem 4.5.12 a)"
   ]
  },
  {
   "cell_type": "markdown",
   "metadata": {},
   "source": [
    "Explain why multiple mutations at the same site would cause p to be less reliable. Does it give an overestimate or underestimate of the true amount of mutation?"
   ]
  },
  {
   "cell_type": "markdown",
   "metadata": {},
   "source": [
    "**Explanation:**  \n",
    "$\\textit{p}$ is less reliable, because more mutations at the same site means there's a larger possibility for hidden mutations we won't be able to detect, especially if they are reversed. Thus, this gives an underestimate of the true amount of mutation.\n"
   ]
  },
  {
   "cell_type": "markdown",
   "metadata": {},
   "source": [
    "## Problem 4.5.12 b)"
   ]
  },
  {
   "cell_type": "markdown",
   "metadata": {},
   "source": [
    "Give an intuitive explanation of why, if p is relatively small, so that\n",
    "the sequences have few differences, this simpler estimate might be\n",
    "reasonable anyway."
   ]
  },
  {
   "cell_type": "markdown",
   "metadata": {},
   "source": [
    "**Explanation:**If $\\textit{p}$ is small, then this implies there were few mutations at that specific site, and thus less hidden mutations. If there are less hidden mutations, then the estimate would be pretty reasonable."
   ]
  },
  {
   "cell_type": "markdown",
   "metadata": {},
   "source": [
    "## Problem 4.5.12 c)"
   ]
  },
  {
   "cell_type": "markdown",
   "metadata": {},
   "source": [
    "Explain why part (b) is consistent with the Jukes-Cantor model. That is, explain why for small $\\textit{p}$:\n",
    "$$\n",
    "\\begin{equation*}\n",
    "\\frac{3}{4} \\ln (1-\\frac{4}{3}p) \\approx p\n",
    "\\end{equation*}\n",
    "$$\n",
    "\n",
    "by using the approximation for $ln(1 + x)$ valid for small $x$.\n"
   ]
  },
  {
   "cell_type": "markdown",
   "metadata": {},
   "source": [
    "**Explanation:** For small $\\textit{p}$, the equation holds for mutations converging to a stable distribution of base pairs which is consistent with the Jukes- Cantor model."
   ]
  },
  {
   "cell_type": "markdown",
   "metadata": {},
   "source": [
    "## Problem 4.5.12 d)"
   ]
  },
  {
   "cell_type": "markdown",
   "metadata": {},
   "source": [
    "It has been claimed that, if $\\textit{p}$ is less than $.1$, it can be used as a reasonable approximation of the Jukes-Cantor distance. Do you agree? Illustrate by graphing both"
   ]
  },
  {
   "cell_type": "code",
   "execution_count": 109,
   "metadata": {
    "collapsed": false
   },
   "outputs": [
    {
     "data": {
      "image/png": "[encoded data removed]",
      "text/plain": [
       "<matplotlib.figure.Figure at 0x10d938e50>"
      ]
     },
     "metadata": {},
     "output_type": "display_data"
    },
    {
     "data": {
      "image/png": "[encoded data removed]",
      "text/plain": [
       "<matplotlib.figure.Figure at 0x10dabcad0>"
      ]
     },
     "metadata": {},
     "output_type": "display_data"
    }
   ],
   "source": [
    "x = np.linspace(0,.1,100) # 100 linearly spaced numbers\n",
    "y = 5*x # computing the values of sin(x)/x\n",
    "\n",
    "# compose plot\n",
    "pylab.plot(x,y,'blue') \n",
    "pylab.show() \n",
    "pylab.plot(x,x,'red') \n",
    "pylab.show() "
   ]
  },
  {
   "cell_type": "code",
   "execution_count": null,
   "metadata": {
    "collapsed": true
   },
   "outputs": [],
   "source": []
  },
  {
   "cell_type": "code",
   "execution_count": null,
   "metadata": {
    "collapsed": true
   },
   "outputs": [],
   "source": []
  },
  {
   "cell_type": "code",
   "execution_count": null,
   "metadata": {
    "collapsed": true
   },
   "outputs": [],
   "source": []
  }
 ],
 "metadata": {
  "kernelspec": {
   "display_name": "Python 2",
   "language": "python",
   "name": "python2"
  },
  "language_info": {
   "codemirror_mode": {
    "name": "ipython",
    "version": 2
   },
   "file_extension": ".py",
   "mimetype": "text/x-python",
   "name": "python",
   "nbconvert_exporter": "python",
   "pygments_lexer": "ipython2",
   "version": "2.7.11"
  }
 },
 "nbformat": 4,
 "nbformat_minor": 0
}
